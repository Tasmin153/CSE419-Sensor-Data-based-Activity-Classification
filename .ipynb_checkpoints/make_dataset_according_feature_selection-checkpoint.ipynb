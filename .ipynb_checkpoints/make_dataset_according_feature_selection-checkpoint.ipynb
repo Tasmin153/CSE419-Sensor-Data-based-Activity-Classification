{
 "cells": [
  {
   "cell_type": "code",
   "execution_count": 1,
   "metadata": {},
   "outputs": [],
   "source": [
    "import numpy as np\n",
    "import pandas as pd\n",
    "import matplotlib.pyplot as plt\n",
    "from tqdm import tqdm"
   ]
  },
  {
   "cell_type": "code",
   "execution_count": 2,
   "metadata": {},
   "outputs": [],
   "source": [
    "feature_selected_list = {\n",
    "    \n",
    "    'low_variance_feature' : ['lastSensorEventHours', 'lastSensorEventSeconds', 'lastSensorDayOfWeek',\n",
    "           'windowDuration', 'timeSinceLastSensorEvent', 'prevDominantSensor1',\n",
    "           'prevDominantSensor2', 'lastSensorID', 'lastSensorLocation',\n",
    "           'lastMotionLocation', 'complexity', 'activityChange', 'ar3ransitions',\n",
    "           'sensorCount-Bathroom', 'sensorCount-Bedroom', 'sensorCount-Chair',\n",
    "           'sensorCount-DiningRoom', 'sensorCount-Hall', 'sensorCount-Ignore',\n",
    "           'sensorCount-Kitchen', 'sensorCount-LivingRoom', 'sensorCount-Office',\n",
    "           'sensorCount-OutsideDoor', 'sensorCount-WorkArea',\n",
    "           'sensorElTime-Bathroom', 'sensorElTime-Bedroom', 'sensorElTime-Chair',\n",
    "           'sensorElTime-DiningRoom', 'sensorElTime-Hall', 'sensorElTime-Ignore',\n",
    "           'sensorElTime-Kitchen', 'sensorElTime-LivingRoom',\n",
    "           'sensorElTime-Office', 'sensorElTime-OutsideDoor',\n",
    "           'sensorElTime-WorkArea', 'activity'],\n",
    "\n",
    "    'l1_based_feature' : ['lastSensorEventHours', 'lastSensorEventSeconds', 'lastSensorDayOfWeek',\n",
    "           'windowDuration', 'timeSinceLastSensorEvent', 'prevDominantSensor1',\n",
    "           'prevDominantSensor2', 'lastSensorID', 'lastSensorLocation',\n",
    "           'lastMotionLocation', 'complexity', 'activityChange', 'ar3ransitions',\n",
    "           'sensorCount-Bathroom', 'sensorCount-Bedroom', 'sensorCount-Chair',\n",
    "           'sensorCount-DiningRoom', 'sensorCount-Hall', 'sensorCount-Ignore',\n",
    "           'sensorCount-Kitchen', 'sensorCount-LivingRoom', 'sensorCount-Office',\n",
    "           'sensorCount-OutsideDoor', 'sensorCount-WorkArea',\n",
    "           'sensorElTime-Bathroom', 'sensorElTime-Bedroom',\n",
    "           'sensorElTime-DiningRoom', 'sensorElTime-Hall', 'sensorElTime-Ignore',\n",
    "           'sensorElTime-Kitchen', 'sensorElTime-LivingRoom',\n",
    "           'sensorElTime-Office', 'sensorElTime-OutsideDoor',\n",
    "           'sensorElTime-WorkArea', 'activity'],\n",
    "    \n",
    "    'tree_based_feature'  : ['lastSensorEventHours', 'lastSensorEventSeconds', 'lastSensorDayOfWeek',\n",
    "       'prevDominantSensor1', 'lastSensorLocation', 'lastMotionLocation',\n",
    "       'sensorCount-Kitchen', 'sensorCount-LivingRoom',\n",
    "       'sensorElTime-Bathroom', 'sensorElTime-Chair',\n",
    "       'sensorElTime-DiningRoom', 'sensorElTime-Kitchen',\n",
    "       'sensorElTime-OutsideDoor', 'sensorElTime-WorkArea', 'activity'],\n",
    "\n",
    "    'random_forest_based_feature'  : ['lastSensorEventHours', 'lastSensorEventSeconds', 'windowDuration',\n",
    "       'lastMotionLocation', 'sensorCount-Kitchen', 'sensorElTime-Bathroom',\n",
    "       'sensorElTime-Bedroom', 'sensorElTime-Chair', 'sensorElTime-Kitchen',\n",
    "       'sensorElTime-OutsideDoor', 'activity']\n",
    "}"
   ]
  },
  {
   "cell_type": "code",
   "execution_count": 4,
   "metadata": {},
   "outputs": [
    {
     "data": {
      "text/plain": [
       "(447530, 37)"
      ]
     },
     "execution_count": 4,
     "metadata": {},
     "output_type": "execute_result"
    }
   ],
   "source": [
    "pd_data = pd.read_csv('Dataset/new_dataset.csv')\n",
    "pd_data.shape"
   ]
  },
  {
   "cell_type": "code",
   "execution_count": 5,
   "metadata": {},
   "outputs": [
    {
     "name": "stderr",
     "output_type": "stream",
     "text": [
      "  0%|                                                                                            | 0/4 [00:00<?, ?it/s]C:\\ProgramData\\Anaconda3\\lib\\site-packages\\pandas\\core\\indexing.py:1418: FutureWarning: \n",
      "Passing list-likes to .loc or [] with any missing label will raise\n",
      "KeyError in the future, you can use .reindex() as an alternative.\n",
      "\n",
      "See the documentation here:\n",
      "https://pandas.pydata.org/pandas-docs/stable/user_guide/indexing.html#deprecate-loc-reindex-listlike\n",
      "  return self._getitem_tuple(key)\n",
      "100%|████████████████████████████████████████████████████████████████████████████████████| 4/4 [00:37<00:00,  9.37s/it]\n"
     ]
    }
   ],
   "source": [
    "for key in tqdm(feature_selected_list):\n",
    "    fileName = key+\".csv\"\n",
    "    #print(key,\": \",len(feature_selected_list[key]))\n",
    "    #print(temp_data.shape)\n",
    "    \n",
    "    temp_data = pd_data.loc[:,feature_selected_list[key]]\n",
    "    temp_data.to_csv(fileName,index=False)\n",
    "    #print(fileName)"
   ]
  },
  {
   "cell_type": "code",
   "execution_count": null,
   "metadata": {},
   "outputs": [],
   "source": []
  },
  {
   "cell_type": "code",
   "execution_count": 6,
   "metadata": {},
   "outputs": [],
   "source": [
    "# sample demo\n",
    "h1 = pd_data.loc[:,feature_selected_list['random_forest_based_feature']]\n",
    "h2 = h1.loc[:5,:]\n",
    "h2.to_csv('hello.csv',index=False)"
   ]
  },
  {
   "cell_type": "code",
   "execution_count": null,
   "metadata": {},
   "outputs": [],
   "source": []
  },
  {
   "cell_type": "code",
   "execution_count": 7,
   "metadata": {},
   "outputs": [
    {
     "name": "stdout",
     "output_type": "stream",
     "text": [
      "Total files: 5\n"
     ]
    },
    {
     "data": {
      "text/plain": [
       "['hello.csv',\n",
       " 'l1_based_feature.csv',\n",
       " 'low_variance_feature.csv',\n",
       " 'random_forest_based_feature.csv',\n",
       " 'tree_based_feature.csv']"
      ]
     },
     "execution_count": 7,
     "metadata": {},
     "output_type": "execute_result"
    }
   ],
   "source": [
    "# read\n",
    "from glob import glob\n",
    "\n",
    "file_list = []\n",
    "\n",
    "for i in glob('*.csv'):\n",
    "    file_list.append(i)\n",
    "\n",
    "print('Total files:',len(file_list))\n",
    "file_list"
   ]
  },
  {
   "cell_type": "code",
   "execution_count": 8,
   "metadata": {},
   "outputs": [
    {
     "name": "stdout",
     "output_type": "stream",
     "text": [
      "hello.csv :  (6, 10)\n",
      "l1_based_feature.csv :  (447530, 34)\n",
      "low_variance_feature.csv :  (447530, 35)\n",
      "random_forest_based_feature.csv :  (447530, 10)\n",
      "tree_based_feature.csv :  (447530, 14)\n"
     ]
    }
   ],
   "source": [
    "for file in file_list:\n",
    "    pd_data = pd.read_csv(file)\n",
    "    print(file,\": \",pd_data.shape)"
   ]
  },
  {
   "cell_type": "code",
   "execution_count": null,
   "metadata": {},
   "outputs": [],
   "source": []
  }
 ],
 "metadata": {
  "kernelspec": {
   "display_name": "Python 3",
   "language": "python",
   "name": "python3"
  },
  "language_info": {
   "codemirror_mode": {
    "name": "ipython",
    "version": 3
   },
   "file_extension": ".py",
   "mimetype": "text/x-python",
   "name": "python",
   "nbconvert_exporter": "python",
   "pygments_lexer": "ipython3",
   "version": "3.7.4"
  }
 },
 "nbformat": 4,
 "nbformat_minor": 2
}
