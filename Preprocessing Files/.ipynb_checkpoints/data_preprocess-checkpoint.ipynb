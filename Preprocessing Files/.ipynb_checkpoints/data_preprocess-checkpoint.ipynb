{
 "cells": [
  {
   "cell_type": "code",
   "execution_count": 1,
   "metadata": {
    "colab": {},
    "colab_type": "code",
    "id": "tqkNhYzZjbsU"
   },
   "outputs": [],
   "source": [
    "# https://archive.ics.uci.edu/ml/datasets/Human+Activity+Recognition+from+Continuous+Ambient+Sensor+Data?fbclid=IwAR1ltSC3CwmL9BywyE3wDyfTK4qNlnzATqkrb6Mh0F8p4pkevRF0CebQ690\n",
    "\n",
    "\n",
    "#!wget https://archive.ics.uci.edu/ml/machine-learning-databases/00506/casas-dataset.zip\n",
    "#!unzip casas-dataset.zip"
   ]
  },
  {
   "cell_type": "code",
   "execution_count": 2,
   "metadata": {
    "colab": {
     "base_uri": "https://localhost:8080/",
     "height": 153
    },
    "colab_type": "code",
    "executionInfo": {
     "elapsed": 5164,
     "status": "ok",
     "timestamp": 1576752575283,
     "user": {
      "displayName": "Arif Suhan 1610437642",
      "photoUrl": "https://lh3.googleusercontent.com/a-/AAuE7mD005Mog3ZCf7wm5D4VTqURTl84dnASUt3Rytb1=s64",
      "userId": "06931595225639573622"
     },
     "user_tz": -360
    },
    "id": "eUcsga2uCMp4",
    "outputId": "f347330d-e5d0-4e8e-a733-5c9df577d7fa"
   },
   "outputs": [
    {
     "name": "stdout",
     "output_type": "stream",
     "text": [
      "total 136\r\n",
      "-rw-r--r--  1 arifsuhan  staff   256B Dec 19 14:39 README.md\r\n",
      "drwxr-xr-x  6 arifsuhan  staff   192B Dec 22 21:32 \u001b[34m__pycache__\u001b[m\u001b[m\r\n",
      "-rwxr-xr-x  1 arifsuhan  staff   817B Dec 22 21:32 \u001b[31mdata_preprocessing.py\u001b[m\u001b[m\r\n",
      "-rw-r--r--  1 arifsuhan  staff    41K Dec 22 22:34 data_test.ipynb\r\n",
      "-rwxr-xr-x  1 arifsuhan  staff   1.2K Dec 22 21:32 \u001b[31mmain.py\u001b[m\u001b[m\r\n",
      "-rwxr-xr-x  1 arifsuhan  staff   191B Dec 19 14:39 \u001b[31mmodels.py\u001b[m\u001b[m\r\n",
      "-rwxr-xr-x  1 arifsuhan  staff     0B Dec 19 14:39 \u001b[31mtest.py\u001b[m\u001b[m\r\n",
      "-rwxr-xr-x  1 arifsuhan  staff    78B Dec 19 14:39 \u001b[31mtrain.py\u001b[m\u001b[m\r\n",
      "-rwxr-xr-x  1 arifsuhan  staff   1.0K Dec 22 21:32 \u001b[31mutils.py\u001b[m\u001b[m\r\n"
     ]
    }
   ],
   "source": [
    "!ls -lh"
   ]
  },
  {
   "cell_type": "markdown",
   "metadata": {
    "colab_type": "text",
    "id": "KmfB5VnSPuYe"
   },
   "source": [
    "# Data Preprocess"
   ]
  },
  {
   "cell_type": "code",
   "execution_count": 3,
   "metadata": {
    "colab": {},
    "colab_type": "code",
    "id": "HRsLdqd4QYcn"
   },
   "outputs": [],
   "source": [
    "import numpy as np\n",
    "import pandas as pd\n",
    "import matplotlib.pyplot as plt\n",
    "\n",
    "from tqdm import tqdm"
   ]
  },
  {
   "cell_type": "code",
   "execution_count": 8,
   "metadata": {
    "cellView": "both",
    "colab": {
     "base_uri": "https://localhost:8080/",
     "height": 561
    },
    "colab_type": "code",
    "executionInfo": {
     "elapsed": 4874,
     "status": "ok",
     "timestamp": 1576752602369,
     "user": {
      "displayName": "Arif Suhan 1610437642",
      "photoUrl": "https://lh3.googleusercontent.com/a-/AAuE7mD005Mog3ZCf7wm5D4VTqURTl84dnASUt3Rytb1=s64",
      "userId": "06931595225639573622"
     },
     "user_tz": -360
    },
    "id": "4ZyZvU7hfEY4",
    "outputId": "073456a7-0675-4e39-fdc9-63f386814fc6"
   },
   "outputs": [
    {
     "name": "stdout",
     "output_type": "stream",
     "text": [
      "Total files: 6\n"
     ]
    },
    {
     "data": {
      "text/plain": [
       "['../Dataset/dataset_6.csv',\n",
       " '../Dataset/dataset_5.csv',\n",
       " '../Dataset/dataset_4.csv',\n",
       " '../Dataset/dataset_1.csv',\n",
       " '../Dataset/dataset_3.csv',\n",
       " '../Dataset/dataset_2.csv']"
      ]
     },
     "execution_count": 8,
     "metadata": {},
     "output_type": "execute_result"
    }
   ],
   "source": [
    "#@title File List\n",
    "from glob import glob\n",
    "\n",
    "folder_list = []\n",
    "file_list = []\n",
    "\n",
    "for i in glob('../Dataset/*.csv'):\n",
    "    file_list.append(i)\n",
    "\n",
    "print('Total files:',len(file_list))\n",
    "file_list"
   ]
  },
  {
   "cell_type": "code",
   "execution_count": 3,
   "metadata": {
    "cellView": "both",
    "colab": {},
    "colab_type": "code",
    "id": "y8VpSszRKtxj"
   },
   "outputs": [],
   "source": [
    "#@title Attribute Uniqueness\n",
    "def attr_finder(data):\n",
    "  temp = {}\n",
    "\n",
    "  for i in data:\n",
    "      temp[i] = data[i].unique().shape[0]\n",
    "      #print(i,data[i].unique().shape[0])\n",
    "  #return temp\n",
    "  sort_dict(temp)\n",
    "\n",
    "def sort_dict(data):\n",
    "  for i in sorted(data.items(), key=lambda x: x[1]):\n",
    "    print(i)"
   ]
  },
  {
   "cell_type": "code",
   "execution_count": 5,
   "metadata": {
    "colab": {
     "base_uri": "https://localhost:8080/",
     "height": 334
    },
    "colab_type": "code",
    "executionInfo": {
     "elapsed": 3379,
     "status": "ok",
     "timestamp": 1576752611269,
     "user": {
      "displayName": "Arif Suhan 1610437642",
      "photoUrl": "https://lh3.googleusercontent.com/a-/AAuE7mD005Mog3ZCf7wm5D4VTqURTl84dnASUt3Rytb1=s64",
      "userId": "06931595225639573622"
     },
     "user_tz": -360
    },
    "id": "cRUKFSSpKaOA",
    "outputId": "52cb877e-cc38-4ab9-c02c-64eb93151987"
   },
   "outputs": [
    {
     "data": {
      "text/html": [
       "<div>\n",
       "<style scoped>\n",
       "    .dataframe tbody tr th:only-of-type {\n",
       "        vertical-align: middle;\n",
       "    }\n",
       "\n",
       "    .dataframe tbody tr th {\n",
       "        vertical-align: top;\n",
       "    }\n",
       "\n",
       "    .dataframe thead th {\n",
       "        text-align: right;\n",
       "    }\n",
       "</style>\n",
       "<table border=\"1\" class=\"dataframe\">\n",
       "  <thead>\n",
       "    <tr style=\"text-align: right;\">\n",
       "      <th></th>\n",
       "      <th>lastSensorEventHours</th>\n",
       "      <th>lastSensorEventSeconds</th>\n",
       "      <th>lastSensorDayOfWeek</th>\n",
       "      <th>windowDuration</th>\n",
       "      <th>timeSinceLastSensorEvent</th>\n",
       "      <th>prevDominantSensor1</th>\n",
       "      <th>prevDominantSensor2</th>\n",
       "      <th>lastSensorID</th>\n",
       "      <th>lastSensorLocation</th>\n",
       "      <th>lastMotionLocation</th>\n",
       "      <th>...</th>\n",
       "      <th>sensorCount-WorkArea</th>\n",
       "      <th>sensorElTime-Bathroom</th>\n",
       "      <th>sensorElTime-Bedroom</th>\n",
       "      <th>sensorElTime-Chair</th>\n",
       "      <th>sensorElTime-DiningRoom</th>\n",
       "      <th>sensorElTime-Ignore</th>\n",
       "      <th>sensorElTime-Kitchen</th>\n",
       "      <th>sensorElTime-LivingRoom</th>\n",
       "      <th>sensorElTime-OutsideDoor</th>\n",
       "      <th>sensorElTime-WorkArea</th>\n",
       "    </tr>\n",
       "  </thead>\n",
       "  <tbody>\n",
       "    <tr>\n",
       "      <th>count</th>\n",
       "      <td>28924.000000</td>\n",
       "      <td>28924.000000</td>\n",
       "      <td>28924.000000</td>\n",
       "      <td>28924.000000</td>\n",
       "      <td>28924.000000</td>\n",
       "      <td>28924.000000</td>\n",
       "      <td>28924.000000</td>\n",
       "      <td>28924.000000</td>\n",
       "      <td>28924.000000</td>\n",
       "      <td>28924.000000</td>\n",
       "      <td>...</td>\n",
       "      <td>28924.000000</td>\n",
       "      <td>28924.000000</td>\n",
       "      <td>28924.000000</td>\n",
       "      <td>28924.000000</td>\n",
       "      <td>28924.000000</td>\n",
       "      <td>28924.000000</td>\n",
       "      <td>28924.000000</td>\n",
       "      <td>28924.000000</td>\n",
       "      <td>28924.000000</td>\n",
       "      <td>28924.000000</td>\n",
       "    </tr>\n",
       "    <tr>\n",
       "      <th>mean</th>\n",
       "      <td>16.838231</td>\n",
       "      <td>62340.675806</td>\n",
       "      <td>2.805387</td>\n",
       "      <td>301.501832</td>\n",
       "      <td>11.995021</td>\n",
       "      <td>7.026967</td>\n",
       "      <td>6.877334</td>\n",
       "      <td>7.125743</td>\n",
       "      <td>7.125743</td>\n",
       "      <td>7.496301</td>\n",
       "      <td>...</td>\n",
       "      <td>13.838823</td>\n",
       "      <td>2721.808906</td>\n",
       "      <td>2759.191674</td>\n",
       "      <td>28584.455537</td>\n",
       "      <td>2234.419408</td>\n",
       "      <td>23847.881495</td>\n",
       "      <td>786.506856</td>\n",
       "      <td>620.497879</td>\n",
       "      <td>3851.966269</td>\n",
       "      <td>2545.410877</td>\n",
       "    </tr>\n",
       "    <tr>\n",
       "      <th>std</th>\n",
       "      <td>3.881638</td>\n",
       "      <td>13966.753231</td>\n",
       "      <td>1.848341</td>\n",
       "      <td>429.347320</td>\n",
       "      <td>64.844573</td>\n",
       "      <td>2.716305</td>\n",
       "      <td>2.738678</td>\n",
       "      <td>2.758596</td>\n",
       "      <td>2.758596</td>\n",
       "      <td>2.919642</td>\n",
       "      <td>...</td>\n",
       "      <td>14.132412</td>\n",
       "      <td>2667.079376</td>\n",
       "      <td>2669.712258</td>\n",
       "      <td>30783.933660</td>\n",
       "      <td>4351.914570</td>\n",
       "      <td>38337.610750</td>\n",
       "      <td>998.254187</td>\n",
       "      <td>832.103354</td>\n",
       "      <td>4562.028662</td>\n",
       "      <td>6497.465200</td>\n",
       "    </tr>\n",
       "    <tr>\n",
       "      <th>min</th>\n",
       "      <td>0.000000</td>\n",
       "      <td>773.000000</td>\n",
       "      <td>0.000000</td>\n",
       "      <td>10.000000</td>\n",
       "      <td>0.000000</td>\n",
       "      <td>0.000000</td>\n",
       "      <td>0.000000</td>\n",
       "      <td>0.000000</td>\n",
       "      <td>0.000000</td>\n",
       "      <td>-1.000000</td>\n",
       "      <td>...</td>\n",
       "      <td>0.000000</td>\n",
       "      <td>0.000000</td>\n",
       "      <td>0.000000</td>\n",
       "      <td>0.000000</td>\n",
       "      <td>0.000000</td>\n",
       "      <td>0.000000</td>\n",
       "      <td>0.000000</td>\n",
       "      <td>0.000000</td>\n",
       "      <td>0.000000</td>\n",
       "      <td>0.000000</td>\n",
       "    </tr>\n",
       "    <tr>\n",
       "      <th>25%</th>\n",
       "      <td>16.000000</td>\n",
       "      <td>58003.000000</td>\n",
       "      <td>1.000000</td>\n",
       "      <td>61.000000</td>\n",
       "      <td>1.000000</td>\n",
       "      <td>6.000000</td>\n",
       "      <td>6.000000</td>\n",
       "      <td>5.000000</td>\n",
       "      <td>5.000000</td>\n",
       "      <td>6.000000</td>\n",
       "      <td>...</td>\n",
       "      <td>0.000000</td>\n",
       "      <td>572.054738</td>\n",
       "      <td>562.997062</td>\n",
       "      <td>6987.814437</td>\n",
       "      <td>72.354958</td>\n",
       "      <td>0.064509</td>\n",
       "      <td>31.355502</td>\n",
       "      <td>26.712161</td>\n",
       "      <td>992.137295</td>\n",
       "      <td>0.000000</td>\n",
       "    </tr>\n",
       "    <tr>\n",
       "      <th>50%</th>\n",
       "      <td>17.000000</td>\n",
       "      <td>64183.500000</td>\n",
       "      <td>3.000000</td>\n",
       "      <td>165.000000</td>\n",
       "      <td>1.000000</td>\n",
       "      <td>7.000000</td>\n",
       "      <td>6.000000</td>\n",
       "      <td>7.000000</td>\n",
       "      <td>7.000000</td>\n",
       "      <td>10.000000</td>\n",
       "      <td>...</td>\n",
       "      <td>11.335000</td>\n",
       "      <td>1797.523361</td>\n",
       "      <td>1859.841130</td>\n",
       "      <td>15025.800910</td>\n",
       "      <td>974.317650</td>\n",
       "      <td>14.494379</td>\n",
       "      <td>434.345029</td>\n",
       "      <td>286.772388</td>\n",
       "      <td>2635.340251</td>\n",
       "      <td>45.675742</td>\n",
       "    </tr>\n",
       "    <tr>\n",
       "      <th>75%</th>\n",
       "      <td>19.000000</td>\n",
       "      <td>70512.000000</td>\n",
       "      <td>4.000000</td>\n",
       "      <td>395.000000</td>\n",
       "      <td>3.000000</td>\n",
       "      <td>10.000000</td>\n",
       "      <td>10.000000</td>\n",
       "      <td>10.000000</td>\n",
       "      <td>10.000000</td>\n",
       "      <td>10.000000</td>\n",
       "      <td>...</td>\n",
       "      <td>28.170000</td>\n",
       "      <td>4136.098567</td>\n",
       "      <td>4291.309012</td>\n",
       "      <td>31391.094200</td>\n",
       "      <td>2628.189408</td>\n",
       "      <td>86400.000000</td>\n",
       "      <td>1158.857827</td>\n",
       "      <td>859.102056</td>\n",
       "      <td>5177.032947</td>\n",
       "      <td>1851.510082</td>\n",
       "    </tr>\n",
       "    <tr>\n",
       "      <th>max</th>\n",
       "      <td>23.000000</td>\n",
       "      <td>85802.000000</td>\n",
       "      <td>6.000000</td>\n",
       "      <td>8183.000000</td>\n",
       "      <td>3935.000000</td>\n",
       "      <td>10.000000</td>\n",
       "      <td>10.000000</td>\n",
       "      <td>10.000000</td>\n",
       "      <td>10.000000</td>\n",
       "      <td>10.000000</td>\n",
       "      <td>...</td>\n",
       "      <td>34.350000</td>\n",
       "      <td>11748.550530</td>\n",
       "      <td>11743.192410</td>\n",
       "      <td>86400.000000</td>\n",
       "      <td>86400.000000</td>\n",
       "      <td>86400.000000</td>\n",
       "      <td>13293.213920</td>\n",
       "      <td>5710.195918</td>\n",
       "      <td>49597.606070</td>\n",
       "      <td>58868.469840</td>\n",
       "    </tr>\n",
       "  </tbody>\n",
       "</table>\n",
       "<p>8 rows × 32 columns</p>\n",
       "</div>"
      ],
      "text/plain": [
       "       lastSensorEventHours  lastSensorEventSeconds  lastSensorDayOfWeek  \\\n",
       "count          28924.000000            28924.000000         28924.000000   \n",
       "mean              16.838231            62340.675806             2.805387   \n",
       "std                3.881638            13966.753231             1.848341   \n",
       "min                0.000000              773.000000             0.000000   \n",
       "25%               16.000000            58003.000000             1.000000   \n",
       "50%               17.000000            64183.500000             3.000000   \n",
       "75%               19.000000            70512.000000             4.000000   \n",
       "max               23.000000            85802.000000             6.000000   \n",
       "\n",
       "       windowDuration  timeSinceLastSensorEvent  prevDominantSensor1  \\\n",
       "count    28924.000000              28924.000000         28924.000000   \n",
       "mean       301.501832                 11.995021             7.026967   \n",
       "std        429.347320                 64.844573             2.716305   \n",
       "min         10.000000                  0.000000             0.000000   \n",
       "25%         61.000000                  1.000000             6.000000   \n",
       "50%        165.000000                  1.000000             7.000000   \n",
       "75%        395.000000                  3.000000            10.000000   \n",
       "max       8183.000000               3935.000000            10.000000   \n",
       "\n",
       "       prevDominantSensor2  lastSensorID  lastSensorLocation  \\\n",
       "count         28924.000000  28924.000000        28924.000000   \n",
       "mean              6.877334      7.125743            7.125743   \n",
       "std               2.738678      2.758596            2.758596   \n",
       "min               0.000000      0.000000            0.000000   \n",
       "25%               6.000000      5.000000            5.000000   \n",
       "50%               6.000000      7.000000            7.000000   \n",
       "75%              10.000000     10.000000           10.000000   \n",
       "max              10.000000     10.000000           10.000000   \n",
       "\n",
       "       lastMotionLocation  ...  sensorCount-WorkArea  sensorElTime-Bathroom  \\\n",
       "count        28924.000000  ...          28924.000000           28924.000000   \n",
       "mean             7.496301  ...             13.838823            2721.808906   \n",
       "std              2.919642  ...             14.132412            2667.079376   \n",
       "min             -1.000000  ...              0.000000               0.000000   \n",
       "25%              6.000000  ...              0.000000             572.054738   \n",
       "50%             10.000000  ...             11.335000            1797.523361   \n",
       "75%             10.000000  ...             28.170000            4136.098567   \n",
       "max             10.000000  ...             34.350000           11748.550530   \n",
       "\n",
       "       sensorElTime-Bedroom  sensorElTime-Chair  sensorElTime-DiningRoom  \\\n",
       "count          28924.000000        28924.000000             28924.000000   \n",
       "mean            2759.191674        28584.455537              2234.419408   \n",
       "std             2669.712258        30783.933660              4351.914570   \n",
       "min                0.000000            0.000000                 0.000000   \n",
       "25%              562.997062         6987.814437                72.354958   \n",
       "50%             1859.841130        15025.800910               974.317650   \n",
       "75%             4291.309012        31391.094200              2628.189408   \n",
       "max            11743.192410        86400.000000             86400.000000   \n",
       "\n",
       "       sensorElTime-Ignore  sensorElTime-Kitchen  sensorElTime-LivingRoom  \\\n",
       "count         28924.000000          28924.000000             28924.000000   \n",
       "mean          23847.881495            786.506856               620.497879   \n",
       "std           38337.610750            998.254187               832.103354   \n",
       "min               0.000000              0.000000                 0.000000   \n",
       "25%               0.064509             31.355502                26.712161   \n",
       "50%              14.494379            434.345029               286.772388   \n",
       "75%           86400.000000           1158.857827               859.102056   \n",
       "max           86400.000000          13293.213920              5710.195918   \n",
       "\n",
       "       sensorElTime-OutsideDoor  sensorElTime-WorkArea  \n",
       "count              28924.000000           28924.000000  \n",
       "mean                3851.966269            2545.410877  \n",
       "std                 4562.028662            6497.465200  \n",
       "min                    0.000000               0.000000  \n",
       "25%                  992.137295               0.000000  \n",
       "50%                 2635.340251              45.675742  \n",
       "75%                 5177.032947            1851.510082  \n",
       "max                49597.606070           58868.469840  \n",
       "\n",
       "[8 rows x 32 columns]"
      ]
     },
     "execution_count": 5,
     "metadata": {},
     "output_type": "execute_result"
    }
   ],
   "source": [
    "data = pd.read_csv(file_list[1])\n",
    "\n",
    "data.describe()"
   ]
  },
  {
   "cell_type": "code",
   "execution_count": 8,
   "metadata": {},
   "outputs": [
    {
     "name": "stdout",
     "output_type": "stream",
     "text": [
      "lastSensorEventHours\n",
      "lastSensorEventSeconds\n",
      "lastSensorDayOfWeek\n",
      "windowDuration\n",
      "timeSinceLastSensorEvent\n",
      "prevDominantSensor1\n",
      "prevDominantSensor2\n",
      "lastSensorID\n",
      "lastSensorLocation\n",
      "lastMotionLocation\n",
      "complexity\n",
      "activityChange\n",
      "areaTransitions\n",
      "numDistinctSensors\n",
      "sensorCount-Bathroom\n",
      "sensorCount-Bedroom\n",
      "sensorCount-Chair\n",
      "sensorCount-DiningRoom\n",
      "sensorCount-Ignore\n",
      "sensorCount-Kitchen\n",
      "sensorCount-LivingRoom\n",
      "sensorCount-OutsideDoor\n",
      "sensorCount-WorkArea\n",
      "sensorElTime-Bathroom\n",
      "sensorElTime-Bedroom\n",
      "sensorElTime-Chair\n",
      "sensorElTime-DiningRoom\n",
      "sensorElTime-Ignore\n",
      "sensorElTime-Kitchen\n",
      "sensorElTime-LivingRoom\n",
      "sensorElTime-OutsideDoor\n",
      "sensorElTime-WorkArea\n",
      "activity\n"
     ]
    }
   ],
   "source": [
    "for i in data:\n",
    "    print(i)"
   ]
  },
  {
   "cell_type": "code",
   "execution_count": 7,
   "metadata": {
    "colab": {
     "base_uri": "https://localhost:8080/",
     "height": 1000
    },
    "colab_type": "code",
    "executionInfo": {
     "elapsed": 1435,
     "status": "ok",
     "timestamp": 1576752660808,
     "user": {
      "displayName": "Arif Suhan 1610437642",
      "photoUrl": "https://lh3.googleusercontent.com/a-/AAuE7mD005Mog3ZCf7wm5D4VTqURTl84dnASUt3Rytb1=s64",
      "userId": "06931595225639573622"
     },
     "user_tz": -360
    },
    "id": "6Y1ien-PKlu3",
    "outputId": "7abb80c4-5d08-4532-ab05-aee12e410bd3"
   },
   "outputs": [
    {
     "name": "stdout",
     "output_type": "stream",
     "text": [
      "['Read' 'Watch_TV' 'Cook' 'Eat' 'Phone']\n",
      "Watch_TV    14592\n",
      "Read         4751\n",
      "Cook         4369\n",
      "Eat          3090\n",
      "Phone        2122\n",
      "Name: activity, dtype: int64\n",
      "('numDistinctSensors', 1)\n",
      "('activity', 5)\n",
      "('lastSensorDayOfWeek', 7)\n",
      "('prevDominantSensor1', 9)\n",
      "('prevDominantSensor2', 9)\n",
      "('lastSensorID', 9)\n",
      "('lastSensorLocation', 9)\n",
      "('lastMotionLocation', 9)\n",
      "('lastSensorEventHours', 19)\n",
      "('areaTransitions', 25)\n",
      "('sensorCount-OutsideDoor', 322)\n",
      "('timeSinceLastSensorEvent', 368)\n",
      "('sensorCount-Bathroom', 472)\n",
      "('sensorCount-Bedroom', 488)\n",
      "('complexity', 681)\n",
      "('sensorCount-Chair', 783)\n",
      "('windowDuration', 1639)\n",
      "('sensorCount-Kitchen', 2123)\n",
      "('sensorCount-LivingRoom', 2274)\n",
      "('sensorCount-Ignore', 2279)\n",
      "('sensorCount-WorkArea', 2339)\n",
      "('sensorCount-DiningRoom', 2398)\n",
      "('activityChange', 14208)\n",
      "('sensorElTime-Ignore', 16015)\n",
      "('sensorElTime-WorkArea', 16469)\n",
      "('lastSensorEventSeconds', 16749)\n",
      "('sensorElTime-Chair', 24342)\n",
      "('sensorElTime-DiningRoom', 24967)\n",
      "('sensorElTime-Kitchen', 25345)\n",
      "('sensorElTime-LivingRoom', 25980)\n",
      "('sensorElTime-Bedroom', 28700)\n",
      "('sensorElTime-OutsideDoor', 28919)\n",
      "('sensorElTime-Bathroom', 28921)\n",
      "None\n"
     ]
    }
   ],
   "source": [
    "# data.head(5)\n",
    "print( data.activity.unique() )\n",
    "print( data.activity.value_counts() )\n",
    "print( attr_finder(data) )\n",
    "\n",
    "# for i in data['sensorCount-Bathroom'].unique():\n",
    "#   print(i)"
   ]
  },
  {
   "cell_type": "markdown",
   "metadata": {
    "colab_type": "text",
    "id": "BvJKqa76BKio"
   },
   "source": [
    "# Feature Selection: Tree Classifier"
   ]
  },
  {
   "cell_type": "code",
   "execution_count": 13,
   "metadata": {
    "colab": {},
    "colab_type": "code",
    "id": "ZZ1tLcbgVT1N"
   },
   "outputs": [],
   "source": [
    "import sklearn.ensemble as ske\n",
    "from sklearn.feature_selection import SelectFromModel"
   ]
  },
  {
   "cell_type": "code",
   "execution_count": 14,
   "metadata": {
    "colab": {},
    "colab_type": "code",
    "id": "RiTOijyCBqp7"
   },
   "outputs": [
    {
     "name": "stdout",
     "output_type": "stream",
     "text": [
      "(75026, 36)\n",
      "Total Features:  36\n"
     ]
    }
   ],
   "source": [
    "x = data.drop(['activity'], axis=1).values\n",
    "y = data['activity'].values\n",
    "\n",
    "print(x.shape)\n",
    "print('Total Features: ',x.shape[1])"
   ]
  },
  {
   "cell_type": "code",
   "execution_count": 15,
   "metadata": {
    "colab": {},
    "colab_type": "code",
    "id": "ggOvEzycBUuk"
   },
   "outputs": [
    {
     "name": "stderr",
     "output_type": "stream",
     "text": [
      "C:\\Users\\Lab-User\\Anaconda\\lib\\site-packages\\sklearn\\ensemble\\forest.py:246: FutureWarning: The default value of n_estimators will change from 10 in version 0.20 to 100 in 0.22.\n",
      "  \"10 in version 0.20 to 100 in 0.22.\", FutureWarning)\n"
     ]
    },
    {
     "name": "stdout",
     "output_type": "stream",
     "text": [
      "Total Features:  14\n"
     ]
    }
   ],
   "source": [
    "# Feature Selection\n",
    "\n",
    "fsel = ske.ExtraTreesClassifier().fit(x,y)\n",
    "model = SelectFromModel(fsel,prefit=True)\n",
    "x_new = model.transform(x)\n",
    "new_features = x_new.shape[1]\n",
    "\n",
    "print('Total Features: ',new_features)"
   ]
  },
  {
   "cell_type": "markdown",
   "metadata": {
    "colab_type": "text",
    "id": "NlaVkGkVqDVB"
   },
   "source": [
    "# Activity Class Count "
   ]
  },
  {
   "cell_type": "code",
   "execution_count": 16,
   "metadata": {
    "colab": {},
    "colab_type": "code",
    "id": "7rNQMbqgxXH4"
   },
   "outputs": [
    {
     "ename": "FileNotFoundError",
     "evalue": "[Errno 2] No such file or directory: 'dataset_info/acitivity_class_list.csv'",
     "output_type": "error",
     "traceback": [
      "\u001b[1;31m---------------------------------------------------------------------------\u001b[0m",
      "\u001b[1;31mFileNotFoundError\u001b[0m                         Traceback (most recent call last)",
      "\u001b[1;32m<ipython-input-16-1e5f22d288c6>\u001b[0m in \u001b[0;36m<module>\u001b[1;34m\u001b[0m\n\u001b[0;32m      1\u001b[0m \u001b[0mtotal_class\u001b[0m \u001b[1;33m=\u001b[0m \u001b[1;33m[\u001b[0m\u001b[1;33m]\u001b[0m\u001b[1;33m\u001b[0m\u001b[1;33m\u001b[0m\u001b[0m\n\u001b[0;32m      2\u001b[0m \u001b[1;33m\u001b[0m\u001b[0m\n\u001b[1;32m----> 3\u001b[1;33m \u001b[1;32mwith\u001b[0m \u001b[0mopen\u001b[0m\u001b[1;33m(\u001b[0m\u001b[1;34m'dataset_info/acitivity_class_list.csv'\u001b[0m\u001b[1;33m,\u001b[0m\u001b[1;34m'r'\u001b[0m\u001b[1;33m)\u001b[0m \u001b[1;32mas\u001b[0m \u001b[0mf\u001b[0m\u001b[1;33m:\u001b[0m\u001b[1;33m\u001b[0m\u001b[1;33m\u001b[0m\u001b[0m\n\u001b[0m\u001b[0;32m      4\u001b[0m   \u001b[0mf_read\u001b[0m \u001b[1;33m=\u001b[0m \u001b[0mf\u001b[0m\u001b[1;33m.\u001b[0m\u001b[0mreadlines\u001b[0m\u001b[1;33m(\u001b[0m\u001b[1;33m)\u001b[0m\u001b[1;33m\u001b[0m\u001b[1;33m\u001b[0m\u001b[0m\n\u001b[0;32m      5\u001b[0m   \u001b[0mtotal_class\u001b[0m \u001b[1;33m=\u001b[0m \u001b[1;33m[\u001b[0m\u001b[0mi\u001b[0m\u001b[1;33m.\u001b[0m\u001b[0mreplace\u001b[0m\u001b[1;33m(\u001b[0m\u001b[1;34m'\\n'\u001b[0m\u001b[1;33m,\u001b[0m\u001b[1;34m''\u001b[0m\u001b[1;33m)\u001b[0m \u001b[1;32mfor\u001b[0m \u001b[0mi\u001b[0m \u001b[1;32min\u001b[0m \u001b[0mf_read\u001b[0m\u001b[1;33m]\u001b[0m\u001b[1;33m\u001b[0m\u001b[1;33m\u001b[0m\u001b[0m\n",
      "\u001b[1;31mFileNotFoundError\u001b[0m: [Errno 2] No such file or directory: 'dataset_info/acitivity_class_list.csv'"
     ]
    }
   ],
   "source": [
    "total_class = []\n",
    "\n",
    "with open('dataset_info/acitivity_class_list.csv','r') as f:\n",
    "  f_read = f.readlines()\n",
    "  total_class = [i.replace('\\n','') for i in f_read]\n",
    "\n",
    "print(len(total_class))"
   ]
  },
  {
   "cell_type": "code",
   "execution_count": 0,
   "metadata": {
    "colab": {},
    "colab_type": "code",
    "id": "_E-vGbVtqhMl"
   },
   "outputs": [],
   "source": [
    "temp = pd.read_csv(file_list[0])"
   ]
  },
  {
   "cell_type": "code",
   "execution_count": 0,
   "metadata": {
    "colab": {},
    "colab_type": "code",
    "id": "euFZZ3Mtqmz6"
   },
   "outputs": [],
   "source": []
  },
  {
   "cell_type": "code",
   "execution_count": 0,
   "metadata": {
    "colab": {
     "base_uri": "https://localhost:8080/",
     "height": 34
    },
    "colab_type": "code",
    "executionInfo": {
     "elapsed": 87536,
     "status": "ok",
     "timestamp": 1575142791162,
     "user": {
      "displayName": "Arif Suhan 1610437642",
      "photoUrl": "https://lh3.googleusercontent.com/a-/AAuE7mD005Mog3ZCf7wm5D4VTqURTl84dnASUt3Rytb1=s64",
      "userId": "06931595225639573622"
     },
     "user_tz": -360
    },
    "id": "d5hvrmVwCVC4",
    "outputId": "8dca6e41-41d4-4761-a640-2ee393d91ac1"
   },
   "outputs": [
    {
     "name": "stderr",
     "output_type": "stream",
     "text": [
      "100%|██████████| 30/30 [01:26<00:00,  1.72s/it]\n"
     ]
    }
   ],
   "source": [
    "for file in tqdm(file_list):\n",
    "  temp = pd.read_csv(file)\n",
    "  length = len(temp.activity.value_counts())\n",
    "\n",
    "  with open('dataset_info/acitivity.csv','a') as f:\n",
    "\n",
    "    f.write(file[15:21]+',')\n",
    "    for i in total_class:\n",
    "      temp_count = len(temp.activity[temp['activity']==i])\n",
    "      f.write(str(temp_count)+',')\n",
    "    f.write(str(length)+'\\n')"
   ]
  },
  {
   "cell_type": "code",
   "execution_count": 0,
   "metadata": {
    "colab": {},
    "colab_type": "code",
    "id": "xsMdWIgUrlD4"
   },
   "outputs": [],
   "source": [
    "with open('dataset_info/acitivity.csv','a') as f:\n",
    "  f.write('Filename,')\n",
    "  for i in total_class:\n",
    "    f.write(i+\",\")\n",
    "  f.write('Count Class\\n')"
   ]
  },
  {
   "cell_type": "code",
   "execution_count": 0,
   "metadata": {
    "colab": {},
    "colab_type": "code",
    "id": "hf91vexyrn15"
   },
   "outputs": [],
   "source": [
    "temp = pd.read_csv(file_list[7])\n"
   ]
  },
  {
   "cell_type": "code",
   "execution_count": 0,
   "metadata": {
    "colab": {
     "base_uri": "https://localhost:8080/",
     "height": 241
    },
    "colab_type": "code",
    "executionInfo": {
     "elapsed": 1270,
     "status": "ok",
     "timestamp": 1575142898505,
     "user": {
      "displayName": "Arif Suhan 1610437642",
      "photoUrl": "https://lh3.googleusercontent.com/a-/AAuE7mD005Mog3ZCf7wm5D4VTqURTl84dnASUt3Rytb1=s64",
      "userId": "06931595225639573622"
     },
     "user_tz": -360
    },
    "id": "hiQOpB4F1OR-",
    "outputId": "d9bf33f2-463f-4be8-937c-01c3712df929"
   },
   "outputs": [
    {
     "data": {
      "text/html": [
       "<div>\n",
       "<style scoped>\n",
       "    .dataframe tbody tr th:only-of-type {\n",
       "        vertical-align: middle;\n",
       "    }\n",
       "\n",
       "    .dataframe tbody tr th {\n",
       "        vertical-align: top;\n",
       "    }\n",
       "\n",
       "    .dataframe thead th {\n",
       "        text-align: right;\n",
       "    }\n",
       "</style>\n",
       "<table border=\"1\" class=\"dataframe\">\n",
       "  <thead>\n",
       "    <tr style=\"text-align: right;\">\n",
       "      <th></th>\n",
       "      <th>lastSensorEventHours</th>\n",
       "      <th>lastSensorEventSeconds</th>\n",
       "      <th>lastSensorDayOfWeek</th>\n",
       "      <th>windowDuration</th>\n",
       "      <th>timeSinceLastSensorEvent</th>\n",
       "      <th>prevDominantSensor1</th>\n",
       "      <th>prevDominantSensor2</th>\n",
       "      <th>lastSensorID</th>\n",
       "      <th>lastSensorLocation</th>\n",
       "      <th>lastMotionLocation</th>\n",
       "      <th>complexity</th>\n",
       "      <th>activityChange</th>\n",
       "      <th>areaTransitions</th>\n",
       "      <th>numDistinctSensors</th>\n",
       "      <th>sensorCount-Bathroom</th>\n",
       "      <th>sensorCount-Bedroom</th>\n",
       "      <th>sensorCount-Chair</th>\n",
       "      <th>sensorCount-DiningRoom</th>\n",
       "      <th>sensorCount-Hall</th>\n",
       "      <th>sensorCount-Ignore</th>\n",
       "      <th>sensorCount-Kitchen</th>\n",
       "      <th>sensorCount-LivingRoom</th>\n",
       "      <th>sensorCount-Office</th>\n",
       "      <th>sensorCount-OutsideDoor</th>\n",
       "      <th>sensorCount-WorkArea</th>\n",
       "      <th>sensorElTime-Bathroom</th>\n",
       "      <th>sensorElTime-Bedroom</th>\n",
       "      <th>sensorElTime-Chair</th>\n",
       "      <th>sensorElTime-DiningRoom</th>\n",
       "      <th>sensorElTime-Hall</th>\n",
       "      <th>sensorElTime-Ignore</th>\n",
       "      <th>sensorElTime-Kitchen</th>\n",
       "      <th>sensorElTime-LivingRoom</th>\n",
       "      <th>sensorElTime-Office</th>\n",
       "      <th>sensorElTime-OutsideDoor</th>\n",
       "      <th>sensorElTime-WorkArea</th>\n",
       "      <th>activity</th>\n",
       "    </tr>\n",
       "  </thead>\n",
       "  <tbody>\n",
       "    <tr>\n",
       "      <th>0</th>\n",
       "      <td>15.0</td>\n",
       "      <td>55892.0</td>\n",
       "      <td>4.0</td>\n",
       "      <td>35.0</td>\n",
       "      <td>0.0</td>\n",
       "      <td>0.0</td>\n",
       "      <td>0.0</td>\n",
       "      <td>5.0</td>\n",
       "      <td>5.0</td>\n",
       "      <td>7.0</td>\n",
       "      <td>1.360432</td>\n",
       "      <td>0.400000</td>\n",
       "      <td>1.0</td>\n",
       "      <td>0.0</td>\n",
       "      <td>0.0</td>\n",
       "      <td>0.0</td>\n",
       "      <td>0.0</td>\n",
       "      <td>0.0</td>\n",
       "      <td>0.0</td>\n",
       "      <td>19.13</td>\n",
       "      <td>0.0</td>\n",
       "      <td>1.01</td>\n",
       "      <td>0.0</td>\n",
       "      <td>4.39</td>\n",
       "      <td>9.82</td>\n",
       "      <td>86400.0</td>\n",
       "      <td>86400.0</td>\n",
       "      <td>86400.0</td>\n",
       "      <td>86400.0</td>\n",
       "      <td>86400.0</td>\n",
       "      <td>0.000000</td>\n",
       "      <td>86400.0</td>\n",
       "      <td>0.345180</td>\n",
       "      <td>86400.0</td>\n",
       "      <td>12.310958</td>\n",
       "      <td>25.200398</td>\n",
       "      <td>Other_Activity</td>\n",
       "    </tr>\n",
       "    <tr>\n",
       "      <th>1</th>\n",
       "      <td>15.0</td>\n",
       "      <td>55892.0</td>\n",
       "      <td>4.0</td>\n",
       "      <td>35.0</td>\n",
       "      <td>0.0</td>\n",
       "      <td>0.0</td>\n",
       "      <td>0.0</td>\n",
       "      <td>7.0</td>\n",
       "      <td>7.0</td>\n",
       "      <td>7.0</td>\n",
       "      <td>1.640224</td>\n",
       "      <td>0.428571</td>\n",
       "      <td>1.0</td>\n",
       "      <td>0.0</td>\n",
       "      <td>0.0</td>\n",
       "      <td>0.0</td>\n",
       "      <td>0.0</td>\n",
       "      <td>0.0</td>\n",
       "      <td>0.0</td>\n",
       "      <td>18.00</td>\n",
       "      <td>0.0</td>\n",
       "      <td>2.02</td>\n",
       "      <td>0.0</td>\n",
       "      <td>4.43</td>\n",
       "      <td>9.90</td>\n",
       "      <td>86400.0</td>\n",
       "      <td>86400.0</td>\n",
       "      <td>86400.0</td>\n",
       "      <td>86400.0</td>\n",
       "      <td>86400.0</td>\n",
       "      <td>0.224426</td>\n",
       "      <td>86400.0</td>\n",
       "      <td>0.000000</td>\n",
       "      <td>86400.0</td>\n",
       "      <td>12.535384</td>\n",
       "      <td>25.424824</td>\n",
       "      <td>Other_Activity</td>\n",
       "    </tr>\n",
       "    <tr>\n",
       "      <th>2</th>\n",
       "      <td>15.0</td>\n",
       "      <td>55894.0</td>\n",
       "      <td>4.0</td>\n",
       "      <td>34.0</td>\n",
       "      <td>2.0</td>\n",
       "      <td>0.0</td>\n",
       "      <td>0.0</td>\n",
       "      <td>7.0</td>\n",
       "      <td>7.0</td>\n",
       "      <td>7.0</td>\n",
       "      <td>1.693345</td>\n",
       "      <td>0.411765</td>\n",
       "      <td>1.0</td>\n",
       "      <td>0.0</td>\n",
       "      <td>0.0</td>\n",
       "      <td>0.0</td>\n",
       "      <td>0.0</td>\n",
       "      <td>0.0</td>\n",
       "      <td>0.0</td>\n",
       "      <td>18.16</td>\n",
       "      <td>0.0</td>\n",
       "      <td>3.04</td>\n",
       "      <td>0.0</td>\n",
       "      <td>4.47</td>\n",
       "      <td>8.68</td>\n",
       "      <td>86400.0</td>\n",
       "      <td>86400.0</td>\n",
       "      <td>86400.0</td>\n",
       "      <td>86400.0</td>\n",
       "      <td>86400.0</td>\n",
       "      <td>2.157865</td>\n",
       "      <td>86400.0</td>\n",
       "      <td>0.000000</td>\n",
       "      <td>86400.0</td>\n",
       "      <td>14.468823</td>\n",
       "      <td>27.358263</td>\n",
       "      <td>Other_Activity</td>\n",
       "    </tr>\n",
       "    <tr>\n",
       "      <th>3</th>\n",
       "      <td>15.0</td>\n",
       "      <td>55894.0</td>\n",
       "      <td>4.0</td>\n",
       "      <td>34.0</td>\n",
       "      <td>0.0</td>\n",
       "      <td>0.0</td>\n",
       "      <td>0.0</td>\n",
       "      <td>5.0</td>\n",
       "      <td>5.0</td>\n",
       "      <td>7.0</td>\n",
       "      <td>1.693345</td>\n",
       "      <td>0.441176</td>\n",
       "      <td>1.0</td>\n",
       "      <td>0.0</td>\n",
       "      <td>0.0</td>\n",
       "      <td>0.0</td>\n",
       "      <td>0.0</td>\n",
       "      <td>0.0</td>\n",
       "      <td>0.0</td>\n",
       "      <td>18.02</td>\n",
       "      <td>0.0</td>\n",
       "      <td>3.07</td>\n",
       "      <td>0.0</td>\n",
       "      <td>4.51</td>\n",
       "      <td>8.75</td>\n",
       "      <td>86400.0</td>\n",
       "      <td>86400.0</td>\n",
       "      <td>86400.0</td>\n",
       "      <td>86400.0</td>\n",
       "      <td>86400.0</td>\n",
       "      <td>0.000000</td>\n",
       "      <td>86400.0</td>\n",
       "      <td>0.175105</td>\n",
       "      <td>86400.0</td>\n",
       "      <td>14.643928</td>\n",
       "      <td>27.533368</td>\n",
       "      <td>Other_Activity</td>\n",
       "    </tr>\n",
       "    <tr>\n",
       "      <th>4</th>\n",
       "      <td>15.0</td>\n",
       "      <td>55896.0</td>\n",
       "      <td>4.0</td>\n",
       "      <td>35.0</td>\n",
       "      <td>2.0</td>\n",
       "      <td>0.0</td>\n",
       "      <td>0.0</td>\n",
       "      <td>5.0</td>\n",
       "      <td>5.0</td>\n",
       "      <td>7.0</td>\n",
       "      <td>1.648506</td>\n",
       "      <td>0.400000</td>\n",
       "      <td>1.0</td>\n",
       "      <td>0.0</td>\n",
       "      <td>0.0</td>\n",
       "      <td>0.0</td>\n",
       "      <td>0.0</td>\n",
       "      <td>0.0</td>\n",
       "      <td>0.0</td>\n",
       "      <td>19.18</td>\n",
       "      <td>0.0</td>\n",
       "      <td>3.10</td>\n",
       "      <td>0.0</td>\n",
       "      <td>4.55</td>\n",
       "      <td>7.52</td>\n",
       "      <td>86400.0</td>\n",
       "      <td>86400.0</td>\n",
       "      <td>86400.0</td>\n",
       "      <td>86400.0</td>\n",
       "      <td>86400.0</td>\n",
       "      <td>0.000000</td>\n",
       "      <td>86400.0</td>\n",
       "      <td>2.035394</td>\n",
       "      <td>86400.0</td>\n",
       "      <td>16.504217</td>\n",
       "      <td>29.393657</td>\n",
       "      <td>Other_Activity</td>\n",
       "    </tr>\n",
       "  </tbody>\n",
       "</table>\n",
       "</div>"
      ],
      "text/plain": [
       "   lastSensorEventHours  ...        activity\n",
       "0                  15.0  ...  Other_Activity\n",
       "1                  15.0  ...  Other_Activity\n",
       "2                  15.0  ...  Other_Activity\n",
       "3                  15.0  ...  Other_Activity\n",
       "4                  15.0  ...  Other_Activity\n",
       "\n",
       "[5 rows x 37 columns]"
      ]
     },
     "execution_count": 89,
     "metadata": {
      "tags": []
     },
     "output_type": "execute_result"
    }
   ],
   "source": [
    "temp.head()"
   ]
  },
  {
   "cell_type": "code",
   "execution_count": 0,
   "metadata": {
    "colab": {
     "base_uri": "https://localhost:8080/",
     "height": 34
    },
    "colab_type": "code",
    "executionInfo": {
     "elapsed": 1225,
     "status": "ok",
     "timestamp": 1575142951402,
     "user": {
      "displayName": "Arif Suhan 1610437642",
      "photoUrl": "https://lh3.googleusercontent.com/a-/AAuE7mD005Mog3ZCf7wm5D4VTqURTl84dnASUt3Rytb1=s64",
      "userId": "06931595225639573622"
     },
     "user_tz": -360
    },
    "id": "1Qs5jHBT1TGj",
    "outputId": "ac4fe95b-8078-4cc3-94cb-c70adffaca01"
   },
   "outputs": [
    {
     "data": {
      "text/plain": [
       "27574"
      ]
     },
     "execution_count": 92,
     "metadata": {
      "tags": []
     },
     "output_type": "execute_result"
    }
   ],
   "source": [
    "len(temp.activity[temp['activity']=='Watch_TV'])"
   ]
  },
  {
   "cell_type": "code",
   "execution_count": 0,
   "metadata": {
    "colab": {},
    "colab_type": "code",
    "id": "Q7TD6-jZ1ajt"
   },
   "outputs": [],
   "source": []
  }
 ],
 "metadata": {
  "accelerator": "GPU",
  "colab": {
   "collapsed_sections": [],
   "name": "data_preprocessing.ipynb",
   "provenance": []
  },
  "kernelspec": {
   "display_name": "Python 3",
   "language": "python",
   "name": "python3"
  },
  "language_info": {
   "codemirror_mode": {
    "name": "ipython",
    "version": 3
   },
   "file_extension": ".py",
   "mimetype": "text/x-python",
   "name": "python",
   "nbconvert_exporter": "python",
   "pygments_lexer": "ipython3",
   "version": "3.7.3"
  }
 },
 "nbformat": 4,
 "nbformat_minor": 1
}
