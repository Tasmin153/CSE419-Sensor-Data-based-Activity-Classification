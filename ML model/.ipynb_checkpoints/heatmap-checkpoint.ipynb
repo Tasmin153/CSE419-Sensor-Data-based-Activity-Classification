{
 "cells": [
  {
   "cell_type": "code",
   "execution_count": 204,
   "metadata": {},
   "outputs": [],
   "source": [
    "import numpy as np\n",
    "import pandas as pd\n",
    "import matplotlib.pyplot as plt\n",
    "import seaborn as sns"
   ]
  },
  {
   "cell_type": "code",
   "execution_count": 205,
   "metadata": {},
   "outputs": [],
   "source": [
    "# 'Cook':0\n",
    "# 'Eat':1\n",
    "# 'Phone':2\n",
    "# 'Read':3\n",
    "# 'Watch_TV':4\n",
    "\n",
    "x_axis_labels  = y_axis_labels =  ['Cook','Eat','Phone','Read','Watch_TV']"
   ]
  },
  {
   "cell_type": "code",
   "execution_count": 206,
   "metadata": {},
   "outputs": [],
   "source": [
    "d1 = np.asarray(\n",
    "    [\n",
    "    [17545,0,111,477,3202],\n",
    "    [705,0,12,272,2732],\n",
    "    [673,0,540,1469,9435],\n",
    "    [593,0,356,7514,12903],\n",
    "    [2405,0,438,2642,114988]\n",
    "])\n",
    "# dtype=np.float32"
   ]
  },
  {
   "cell_type": "code",
   "execution_count": 207,
   "metadata": {},
   "outputs": [],
   "source": [
    "res = 0\n",
    "final_d1 = np.zeros((5,5)) \n",
    "\n",
    "for i in range(len(d1)):\n",
    "    res = sum(d1[i])\n",
    "    \n",
    "    for j in range(len(d1[i])):\n",
    "        #final_d1[i][j] = round(d1[i][j]/res,3)\n",
    "        final_d1[i][j] = d1[i][j]/res"
   ]
  },
  {
   "cell_type": "code",
   "execution_count": 208,
   "metadata": {},
   "outputs": [
    {
     "data": {
      "text/plain": [
       "array([[0.82235763, 0.        , 0.00520272, 0.02235763, 0.15008202],\n",
       "       [0.1894652 , 0.        , 0.00322494, 0.07309863, 0.73421123],\n",
       "       [0.0555418 , 0.        , 0.04456549, 0.12123463, 0.77865808],\n",
       "       [0.02775438, 0.        , 0.01666199, 0.35168024, 0.6039034 ],\n",
       "       [0.01996298, 0.        , 0.00363567, 0.02193023, 0.95447113]])"
      ]
     },
     "execution_count": 208,
     "metadata": {},
     "output_type": "execute_result"
    }
   ],
   "source": [
    "final_d1"
   ]
  },
  {
   "cell_type": "code",
   "execution_count": 209,
   "metadata": {},
   "outputs": [
    {
     "data": {
      "text/html": [
       "<div>\n",
       "<style scoped>\n",
       "    .dataframe tbody tr th:only-of-type {\n",
       "        vertical-align: middle;\n",
       "    }\n",
       "\n",
       "    .dataframe tbody tr th {\n",
       "        vertical-align: top;\n",
       "    }\n",
       "\n",
       "    .dataframe thead th {\n",
       "        text-align: right;\n",
       "    }\n",
       "</style>\n",
       "<table border=\"1\" class=\"dataframe\">\n",
       "  <thead>\n",
       "    <tr style=\"text-align: right;\">\n",
       "      <th></th>\n",
       "      <th>Cook</th>\n",
       "      <th>Eat</th>\n",
       "      <th>Phone</th>\n",
       "      <th>Read</th>\n",
       "      <th>Watch_TV</th>\n",
       "    </tr>\n",
       "  </thead>\n",
       "  <tbody>\n",
       "    <tr>\n",
       "      <th>Cook</th>\n",
       "      <td>0.822358</td>\n",
       "      <td>0.0</td>\n",
       "      <td>0.005203</td>\n",
       "      <td>0.022358</td>\n",
       "      <td>0.150082</td>\n",
       "    </tr>\n",
       "    <tr>\n",
       "      <th>Eat</th>\n",
       "      <td>0.189465</td>\n",
       "      <td>0.0</td>\n",
       "      <td>0.003225</td>\n",
       "      <td>0.073099</td>\n",
       "      <td>0.734211</td>\n",
       "    </tr>\n",
       "    <tr>\n",
       "      <th>Phone</th>\n",
       "      <td>0.055542</td>\n",
       "      <td>0.0</td>\n",
       "      <td>0.044565</td>\n",
       "      <td>0.121235</td>\n",
       "      <td>0.778658</td>\n",
       "    </tr>\n",
       "    <tr>\n",
       "      <th>Read</th>\n",
       "      <td>0.027754</td>\n",
       "      <td>0.0</td>\n",
       "      <td>0.016662</td>\n",
       "      <td>0.351680</td>\n",
       "      <td>0.603903</td>\n",
       "    </tr>\n",
       "    <tr>\n",
       "      <th>Watch_TV</th>\n",
       "      <td>0.019963</td>\n",
       "      <td>0.0</td>\n",
       "      <td>0.003636</td>\n",
       "      <td>0.021930</td>\n",
       "      <td>0.954471</td>\n",
       "    </tr>\n",
       "  </tbody>\n",
       "</table>\n",
       "</div>"
      ],
      "text/plain": [
       "              Cook  Eat     Phone      Read  Watch_TV\n",
       "Cook      0.822358  0.0  0.005203  0.022358  0.150082\n",
       "Eat       0.189465  0.0  0.003225  0.073099  0.734211\n",
       "Phone     0.055542  0.0  0.044565  0.121235  0.778658\n",
       "Read      0.027754  0.0  0.016662  0.351680  0.603903\n",
       "Watch_TV  0.019963  0.0  0.003636  0.021930  0.954471"
      ]
     },
     "execution_count": 209,
     "metadata": {},
     "output_type": "execute_result"
    }
   ],
   "source": [
    "d2 = pd.DataFrame(final_d1,index=x_axis_labels,columns=y_axis_labels)\n",
    "d2.head()"
   ]
  },
  {
   "cell_type": "code",
   "execution_count": 210,
   "metadata": {},
   "outputs": [
    {
     "ename": "KeyError",
     "evalue": "(210, 90, 60)",
     "output_type": "error",
     "traceback": [
      "\u001b[1;31m---------------------------------------------------------------------------\u001b[0m",
      "\u001b[1;31mKeyError\u001b[0m                                  Traceback (most recent call last)",
      "\u001b[1;32m<ipython-input-210-e909a3ac3a28>\u001b[0m in \u001b[0;36m<module>\u001b[1;34m\u001b[0m\n\u001b[0;32m      6\u001b[0m \u001b[1;31m# Generate a custom diverging colormap\u001b[0m\u001b[1;33m\u001b[0m\u001b[1;33m\u001b[0m\u001b[1;33m\u001b[0m\u001b[0m\n\u001b[0;32m      7\u001b[0m \u001b[1;31m#cmap = sns.diverging_palette(220, 20, as_cmap=True)\u001b[0m\u001b[1;33m\u001b[0m\u001b[1;33m\u001b[0m\u001b[1;33m\u001b[0m\u001b[0m\n\u001b[1;32m----> 8\u001b[1;33m \u001b[0mcmap\u001b[0m \u001b[1;33m=\u001b[0m \u001b[0msns\u001b[0m\u001b[1;33m.\u001b[0m\u001b[0mlight_palette\u001b[0m\u001b[1;33m(\u001b[0m\u001b[1;33m(\u001b[0m\u001b[1;36m210\u001b[0m\u001b[1;33m,\u001b[0m \u001b[1;36m90\u001b[0m\u001b[1;33m,\u001b[0m \u001b[1;36m60\u001b[0m\u001b[1;33m)\u001b[0m\u001b[1;33m,\u001b[0m \u001b[0minput\u001b[0m\u001b[1;33m=\u001b[0m\u001b[1;34m\"xkcd\"\u001b[0m\u001b[1;33m)\u001b[0m\u001b[1;33m\u001b[0m\u001b[1;33m\u001b[0m\u001b[0m\n\u001b[0m\u001b[0;32m      9\u001b[0m \u001b[0mfn_s\u001b[0m \u001b[1;33m=\u001b[0m \u001b[1;36m15\u001b[0m\u001b[1;33m\u001b[0m\u001b[1;33m\u001b[0m\u001b[0m\n\u001b[0;32m     10\u001b[0m \u001b[0mplt\u001b[0m\u001b[1;33m.\u001b[0m\u001b[0mfigure\u001b[0m\u001b[1;33m(\u001b[0m\u001b[0mfigsize\u001b[0m \u001b[1;33m=\u001b[0m \u001b[1;33m(\u001b[0m\u001b[1;36m10\u001b[0m\u001b[1;33m,\u001b[0m\u001b[1;36m8\u001b[0m\u001b[1;33m)\u001b[0m\u001b[1;33m)\u001b[0m\u001b[1;33m\u001b[0m\u001b[1;33m\u001b[0m\u001b[0m\n",
      "\u001b[1;32m~\\AppData\\Local\\Continuum\\anaconda3\\lib\\site-packages\\seaborn\\palettes.py\u001b[0m in \u001b[0;36mlight_palette\u001b[1;34m(color, n_colors, reverse, as_cmap, input)\u001b[0m\n\u001b[0;32m    636\u001b[0m \u001b[1;33m\u001b[0m\u001b[0m\n\u001b[0;32m    637\u001b[0m     \"\"\"\n\u001b[1;32m--> 638\u001b[1;33m     \u001b[0mcolor\u001b[0m \u001b[1;33m=\u001b[0m \u001b[0m_color_to_rgb\u001b[0m\u001b[1;33m(\u001b[0m\u001b[0mcolor\u001b[0m\u001b[1;33m,\u001b[0m \u001b[0minput\u001b[0m\u001b[1;33m)\u001b[0m\u001b[1;33m\u001b[0m\u001b[1;33m\u001b[0m\u001b[0m\n\u001b[0m\u001b[0;32m    639\u001b[0m     \u001b[0mlight\u001b[0m \u001b[1;33m=\u001b[0m \u001b[0mset_hls_values\u001b[0m\u001b[1;33m(\u001b[0m\u001b[0mcolor\u001b[0m\u001b[1;33m,\u001b[0m \u001b[0ml\u001b[0m\u001b[1;33m=\u001b[0m\u001b[1;36m.95\u001b[0m\u001b[1;33m)\u001b[0m  \u001b[1;31m# noqa\u001b[0m\u001b[1;33m\u001b[0m\u001b[1;33m\u001b[0m\u001b[0m\n\u001b[0;32m    640\u001b[0m     \u001b[0mcolors\u001b[0m \u001b[1;33m=\u001b[0m \u001b[1;33m[\u001b[0m\u001b[0mcolor\u001b[0m\u001b[1;33m,\u001b[0m \u001b[0mlight\u001b[0m\u001b[1;33m]\u001b[0m \u001b[1;32mif\u001b[0m \u001b[0mreverse\u001b[0m \u001b[1;32melse\u001b[0m \u001b[1;33m[\u001b[0m\u001b[0mlight\u001b[0m\u001b[1;33m,\u001b[0m \u001b[0mcolor\u001b[0m\u001b[1;33m]\u001b[0m\u001b[1;33m\u001b[0m\u001b[1;33m\u001b[0m\u001b[0m\n",
      "\u001b[1;32m~\\AppData\\Local\\Continuum\\anaconda3\\lib\\site-packages\\seaborn\\palettes.py\u001b[0m in \u001b[0;36m_color_to_rgb\u001b[1;34m(color, input)\u001b[0m\n\u001b[0;32m    473\u001b[0m         \u001b[0mcolor\u001b[0m \u001b[1;33m=\u001b[0m \u001b[0mhusl\u001b[0m\u001b[1;33m.\u001b[0m\u001b[0mhusl_to_rgb\u001b[0m\u001b[1;33m(\u001b[0m\u001b[1;33m*\u001b[0m\u001b[0mcolor\u001b[0m\u001b[1;33m)\u001b[0m\u001b[1;33m\u001b[0m\u001b[1;33m\u001b[0m\u001b[0m\n\u001b[0;32m    474\u001b[0m     \u001b[1;32melif\u001b[0m \u001b[0minput\u001b[0m \u001b[1;33m==\u001b[0m \u001b[1;34m\"xkcd\"\u001b[0m\u001b[1;33m:\u001b[0m\u001b[1;33m\u001b[0m\u001b[1;33m\u001b[0m\u001b[0m\n\u001b[1;32m--> 475\u001b[1;33m         \u001b[0mcolor\u001b[0m \u001b[1;33m=\u001b[0m \u001b[0mxkcd_rgb\u001b[0m\u001b[1;33m[\u001b[0m\u001b[0mcolor\u001b[0m\u001b[1;33m]\u001b[0m\u001b[1;33m\u001b[0m\u001b[1;33m\u001b[0m\u001b[0m\n\u001b[0m\u001b[0;32m    476\u001b[0m     \u001b[1;32mreturn\u001b[0m \u001b[0mcolor\u001b[0m\u001b[1;33m\u001b[0m\u001b[1;33m\u001b[0m\u001b[0m\n\u001b[0;32m    477\u001b[0m \u001b[1;33m\u001b[0m\u001b[0m\n",
      "\u001b[1;31mKeyError\u001b[0m: (210, 90, 60)"
     ]
    }
   ],
   "source": [
    "#sns.set()\n",
    "# ax = sns.heatmap(d1, vmin=0, vmax=1,annot=True)\n",
    "# ax = sns.heatmap(d1, annot=True, fmt=\".0f\", xticklabels = x_axis_labels, yticklabels = y_axis_labels,cmap=\"YlGnBu\")\n",
    "# ax = sns.heatmap(d2, \n",
    "#                  annot=True, fmt=\".2f\", cmap=\"YlGnBu\")\n",
    "# Generate a custom diverging colormap\n",
    "#cmap = sns.diverging_palette(220, 20, as_cmap=True)\n",
    "cmap = sns.light_palette((210, 90, 60), input=\"husl\")\n",
    "fn_s = 15\n",
    "plt.figure(figsize = (10,8))\n",
    "ax = sns.heatmap(d2, \n",
    "                 annot=True, fmt=\".3f\", cmap=cmap)\n",
    "plt.title(\"Confusion matrix\", fontsize = fn_s)\n",
    "plt.xlabel(\"Predicted Label\", fontsize = fn_s)\n",
    "plt.ylabel(\"Actual Label\", fontsize = fn_s)\n",
    "plt.show()\n",
    "\n",
    "fig = ax.get_figure()\n",
    "fig.savefig('hist.png')"
   ]
  },
  {
   "cell_type": "code",
   "execution_count": null,
   "metadata": {},
   "outputs": [],
   "source": []
  },
  {
   "cell_type": "code",
   "execution_count": null,
   "metadata": {},
   "outputs": [],
   "source": []
  }
 ],
 "metadata": {
  "kernelspec": {
   "display_name": "Python 3",
   "language": "python",
   "name": "python3"
  },
  "language_info": {
   "codemirror_mode": {
    "name": "ipython",
    "version": 3
   },
   "file_extension": ".py",
   "mimetype": "text/x-python",
   "name": "python",
   "nbconvert_exporter": "python",
   "pygments_lexer": "ipython3",
   "version": "3.7.3"
  }
 },
 "nbformat": 4,
 "nbformat_minor": 2
}
