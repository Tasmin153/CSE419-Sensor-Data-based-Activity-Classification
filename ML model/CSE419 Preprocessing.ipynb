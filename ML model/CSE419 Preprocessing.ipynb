{
 "cells": [
  {
   "cell_type": "code",
   "execution_count": 123,
   "metadata": {},
   "outputs": [],
   "source": [
    "import pandas as pd\n",
    "import numpy as np\n"
   ]
  },
  {
   "cell_type": "code",
   "execution_count": 163,
   "metadata": {},
   "outputs": [],
   "source": [
    "def read_file(path):\n",
    "    data = pd.read_csv(path) \n",
    "    return find_class(data,path[23:])\n",
    "    #data.head()\n",
    "    #print(\"Total Class: \",len(find_class(data)))\n",
    "    \n",
    "    \n",
    "def find_class(data,path):\n",
    "    \n",
    "    np_data = data.values\n",
    "    row = len(np_data)\n",
    "    col = len(np_data[0])\n",
    "    \n",
    "    activity_class = []\n",
    "\n",
    "    for i in range(row):\n",
    "        activity = np_data[i][col-1]\n",
    "        activity_class.append(activity)\n",
    "    \n",
    "    return activity_class\n",
    "\n",
    "\n",
    "def count_class(activity_class):\n",
    "    \n",
    "    unique, counts = np.unique(activity_class, return_counts=True)    \n",
    "    \n",
    "    return unique, counts"
   ]
  },
  {
   "cell_type": "code",
   "execution_count": 164,
   "metadata": {
    "scrolled": true
   },
   "outputs": [],
   "source": [
    "from glob import glob\n",
    "\n",
    "folder_list = []\n",
    "file_list = []\n",
    "\n",
    "for i in glob('./casas-dataset/*'):\n",
    "    folder_list.append(i)\n",
    "    \n",
    "    for j in glob(i+'\\*ann.features.csv'):\n",
    "        file_list.append(j)\n",
    "        #print(j)"
   ]
  },
  {
   "cell_type": "code",
   "execution_count": 165,
   "metadata": {},
   "outputs": [
    {
     "name": "stdout",
     "output_type": "stream",
     "text": [
      "Folder: 30\n",
      "Total files: 30\n"
     ]
    }
   ],
   "source": [
    "print('Folder:',len(folder_list))\n",
    "print('Total files:',len(file_list))"
   ]
  },
  {
   "cell_type": "code",
   "execution_count": 146,
   "metadata": {},
   "outputs": [],
   "source": [
    "# for i in file_list:\n",
    "#     read_file(i) "
   ]
  },
  {
   "cell_type": "code",
   "execution_count": 184,
   "metadata": {},
   "outputs": [],
   "source": [
    "total_class = read_file(file_list[0])\n",
    "unique, counts = count_class(total_class)"
   ]
  },
  {
   "cell_type": "code",
   "execution_count": 185,
   "metadata": {},
   "outputs": [
    {
     "data": {
      "text/plain": [
       "array(['Bathe', 'Bed_Toilet_Transition', 'Cook', 'Cook_Breakfast',\n",
       "       'Cook_Dinner', 'Cook_Lunch', 'Dress', 'Drink', 'Eat',\n",
       "       'Eat_Breakfast', 'Eat_Dinner', 'Eat_Lunch', 'Enter_Home',\n",
       "       'Entertain_Guests', 'Evening_Meds', 'Go_To_Sleep', 'Groom',\n",
       "       'Leave_Home', 'Morning_Meds', 'Other_Activity', 'Personal_Hygiene',\n",
       "       'Phone', 'Read', 'Relax', 'Sleep', 'Sleep_Out_Of_Bed', 'Step_Out',\n",
       "       'Toilet', 'Wake_Up', 'Wash_Breakfast_Dishes', 'Wash_Dinner_Dishes',\n",
       "       'Wash_Dishes', 'Wash_Lunch_Dishes', 'Watch_TV', 'Work_At_Table'],\n",
       "      dtype='<U21')"
      ]
     },
     "execution_count": 185,
     "metadata": {},
     "output_type": "execute_result"
    }
   ],
   "source": [
    "unique"
   ]
  },
  {
   "cell_type": "code",
   "execution_count": 171,
   "metadata": {},
   "outputs": [
    {
     "data": {
      "text/plain": [
       "array([16289,   720,  2764, 16279,  5557,  3197, 14051,  3794,   496,\n",
       "        3564,  1092,   866,  2594,  2568,  3359,   412,  1797,  3124,\n",
       "        3543, 90824, 13221,  1846,  8608,  5777, 11752, 16618,  1491,\n",
       "       13727,   379,  3197,  2459,  3194,   773, 61312,   184],\n",
       "      dtype=int64)"
      ]
     },
     "execution_count": 171,
     "metadata": {},
     "output_type": "execute_result"
    }
   ],
   "source": [
    "counts"
   ]
  },
  {
   "cell_type": "code",
   "execution_count": 183,
   "metadata": {},
   "outputs": [
    {
     "data": {
      "image/png": "[encoded data removed]",
      "text/plain": [
       "<Figure size 432x288 with 1 Axes>"
      ]
     },
     "metadata": {
      "needs_background": "light"
     },
     "output_type": "display_data"
    }
   ],
   "source": [
    "df = pd.DataFrame(counts,columns = ['class'])\n",
    "ax = df.plot.hist(bins=30, alpha=1)"
   ]
  },
  {
   "cell_type": "code",
   "execution_count": null,
   "metadata": {},
   "outputs": [],
   "source": []
  },
  {
   "cell_type": "code",
   "execution_count": 190,
   "metadata": {},
   "outputs": [
    {
     "data": {
      "text/plain": [
       "(10, 9)"
      ]
     },
     "execution_count": 190,
     "metadata": {},
     "output_type": "execute_result"
    }
   ],
   "source": [
    "np.random.randint(10, size=(10, 9)).shape"
   ]
  },
  {
   "cell_type": "code",
   "execution_count": null,
   "metadata": {},
   "outputs": [],
   "source": []
  },
  {
   "cell_type": "code",
   "execution_count": null,
   "metadata": {},
   "outputs": [],
   "source": []
  }
 ],
 "metadata": {
  "kernelspec": {
   "display_name": "Python 3",
   "language": "python",
   "name": "python3"
  },
  "language_info": {
   "codemirror_mode": {
    "name": "ipython",
    "version": 3
   },
   "file_extension": ".py",
   "mimetype": "text/x-python",
   "name": "python",
   "nbconvert_exporter": "python",
   "pygments_lexer": "ipython3",
   "version": "3.7.2"
  }
 },
 "nbformat": 4,
 "nbformat_minor": 2
}
