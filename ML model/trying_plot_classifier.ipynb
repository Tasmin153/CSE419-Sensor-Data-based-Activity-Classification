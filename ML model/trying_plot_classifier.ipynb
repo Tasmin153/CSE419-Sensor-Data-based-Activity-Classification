{
 "cells": [
  {
   "cell_type": "code",
<<<<<<< HEAD
   "execution_count": 14,
=======
   "execution_count": 19,
>>>>>>> 0f75b3098006f938d7e48dae0cd7934933f76436
   "metadata": {},
   "outputs": [],
   "source": [
    "import numpy as np\n",
    "import matplotlib.pyplot as plt\n",
    "from matplotlib.colors import ListedColormap\n",
    "from sklearn.model_selection import train_test_split\n",
    "from sklearn.preprocessing import StandardScaler\n",
    "from sklearn.datasets import make_moons, make_circles, make_classification\n",
    "from sklearn.neural_network import MLPClassifier\n",
    "from sklearn.neighbors import KNeighborsClassifier\n",
    "from sklearn.svm import SVC\n",
    "from sklearn.gaussian_process import GaussianProcessClassifier\n",
    "from sklearn.gaussian_process.kernels import RBF\n",
    "from sklearn.tree import DecisionTreeClassifier\n",
    "from sklearn.ensemble import RandomForestClassifier, AdaBoostClassifier\n",
    "from sklearn.naive_bayes import GaussianNB\n",
    "from sklearn.discriminant_analysis import QuadraticDiscriminantAnalysis\n",
    "import pandas as pd \n",
    "from glob import glob\n",
    "import seaborn as sns\n",
    "\n",
    "h = .02  # step size in the mesh"
   ]
  },
  {
   "cell_type": "code",
<<<<<<< HEAD
   "execution_count": 15,
=======
   "execution_count": 20,
>>>>>>> 0f75b3098006f938d7e48dae0cd7934933f76436
   "metadata": {},
   "outputs": [],
   "source": [
    "# names = [\"Nearest Neighbors\", \"Linear SVM\", \"RBF SVM\", \"Gaussian Process\",\n",
    "#          \"Decision Tree\", \"Random Forest\", \"Neural Net\", \"AdaBoost\",\n",
    "#          \"Naive Bayes\", \"QDA\"]\n",
    "\n",
    "names = [\"Nearest Neighbors\",\"Decision Tree\", \"Random Forest\"]"
   ]
  },
  {
   "cell_type": "code",
<<<<<<< HEAD
   "execution_count": 16,
=======
   "execution_count": 21,
>>>>>>> 0f75b3098006f938d7e48dae0cd7934933f76436
   "metadata": {},
   "outputs": [],
   "source": [
    "classifiers = [\n",
    "    KNeighborsClassifier(3),\n",
    "    #SVC(kernel=\"linear\", C=0.025),\n",
    "    #SVC(gamma=2, C=1),\n",
    "    #GaussianProcessClassifier(1.0 * RBF(1.0)),\n",
    "    DecisionTreeClassifier(max_depth=5),\n",
    "    RandomForestClassifier(max_depth=5, n_estimators=10, max_features=1),\n",
    "#     MLPClassifier(alpha=1, max_iter=1000),\n",
    "#     AdaBoostClassifier(),\n",
    "#     GaussianNB(),\n",
    "#     QuadraticDiscriminantAnalysis()\n",
    "    ]"
   ]
  },
  {
   "cell_type": "code",
<<<<<<< HEAD
   "execution_count": 17,
=======
   "execution_count": 22,
>>>>>>> 0f75b3098006f938d7e48dae0cd7934933f76436
   "metadata": {},
   "outputs": [],
   "source": [
    "def folder_finder(path):\n",
    "\n",
    "    file_list = []\n",
    "\n",
    "    for j in glob(path+\"*.csv\"):\n",
    "        file_list.append(j)\n",
    "\n",
    "    return file_list\n",
    "\n",
    "def read_file(path):\n",
    "\n",
    "    data = pd.read_csv(path) \n",
    "    return data\n",
    "\n",
    "def pd_to_np(data):\n",
    "    \n",
    "    if type(data) == np.ndarray:\n",
    "      print('Data is already in numpy format!')\n",
    "    else:\n",
    "      data = data.values\n",
    "      #print('Pandas to Numpy done!')\n",
    "\n",
    "    return data\n",
    "\n",
    "\n",
    "def string_to_index(activity_label):\n",
    "\n",
    "    activity_class =[]\n",
    "    har_class = {\n",
    "                    'Cook':0,\n",
    "                    'Eat':1,\n",
    "                    'Phone':2,\n",
    "                    'Read':3,\n",
    "                    'Watch_TV':4\n",
    "                }\n",
    "    for label in activity_label:\n",
    "        activity_class.append(har_class[label[0]])\n",
    "\n",
    "    return activity_class\n",
    "\n",
    "\n",
    "def data_loader(path, split=0.3):\n",
    "    X_train =  X_test =  y_train =  y_test = []\n",
    "    x = y = []\n",
    "    feature_list = []\n",
    "    \n",
    "    pd_data = read_file(path)\n",
    "\n",
    "    for i in pd_data:\n",
    "        feature_list.append(i)\n",
    "\n",
    "    selectData = pd_data.loc[:, feature_list[:-1]]\n",
    "    activityLabel = pd_data.loc[:, ['activity']]\n",
    "    x = pd_to_np(selectData)\n",
    "    x = StandardScaler().fit_transform(x)\n",
    "    y = string_to_index(activityLabel.values)\n",
    "    y = np.asarray(y) \n",
    "    y = y.astype('int32')\n",
    "    \n",
    "    #return x,y\n",
    "    #X_train, X_test, y_train, y_test = train_test_split(x, y, test_size = split,random_state=42)\n",
    "    #return X_train, X_test, y_train, y_test\n",
    "    return x,y\n",
    "    \n",
    "# def full_dataset(file_list):\n",
    "\n",
    "#     X_train =  X_test =  y_train =  y_test = np.asarray([])\n",
    "#     X_train_temp =  X_test_temp =  y_train_temp =  y_test_temp = []\n",
    "\n",
    "#     for i in range(len(file_list)):\n",
    "#         X_train_temp, X_test_temp, y_train_temp, y_test_temp = data_loader(file_list[i])\n",
    "\n",
    "#         if i == 0:\n",
    "#             X_train = X_train_temp\n",
    "#             X_test  = X_test_temp\n",
    "#             y_train = y_train_temp\n",
    "#             y_test  = y_test_temp\n",
    "#         else:\n",
    "#             X_train = np.concatenate([X_train,X_train_temp],axis=0)\n",
    "#             X_test  = np.concatenate([X_test ,X_test_temp],axis=0)\n",
    "#             y_train = np.concatenate([y_train,y_train_temp],axis=0)\n",
    "#             y_test  = np.concatenate([y_test ,y_test_temp],axis=0)\n",
    "#     # print(X_train_temp.shape)\n",
    "#     # print(X_test_temp.shape)\n",
    "#     # print(y_train_temp.shape)\n",
    "#     # print(y_test_temp.shape) \n",
    "\n",
    "#     #return X_train, X_test, y_train, y_test\n",
    "#     return x,y\n",
    "\n",
    "def full_dataset(file_list):\n",
    "\n",
    "    x=y = np.asarray([])\n",
    "    x_temp =  y_temp =  []\n",
    "\n",
    "    for i in range(len(file_list)):\n",
    "        x_temp, y_temp = data_loader(file_list[i])\n",
    "\n",
    "        if i == 0:\n",
    "            x = x_temp\n",
    "            y = y_temp\n",
    "        else:\n",
    "            x = np.concatenate([x, x_temp],axis=0)\n",
    "            y  = np.concatenate([y ,y_temp],axis=0)\n",
    "    # print(X_train_temp.shape)\n",
    "    # print(X_test_temp.shape)\n",
    "    # print(y_train_temp.shape)\n",
    "    # print(y_test_temp.shape) \n",
    "\n",
    "    #return X_train, X_test, y_train, y_test\n",
    "    return x,y"
   ]
  },
  {
   "cell_type": "code",
<<<<<<< HEAD
   "execution_count": 18,
=======
   "execution_count": 23,
>>>>>>> 0f75b3098006f938d7e48dae0cd7934933f76436
   "metadata": {},
   "outputs": [],
   "source": [
    "from sklearn.metrics import confusion_matrix, accuracy_score,classification_report\n",
    "\n",
    "def train_model(model, X_train, y_train):\n",
    "    return model.fit(X_train, y_train)\n",
    "\n",
    "def test_model(model,X_test):\n",
    "\tpred = model.predict(X_test)\n",
    "\treturn pred\n",
    "    \n",
    "def model_init():\n",
    "\n",
    "\tmodel = classifiers[0]\n",
    "\t# model = DecisionTreeClassifier()\n",
    "\treturn model\n",
    "    \n",
    "    \n",
    "def heatmap_cm(confusion_matrix):\n",
    "    sns.heatmap(confusion_matrix, annot=True, cmap=\"YlGnBu\" ,fmt='g')\n",
    "    plt.tight_layout()\n",
    "    plt.title('Confusion matrix', y=1.1)\n",
    "    plt.ylabel('Actual label')\n",
    "    plt.xlabel('Predicted label')\n",
    "    \n",
    "# For model evolution\n",
    "def model_evalution(y_test, y_pred):\n",
    "     #print(\"------------------- Model evaluation ----------------\\n\\n\")\n",
    "     print(\"Confusion Matrix : \\n\",confusion_matrix(y_test, y_pred))\n",
    "     print(\"--------------------------------------------\")\n",
    "     print(\"Accuracy Score : \",accuracy_score(y_test,y_pred))\n",
    "     #print(\"Classification Report : \\n\",classification_report(y_test, y_pred))\n",
    "     print(\"--------------------------------------------\")\n",
    "     print(\"\")\n",
    "    \n",
    "     heatmap_cm(pd.DataFrame(confusion_matrix(y_test,y_pred)))"
   ]
  },
  {
   "cell_type": "code",
<<<<<<< HEAD
   "execution_count": 19,
=======
   "execution_count": 24,
>>>>>>> 0f75b3098006f938d7e48dae0cd7934933f76436
   "metadata": {},
   "outputs": [
    {
     "name": "stdout",
     "output_type": "stream",
     "text": [
      "['../Dataset\\\\dataset_1.csv', '../Dataset\\\\dataset_2.csv', '../Dataset\\\\dataset_3.csv', '../Dataset\\\\dataset_4.csv', '../Dataset\\\\dataset_5.csv', '../Dataset\\\\dataset_6.csv']\n",
      "Total files: 6\n"
     ]
    }
   ],
   "source": [
    "file_list = folder_finder(\"../Dataset/dataset_\")\n",
    "print(file_list)\n",
    "print('Total files:',len(file_list))"
   ]
  },
  {
   "cell_type": "code",
<<<<<<< HEAD
   "execution_count": 20,
=======
   "execution_count": 25,
>>>>>>> 0f75b3098006f938d7e48dae0cd7934933f76436
   "metadata": {},
   "outputs": [],
   "source": [
    "X,y= full_dataset(file_list)"
   ]
  },
  {
   "cell_type": "code",
<<<<<<< HEAD
   "execution_count": 21,
=======
   "execution_count": 8,
>>>>>>> 0f75b3098006f938d7e48dae0cd7934933f76436
   "metadata": {},
   "outputs": [],
   "source": [
    "x_test_bulk = []\n",
    "y_test_bulk = []\n",
    "model_arch = model_init()\n",
    "\n",
    "# for i in range(len(file_list)):\n",
    "for i in range(1,2):\n",
    "    X,y = data_loader(file_list[i])\n",
    "    model = train_model(model_arch, X,y)\n",
    "    #pickle.dump(model, open(save_model_name, 'wb'))\n",
    "    #x_test_bulk.append(X_test)\n",
    "    #y_test_bulk.append(y_test)\n",
    "\n",
    "for i in range(len(y_test_bulk)):\n",
    "    #model = pickle.load(open(save_model_name, 'rb'))\n",
    "    pred_tree = test_model(model, x_test_bulk[i])\n",
    "    model_evalution(y_test_bulk[i],pred_tree)"
   ]
  },
  {
   "cell_type": "code",
<<<<<<< HEAD
   "execution_count": 22,
=======
   "execution_count": 9,
>>>>>>> 0f75b3098006f938d7e48dae0cd7934933f76436
   "metadata": {},
   "outputs": [],
   "source": [
    "import numpy as np\n",
    "import pandas as pd\n",
    "import seaborn as sns\n",
    "import matplotlib.pyplot as plt\n",
    "\n",
    "\n",
    "from sklearn.metrics import confusion_matrix, accuracy_score,classification_report\n",
    "from sklearn.metrics import roc_auc_score\n",
    "from sklearn.metrics import roc_curve\n",
    "from sklearn.model_selection import cross_val_score\n",
    "\n",
    "%matplotlib inline"
   ]
  },
  {
   "cell_type": "code",
<<<<<<< HEAD
   "execution_count": 23,
=======
   "execution_count": 10,
>>>>>>> 0f75b3098006f938d7e48dae0cd7934933f76436
   "metadata": {},
   "outputs": [],
   "source": [
    "#X,y = data_loader(file_list[i])"
   ]
  },
  {
   "cell_type": "code",
<<<<<<< HEAD
   "execution_count": 24,
=======
   "execution_count": 29,
>>>>>>> 0f75b3098006f938d7e48dae0cd7934933f76436
   "metadata": {},
   "outputs": [
    {
     "name": "stdout",
     "output_type": "stream",
     "text": [
<<<<<<< HEAD
      "(28924, 36)\n",
      "(28924,)\n"
=======
      "(447530, 36)\n",
      "(447530,)\n"
>>>>>>> 0f75b3098006f938d7e48dae0cd7934933f76436
     ]
    }
   ],
   "source": [
    "# X,y = (X_train, y_train)\n",
    "\n",
    "print(X.shape)\n",
    "print(y.shape)"
   ]
  },
  {
   "cell_type": "code",
<<<<<<< HEAD
   "execution_count": 25,
=======
   "execution_count": 27,
>>>>>>> 0f75b3098006f938d7e48dae0cd7934933f76436
   "metadata": {},
   "outputs": [],
   "source": [
    "from sklearn.decomposition import PCA\n",
    "pca = PCA(n_components=2)\n",
    "pc_values = pca.fit_transform(X)"
   ]
  },
  {
   "cell_type": "code",
<<<<<<< HEAD
   "execution_count": 26,
=======
   "execution_count": 30,
>>>>>>> 0f75b3098006f938d7e48dae0cd7934933f76436
   "metadata": {},
   "outputs": [
    {
     "data": {
      "text/html": [
       "<div>\n",
       "<style scoped>\n",
       "    .dataframe tbody tr th:only-of-type {\n",
       "        vertical-align: middle;\n",
       "    }\n",
       "\n",
       "    .dataframe tbody tr th {\n",
       "        vertical-align: top;\n",
       "    }\n",
       "\n",
       "    .dataframe thead th {\n",
       "        text-align: right;\n",
       "    }\n",
       "</style>\n",
       "<table border=\"1\" class=\"dataframe\">\n",
       "  <thead>\n",
       "    <tr style=\"text-align: right;\">\n",
       "      <th></th>\n",
       "      <th>pc 1</th>\n",
       "      <th>pc 2</th>\n",
       "      <th>Target</th>\n",
       "    </tr>\n",
       "  </thead>\n",
       "  <tbody>\n",
       "    <tr>\n",
       "      <th>0</th>\n",
<<<<<<< HEAD
       "      <td>4.015715</td>\n",
       "      <td>-1.111385</td>\n",
       "      <td>3</td>\n",
       "    </tr>\n",
       "    <tr>\n",
       "      <th>1</th>\n",
       "      <td>4.165598</td>\n",
       "      <td>-1.089690</td>\n",
       "      <td>3</td>\n",
       "    </tr>\n",
       "    <tr>\n",
       "      <th>2</th>\n",
       "      <td>2.475519</td>\n",
       "      <td>-1.816453</td>\n",
       "      <td>3</td>\n",
       "    </tr>\n",
       "    <tr>\n",
       "      <th>3</th>\n",
       "      <td>2.516781</td>\n",
       "      <td>-1.754228</td>\n",
       "      <td>3</td>\n",
       "    </tr>\n",
       "    <tr>\n",
       "      <th>4</th>\n",
       "      <td>4.420610</td>\n",
       "      <td>-0.860519</td>\n",
       "      <td>3</td>\n",
=======
       "      <td>-2.385993</td>\n",
       "      <td>-4.783182</td>\n",
       "      <td>2</td>\n",
       "    </tr>\n",
       "    <tr>\n",
       "      <th>1</th>\n",
       "      <td>-0.665344</td>\n",
       "      <td>-4.512919</td>\n",
       "      <td>2</td>\n",
       "    </tr>\n",
       "    <tr>\n",
       "      <th>2</th>\n",
       "      <td>-2.372581</td>\n",
       "      <td>-4.765488</td>\n",
       "      <td>2</td>\n",
       "    </tr>\n",
       "    <tr>\n",
       "      <th>3</th>\n",
       "      <td>-0.507119</td>\n",
       "      <td>-4.254544</td>\n",
       "      <td>2</td>\n",
       "    </tr>\n",
       "    <tr>\n",
       "      <th>4</th>\n",
       "      <td>-0.327124</td>\n",
       "      <td>-3.876699</td>\n",
       "      <td>2</td>\n",
>>>>>>> 0f75b3098006f938d7e48dae0cd7934933f76436
       "    </tr>\n",
       "  </tbody>\n",
       "</table>\n",
       "</div>"
      ],
      "text/plain": [
       "       pc 1      pc 2  Target\n",
<<<<<<< HEAD
       "0  4.015715 -1.111385       3\n",
       "1  4.165598 -1.089690       3\n",
       "2  2.475519 -1.816453       3\n",
       "3  2.516781 -1.754228       3\n",
       "4  4.420610 -0.860519       3"
      ]
     },
     "execution_count": 26,
=======
       "0 -2.385993 -4.783182       2\n",
       "1 -0.665344 -4.512919       2\n",
       "2 -2.372581 -4.765488       2\n",
       "3 -0.507119 -4.254544       2\n",
       "4 -0.327124 -3.876699       2"
      ]
     },
     "execution_count": 30,
>>>>>>> 0f75b3098006f938d7e48dae0cd7934933f76436
     "metadata": {},
     "output_type": "execute_result"
    }
   ],
   "source": [
    "pcaDf = pd.DataFrame(data = pc_values, columns = ['pc 1', 'pc 2'])\n",
    "pcaDf['Target'] = y\n",
    "pcaDf.head()\n",
    "\n",
    "# sns.FacetGrid(pcaDf,hue='Target',height=6).map(plt.scatter,'pc 1','pc 2').add_legend()\n",
    "# plt.show()"
   ]
  },
  {
   "cell_type": "code",
<<<<<<< HEAD
   "execution_count": 27,
=======
   "execution_count": 14,
>>>>>>> 0f75b3098006f938d7e48dae0cd7934933f76436
   "metadata": {},
   "outputs": [
    {
     "data": {
<<<<<<< HEAD
      "image/png": "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\n",
=======
      "image/png": "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\n",
>>>>>>> 0f75b3098006f938d7e48dae0cd7934933f76436
      "text/plain": [
       "<Figure size 517.625x432 with 1 Axes>"
      ]
     },
     "metadata": {
      "needs_background": "light"
     },
     "output_type": "display_data"
    }
   ],
   "source": [
    "dmap = {\n",
    "            0:'Cook',\n",
    "            1:'Eat',\n",
    "            2:'Phone',\n",
    "            3:'Read',\n",
    "            4:'Watch_TV'\n",
    "        }\n",
    "\n",
    "pcaDf['Target'] = pcaDf[\"Target\"].map(dmap)\n",
    "#pcaDf.head()\n",
    "sns.FacetGrid(pcaDf,hue='Target',height=6).map(plt.scatter,'pc 1','pc 2').add_legend()\n",
    "plt.show()"
   ]
  },
  {
   "cell_type": "code",
<<<<<<< HEAD
   "execution_count": 28,
=======
   "execution_count": 15,
>>>>>>> 0f75b3098006f938d7e48dae0cd7934933f76436
   "metadata": {},
   "outputs": [
    {
     "ename": "NameError",
     "evalue": "name 'X_train' is not defined",
     "output_type": "error",
     "traceback": [
      "\u001b[1;31m---------------------------------------------------------------------------\u001b[0m",
      "\u001b[1;31mNameError\u001b[0m                                 Traceback (most recent call last)",
<<<<<<< HEAD
      "\u001b[1;32m<ipython-input-28-5f70f389a797>\u001b[0m in \u001b[0;36m<module>\u001b[1;34m\u001b[0m\n\u001b[0;32m     12\u001b[0m \u001b[1;33m\u001b[0m\u001b[0m\n\u001b[0;32m     13\u001b[0m     \u001b[0mpca\u001b[0m \u001b[1;33m=\u001b[0m \u001b[0mPCA\u001b[0m\u001b[1;33m(\u001b[0m\u001b[0mn_components\u001b[0m\u001b[1;33m=\u001b[0m\u001b[1;36m2\u001b[0m\u001b[1;33m)\u001b[0m\u001b[1;33m\u001b[0m\u001b[1;33m\u001b[0m\u001b[0m\n\u001b[1;32m---> 14\u001b[1;33m     \u001b[0mpc_train\u001b[0m \u001b[1;33m=\u001b[0m \u001b[0mpca\u001b[0m\u001b[1;33m.\u001b[0m\u001b[0mfit_transform\u001b[0m\u001b[1;33m(\u001b[0m\u001b[0mX_train\u001b[0m\u001b[1;33m)\u001b[0m\u001b[1;33m\u001b[0m\u001b[1;33m\u001b[0m\u001b[0m\n\u001b[0m\u001b[0;32m     15\u001b[0m     \u001b[0mpcaDf\u001b[0m \u001b[1;33m=\u001b[0m \u001b[0mpd\u001b[0m\u001b[1;33m.\u001b[0m\u001b[0mDataFrame\u001b[0m\u001b[1;33m(\u001b[0m\u001b[0mdata\u001b[0m \u001b[1;33m=\u001b[0m \u001b[0mpc_train\u001b[0m\u001b[1;33m,\u001b[0m \u001b[0mcolumns\u001b[0m \u001b[1;33m=\u001b[0m \u001b[1;33m[\u001b[0m\u001b[1;34m'pc 1'\u001b[0m\u001b[1;33m,\u001b[0m \u001b[1;34m'pc 2'\u001b[0m\u001b[1;33m]\u001b[0m\u001b[1;33m)\u001b[0m\u001b[1;33m\u001b[0m\u001b[1;33m\u001b[0m\u001b[0m\n\u001b[0;32m     16\u001b[0m     \u001b[0mpcaDf\u001b[0m\u001b[1;33m[\u001b[0m\u001b[1;34m'Target'\u001b[0m\u001b[1;33m]\u001b[0m \u001b[1;33m=\u001b[0m \u001b[0my_train\u001b[0m\u001b[1;33m\u001b[0m\u001b[1;33m\u001b[0m\u001b[0m\n",
=======
      "\u001b[1;32m<ipython-input-15-5f70f389a797>\u001b[0m in \u001b[0;36m<module>\u001b[1;34m\u001b[0m\n\u001b[0;32m     12\u001b[0m \u001b[1;33m\u001b[0m\u001b[0m\n\u001b[0;32m     13\u001b[0m     \u001b[0mpca\u001b[0m \u001b[1;33m=\u001b[0m \u001b[0mPCA\u001b[0m\u001b[1;33m(\u001b[0m\u001b[0mn_components\u001b[0m\u001b[1;33m=\u001b[0m\u001b[1;36m2\u001b[0m\u001b[1;33m)\u001b[0m\u001b[1;33m\u001b[0m\u001b[1;33m\u001b[0m\u001b[0m\n\u001b[1;32m---> 14\u001b[1;33m     \u001b[0mpc_train\u001b[0m \u001b[1;33m=\u001b[0m \u001b[0mpca\u001b[0m\u001b[1;33m.\u001b[0m\u001b[0mfit_transform\u001b[0m\u001b[1;33m(\u001b[0m\u001b[0mX_train\u001b[0m\u001b[1;33m)\u001b[0m\u001b[1;33m\u001b[0m\u001b[1;33m\u001b[0m\u001b[0m\n\u001b[0m\u001b[0;32m     15\u001b[0m     \u001b[0mpcaDf\u001b[0m \u001b[1;33m=\u001b[0m \u001b[0mpd\u001b[0m\u001b[1;33m.\u001b[0m\u001b[0mDataFrame\u001b[0m\u001b[1;33m(\u001b[0m\u001b[0mdata\u001b[0m \u001b[1;33m=\u001b[0m \u001b[0mpc_train\u001b[0m\u001b[1;33m,\u001b[0m \u001b[0mcolumns\u001b[0m \u001b[1;33m=\u001b[0m \u001b[1;33m[\u001b[0m\u001b[1;34m'pc 1'\u001b[0m\u001b[1;33m,\u001b[0m \u001b[1;34m'pc 2'\u001b[0m\u001b[1;33m]\u001b[0m\u001b[1;33m)\u001b[0m\u001b[1;33m\u001b[0m\u001b[1;33m\u001b[0m\u001b[0m\n\u001b[0;32m     16\u001b[0m     \u001b[0mpcaDf\u001b[0m\u001b[1;33m[\u001b[0m\u001b[1;34m'Target'\u001b[0m\u001b[1;33m]\u001b[0m \u001b[1;33m=\u001b[0m \u001b[0my_train\u001b[0m\u001b[1;33m\u001b[0m\u001b[1;33m\u001b[0m\u001b[0m\n",
>>>>>>> 0f75b3098006f938d7e48dae0cd7934933f76436
      "\u001b[1;31mNameError\u001b[0m: name 'X_train' is not defined"
     ]
    },
    {
     "data": {
      "text/plain": [
       "<Figure size 1944x648 with 0 Axes>"
      ]
     },
     "metadata": {},
     "output_type": "display_data"
    }
   ],
   "source": [
    "figure = plt.figure(figsize=(27, 9))\n",
    "dmap = {\n",
    "            0:'Cook',\n",
    "            1:'Eat',\n",
    "            2:'Phone',\n",
    "            3:'Read',\n",
    "            4:'Watch_TV'\n",
    "        }\n",
    "\n",
    "for i in range(len(file_list)):\n",
    "    X,y = data_loader(file_list[i])\n",
    "    \n",
    "    pca = PCA(n_components=2)\n",
    "    pc_train = pca.fit_transform(X_train)\n",
    "    pcaDf = pd.DataFrame(data = pc_train, columns = ['pc 1', 'pc 2'])\n",
    "    pcaDf['Target'] = y_train\n",
    "    pcaDf['Target'] = pcaDf[\"Target\"].map(dmap)\n",
    "    sns.FacetGrid(pcaDf,hue='Target',height=6).map(plt.scatter,'pc 1','pc 2').add_legend()"
   ]
  },
  {
   "cell_type": "code",
   "execution_count": null,
   "metadata": {},
   "outputs": [],
   "source": [
    "figure = plt.figure(figsize=(30, 30))\n",
    "\n",
    "count = 1\n",
    "\n",
    "for i in range(len(file_list)):\n",
    "    X,y = data_loader(file_list[i])\n",
    "    pca = PCA(n_components=2)\n",
    "    pc_train = pca.fit_transform(X)\n",
    "    pcaDf = pd.DataFrame(data = pc_train, columns = ['pc 1', 'pc 2'])\n",
    "    pcaDf['Target'] = y\n",
    "    \n",
    "    ax = plt.subplot(6, 2, count)\n",
    "    ax.scatter(X[:,0], y, color='r')\n",
    "    ax.set_xlabel('X 0')\n",
    "    ax.set_ylabel('y')\n",
    "    ax.set_title('X vs y')\n",
    "    \n",
    "    ax = plt.subplot(6, 2, count+1)\n",
    "    ax.scatter(X[:,1], y, color='b')\n",
    "    ax.set_xlabel('X 1')\n",
    "    ax.set_ylabel('y')\n",
    "    ax.set_title('X vs y')\n",
    "    count+=2"
   ]
  },
  {
   "cell_type": "markdown",
   "metadata": {},
   "source": [
    "# Classifier"
   ]
  },
  {
   "cell_type": "code",
   "execution_count": null,
   "metadata": {},
   "outputs": [],
   "source": [
    "print(X.shape)\n",
    "print(y.shape)"
   ]
  },
  {
   "cell_type": "code",
   "execution_count": null,
   "metadata": {},
   "outputs": [],
   "source": [
    "X = pc_values\n",
    "\n",
    "rng = np.random.RandomState(2)\n",
    "X += 2 * rng.uniform(size=X.shape)\n",
    "linearly_separable = (X, y)\n",
    "\n",
    "datasets = [linearly_separable]"
   ]
  },
  {
   "cell_type": "code",
   "execution_count": null,
   "metadata": {
    "scrolled": false
   },
   "outputs": [],
   "source": [
    "figure = plt.figure(figsize=(27, 9))\n",
    "i = 1\n",
    "\n",
    "# iterate over datasets\n",
    "for ds_cnt, ds in enumerate(datasets):\n",
    "    # preprocess dataset, split into training and test part\n",
    "    X, y = ds\n",
    "    X = StandardScaler().fit_transform(X)\n",
    "    X_train, X_test, y_train, y_test = train_test_split(X, y, test_size=.4, random_state=42)\n",
    "\n",
    "    x_min, x_max = X[:, 0].min() - .5, X[:, 0].max() + .5\n",
    "    y_min, y_max = X[:, 1].min() - .5, X[:, 1].max() + .5\n",
    "    xx, yy = np.meshgrid(np.arange(x_min, x_max, h),np.arange(y_min, y_max, h))\n",
    "\n",
    "    # just plot the dataset first\n",
    "    cm = plt.cm.RdBu\n",
    "    cm_bright = ListedColormap(['#FF0000', '#0000FF'])\n",
    "    ax = plt.subplot(len(datasets), len(classifiers) + 1, i)\n",
    "    if ds_cnt == 0:\n",
    "        ax.set_title(\"Input data\")\n",
    "    # Plot the training points\n",
    "    ax.scatter(X_train[:, 0], X_train[:, 1], c=y_train, cmap=cm_bright,edgecolors='k')\n",
    "    # Plot the testing points\n",
    "    ax.scatter(X_test[:, 0], X_test[:, 1], c=y_test, cmap=cm_bright, alpha=0.6,edgecolors='k')\n",
    "    ax.set_xlim(xx.min(), xx.max())\n",
    "    ax.set_ylim(yy.min(), yy.max())\n",
    "    ax.set_xticks(())\n",
    "    ax.set_yticks(())\n",
    "    i += 1\n",
    "    \n",
    "    \n",
    "\n",
    "    # iterate over classifiers\n",
    "    for name, clf in zip(names, classifiers):\n",
    "         ax = plt.subplot(len(datasets), len(classifiers) + 1, i)\n",
    "         clf.fit(X_train, y_train)\n",
    "         score = clf.score(X_test, y_test)\n",
    "\n",
    "#         # Plot the decision boundary. For that, we will assign a color to each\n",
    "#         # point in the mesh [x_min, x_max]x[y_min, y_max].\n",
    "         if hasattr(clf, \"decision_function\"):\n",
    "             Z = clf.decision_function(np.c_[xx.ravel(), yy.ravel()])\n",
    "         else:\n",
    "             Z = clf.predict_proba(np.c_[xx.ravel(), yy.ravel()])[:, 1]\n",
    "\n",
    "#         # Put the result into a color plot\n",
    "         Z = Z.reshape(xx.shape)\n",
    "         #Z = Z.flatten().reshape(1960,420)\n",
    "         ax.contourf(xx, yy, Z, cmap=cm, alpha=.8)\n",
    "         print(Z.shape)\n",
    "\n",
    "#         # Plot the training points\n",
    "         ax.scatter(X_train[:, 0], X_train[:, 1], c=y_train, cmap=cm_bright,edgecolors='k')\n",
    "#         # Plot the testing points\n",
    "         ax.scatter(X_test[:, 0], X_test[:, 1], c=y_test, cmap=cm_bright,edgecolors='k', alpha=0.6)\n",
    "\n",
    "         ax.set_xlim(xx.min(), xx.max())\n",
    "         ax.set_ylim(yy.min(), yy.max())\n",
    "         ax.set_xticks(())\n",
    "         ax.set_yticks(())\n",
    "         if ds_cnt == 0:\n",
    "             ax.set_title(name)\n",
    "         ax.text(xx.max() - .3, yy.min() + .3, ('%.2f' % score).lstrip('0'),\n",
    "                 size=15, horizontalalignment='right')\n",
    "         i += 1\n",
    "\n",
    "plt.tight_layout()\n",
    "plt.show()"
   ]
  },
  {
   "cell_type": "markdown",
   "metadata": {},
   "source": [
    " for name, clf in zip(names, classifiers):\n",
    "    clf.fit(X_train, y_train)\n",
    "    score = clf.score(X_test, y_test)\n",
    "    print(score)"
   ]
  },
  {
   "cell_type": "code",
   "execution_count": null,
   "metadata": {},
   "outputs": [],
   "source": [
    "classifiers = [\n",
    "    KNeighborsClassifier(3),\n",
    "    SVC(kernel=\"linear\", C=0.025),\n",
    "    SVC(gamma=2, C=1),\n",
    "#     GaussianProcessClassifier(1.0 * RBF(1.0)),\n",
    "#     DecisionTreeClassifier(max_depth=5),\n",
    "#     RandomForestClassifier(max_depth=5, n_estimators=10, max_features=1),\n",
    "#     MLPClassifier(alpha=1, max_iter=1000),\n",
    "#     AdaBoostClassifier(),\n",
    "#     GaussianNB(),\n",
    "#     QuadraticDiscriminantAnalysis()\n",
    "]"
   ]
  },
  {
   "cell_type": "code",
   "execution_count": null,
   "metadata": {},
   "outputs": [],
   "source": [
    "import matplotlib.pyplot as plt\n",
    "fig=plt.figure()\n",
    "ax=fig.add_axes([0,0,1,1])\n",
    "ax.scatter(X[:, 0], X[:, 1], color='r')\n",
    "# ax.scatter(X[:, 0], X[:, 1], color='b')\n",
    "ax.set_xlabel('Grades Range')\n",
    "ax.set_ylabel('Grades Scored')\n",
    "ax.set_title('scatter plot')\n",
    "plt.show()"
   ]
  },
  {
   "cell_type": "code",
   "execution_count": null,
   "metadata": {},
   "outputs": [],
   "source": [
    "import matplotlib.pyplot as plt\n",
    "\n",
    "fig, ax = plt.subplots(nrows=2, ncols=2)\n",
    "count = 0\n",
    "\n",
    "for row in ax:\n",
    "    for col in row:\n",
    "        col.scatter(X[:, 0], X[:, 1], color='r')\n",
    "plt.show()"
   ]
  },
  {
   "cell_type": "code",
   "execution_count": null,
   "metadata": {},
   "outputs": [],
   "source": [
    "figure = plt.figure(figsize=(27, 9))\n",
    "\n",
    "for i in range(1,10):\n",
    "    ax = plt.subplot(3, 3, i)\n",
    "    ax.scatter(X[:, 0], X[:, 1], color='r')"
   ]
  },
  {
   "cell_type": "code",
   "execution_count": null,
   "metadata": {},
   "outputs": [],
   "source": []
  }
 ],
 "metadata": {
  "kernelspec": {
   "display_name": "Python 3",
   "language": "python",
   "name": "python3"
  },
  "language_info": {
   "codemirror_mode": {
    "name": "ipython",
    "version": 3
   },
   "file_extension": ".py",
   "mimetype": "text/x-python",
   "name": "python",
   "nbconvert_exporter": "python",
   "pygments_lexer": "ipython3",
   "version": "3.7.6"
  }
 },
 "nbformat": 4,
 "nbformat_minor": 1
}
