{
 "cells": [
  {
   "cell_type": "code",
   "execution_count": 1,
   "metadata": {
    "colab": {},
    "colab_type": "code",
    "id": "tqkNhYzZjbsU"
   },
   "outputs": [],
   "source": [
    "# https://archive.ics.uci.edu/ml/datasets/Human+Activity+Recognition+from+Continuous+Ambient+Sensor+Data?fbclid=IwAR1ltSC3CwmL9BywyE3wDyfTK4qNlnzATqkrb6Mh0F8p4pkevRF0CebQ690\n",
    "\n",
    "\n",
    "#!wget https://archive.ics.uci.edu/ml/machine-learning-databases/00506/casas-dataset.zip\n",
    "#!unzip casas-dataset.zip"
   ]
  },
  {
   "cell_type": "code",
   "execution_count": 2,
   "metadata": {
    "colab": {
     "base_uri": "https://localhost:8080/",
     "height": 153
    },
    "colab_type": "code",
    "executionInfo": {
     "elapsed": 5164,
     "status": "ok",
     "timestamp": 1576752575283,
     "user": {
      "displayName": "Arif Suhan 1610437642",
      "photoUrl": "https://lh3.googleusercontent.com/a-/AAuE7mD005Mog3ZCf7wm5D4VTqURTl84dnASUt3Rytb1=s64",
      "userId": "06931595225639573622"
     },
     "user_tz": -360
    },
    "id": "eUcsga2uCMp4",
    "outputId": "f347330d-e5d0-4e8e-a733-5c9df577d7fa"
   },
   "outputs": [
    {
     "name": "stdout",
     "output_type": "stream",
     "text": [
      "total 2.5M\n",
      "drwxr-xr-x 1 Lab-User None    0 Dec 19 17:03 Adversarial Attacks\n",
      "drwxr-xr-x 1 Lab-User None    0 Dec 19 17:03 Android App for Data Collection\n",
      "drwxr-xr-x 1 Lab-User None    0 Dec 23 14:13 Data collection script\n",
      "drwxr-xr-x 1 Lab-User None    0 Dec 23 14:14 Dataset\n",
      "drwxr-xr-x 1 Lab-User None    0 Dec 23 13:54 ML model\n",
      "drwxr-xr-x 1 Lab-User None    0 Dec 23 14:24 Preprocessing Files\n",
      "-rw-r--r-- 1 Lab-User None 2.5M Dec 19 17:03 Project-Proposal.pptx\n",
      "-rw-r--r-- 1 Lab-User None  578 Dec 19 17:03 README.md\n",
      "drwxr-xr-x 1 Lab-User None    0 Dec 19 17:03 Related Work\n",
      "drwxr-xr-x 1 Lab-User None    0 Dec 19 17:03 Statistical Distribution\n",
      "drwxr-xr-x 1 Lab-User None    0 Dec 19 17:03 UCI_HAR_2012\n",
      "-rw-r--r-- 1 Lab-User None  33K Dec 23 12:00 data_preprocessing.ipynb\n",
      "-rw-r--r-- 1 Lab-User None  472 Dec 19 17:03 paper review.txt\n",
      "drwxr-xr-x 1 Lab-User None    0 Dec 23 13:43 src\n"
     ]
    }
   ],
   "source": [
    "!ls -lh"
   ]
  },
  {
   "cell_type": "markdown",
   "metadata": {
    "colab_type": "text",
    "id": "KmfB5VnSPuYe"
   },
   "source": [
    "# Data Preprocess"
   ]
  },
  {
   "cell_type": "code",
   "execution_count": 3,
   "metadata": {
    "cellView": "both",
    "colab": {},
    "colab_type": "code",
    "id": "y8VpSszRKtxj"
   },
   "outputs": [],
   "source": [
    "#@title Attribute Uniqueness\n",
    "def attr_finder(data):\n",
    "    temp = {}\n",
    "\n",
    "    for i in data:\n",
    "        temp[i] = data[i].unique().shape[0]\n",
    "        #print(i,data[i].unique().shape[0])\n",
    "    #return temp\n",
    "    sort_dict(temp)\n",
    "\n",
    "def sort_dict(data):\n",
    "    for i in sorted(data.items(), key=lambda x: x[1]):\n",
    "        print(i)"
   ]
  },
  {
   "cell_type": "code",
   "execution_count": 4,
   "metadata": {
    "colab": {},
    "colab_type": "code",
    "id": "HRsLdqd4QYcn"
   },
   "outputs": [],
   "source": [
    "import numpy as np\n",
    "import pandas as pd\n",
    "import matplotlib.pyplot as plt\n",
    "\n",
    "from tqdm import tqdm"
   ]
  },
  {
   "cell_type": "code",
   "execution_count": 5,
   "metadata": {
    "cellView": "both",
    "colab": {
     "base_uri": "https://localhost:8080/",
     "height": 561
    },
    "colab_type": "code",
    "executionInfo": {
     "elapsed": 4874,
     "status": "ok",
     "timestamp": 1576752602369,
     "user": {
      "displayName": "Arif Suhan 1610437642",
      "photoUrl": "https://lh3.googleusercontent.com/a-/AAuE7mD005Mog3ZCf7wm5D4VTqURTl84dnASUt3Rytb1=s64",
      "userId": "06931595225639573622"
     },
     "user_tz": -360
    },
    "id": "4ZyZvU7hfEY4",
    "outputId": "073456a7-0675-4e39-fdc9-63f386814fc6"
   },
   "outputs": [
    {
     "name": "stdout",
     "output_type": "stream",
     "text": [
      "Total files: 6\n"
     ]
    },
    {
     "data": {
      "text/plain": [
       "['Dataset\\\\data_1.csv',\n",
       " 'Dataset\\\\data_2.csv',\n",
       " 'Dataset\\\\data_3.csv',\n",
       " 'Dataset\\\\data_4.csv',\n",
       " 'Dataset\\\\data_5.csv',\n",
       " 'Dataset\\\\data_6.csv']"
      ]
     },
     "execution_count": 5,
     "metadata": {},
     "output_type": "execute_result"
    }
   ],
   "source": [
    "#@title File List\n",
    "from glob import glob\n",
    "\n",
    "folder_list = []\n",
    "file_list = []\n",
    "\n",
    "for i in glob('Dataset/*.csv'):\n",
    "    file_list.append(i)\n",
    "\n",
    "print('Total files:',len(file_list))\n",
    "file_list"
   ]
  },
  {
   "cell_type": "code",
   "execution_count": 48,
   "metadata": {
    "colab": {
     "base_uri": "https://localhost:8080/",
     "height": 334
    },
    "colab_type": "code",
    "executionInfo": {
     "elapsed": 3379,
     "status": "ok",
     "timestamp": 1576752611269,
     "user": {
      "displayName": "Arif Suhan 1610437642",
      "photoUrl": "https://lh3.googleusercontent.com/a-/AAuE7mD005Mog3ZCf7wm5D4VTqURTl84dnASUt3Rytb1=s64",
      "userId": "06931595225639573622"
     },
     "user_tz": -360
    },
    "id": "cRUKFSSpKaOA",
    "outputId": "52cb877e-cc38-4ab9-c02c-64eb93151987"
   },
   "outputs": [
    {
     "data": {
      "text/plain": [
       "(75026, 37)"
      ]
     },
     "execution_count": 48,
     "metadata": {},
     "output_type": "execute_result"
    }
   ],
   "source": [
    "data = pd.read_csv(file_list[0])\n",
    "\n",
    "data.describe()\n",
    "\n",
    "data.shape"
   ]
  },
  {
   "cell_type": "code",
   "execution_count": 21,
   "metadata": {},
   "outputs": [],
   "source": [
    "# for i in data:\n",
    "#     print(i)"
   ]
  },
  {
   "cell_type": "code",
   "execution_count": 30,
   "metadata": {
    "colab": {
     "base_uri": "https://localhost:8080/",
     "height": 1000
    },
    "colab_type": "code",
    "executionInfo": {
     "elapsed": 1435,
     "status": "ok",
     "timestamp": 1576752660808,
     "user": {
      "displayName": "Arif Suhan 1610437642",
      "photoUrl": "https://lh3.googleusercontent.com/a-/AAuE7mD005Mog3ZCf7wm5D4VTqURTl84dnASUt3Rytb1=s64",
      "userId": "06931595225639573622"
     },
     "user_tz": -360
    },
    "id": "6Y1ien-PKlu3",
    "outputId": "7abb80c4-5d08-4532-ab05-aee12e410bd3"
   },
   "outputs": [
    {
     "name": "stdout",
     "output_type": "stream",
     "text": [
      "['Cook' 'Eat' 'Watch_TV' 'Phone' 'Read']\n",
      "Cook        4754\n",
      "Watch_TV    3537\n",
      "Read        1026\n",
      "Eat          671\n",
      "Phone        551\n",
      "Name: activity, dtype: int64\n",
      "('numDistinctSensors', 1)\n",
      "('sensorCount-Chair', 1)\n",
      "('sensorElTime-Chair', 1)\n",
      "('lastSensorID', 5)\n",
      "('lastSensorLocation', 5)\n",
      "('lastMotionLocation', 5)\n",
      "('activity', 5)\n",
      "('lastSensorDayOfWeek', 7)\n",
      "('prevDominantSensor1', 8)\n",
      "('prevDominantSensor2', 8)\n",
      "('lastSensorEventHours', 19)\n",
      "('areaTransitions', 22)\n",
      "('timeSinceLastSensorEvent', 135)\n",
      "('sensorCount-WorkArea', 274)\n",
      "('sensorCount-Bedroom', 499)\n",
      "('sensorCount-OutsideDoor', 507)\n",
      "('windowDuration', 750)\n",
      "('complexity', 769)\n",
      "('sensorCount-Bathroom', 1023)\n",
      "('sensorCount-DiningRoom', 1764)\n",
      "('sensorCount-Ignore', 2381)\n",
      "('sensorCount-LivingRoom', 3219)\n",
      "('sensorCount-Kitchen', 3385)\n",
      "('activityChange', 4101)\n",
      "('sensorElTime-LivingRoom', 6394)\n",
      "('sensorElTime-Kitchen', 6480)\n",
      "('lastSensorEventSeconds', 7743)\n",
      "('sensorElTime-Ignore', 8890)\n",
      "('sensorElTime-DiningRoom', 9824)\n",
      "('sensorElTime-OutsideDoor', 10537)\n",
      "('sensorElTime-Bathroom', 10539)\n",
      "('sensorElTime-Bedroom', 10539)\n",
      "('sensorElTime-WorkArea', 10539)\n",
      "None\n"
     ]
    }
   ],
   "source": [
    "# data.head(5)\n",
    "print( data.activity.unique() )\n",
    "print( data.activity.value_counts() )\n",
    "print( attr_finder(data) )\n",
    "\n",
    "# for i in data['sensorCount-Bathroom'].unique():\n",
    "#   print(i)"
   ]
  },
  {
   "cell_type": "markdown",
   "metadata": {
    "colab_type": "text",
    "id": "BvJKqa76BKio"
   },
   "source": [
    "# Feature Selection: Tree Classifier"
   ]
  },
  {
   "cell_type": "code",
   "execution_count": 9,
   "metadata": {
    "colab": {},
    "colab_type": "code",
    "id": "ZZ1tLcbgVT1N"
   },
   "outputs": [],
   "source": [
    "import sklearn.ensemble as ske\n",
    "from sklearn.feature_selection import SelectFromModel"
   ]
  },
  {
   "cell_type": "code",
   "execution_count": 10,
   "metadata": {
    "colab": {},
    "colab_type": "code",
    "id": "RiTOijyCBqp7"
   },
   "outputs": [
    {
     "name": "stdout",
     "output_type": "stream",
     "text": [
      "(24645, 32)\n",
      "Total Features:  32\n"
     ]
    }
   ],
   "source": [
    "x = data.drop(['activity'], axis=1).values\n",
    "y = data['activity'].values\n",
    "\n",
    "print(x.shape)\n",
    "print('Total Features: ',x.shape[1])"
   ]
  },
  {
   "cell_type": "code",
   "execution_count": 11,
   "metadata": {
    "colab": {},
    "colab_type": "code",
    "id": "ggOvEzycBUuk"
   },
   "outputs": [
    {
     "name": "stdout",
     "output_type": "stream",
     "text": [
      "Total Features:  10\n"
     ]
    }
   ],
   "source": [
    "# Feature Selection\n",
    "\n",
    "fsel = ske.ExtraTreesClassifier().fit(x,y)\n",
    "model = SelectFromModel(fsel,prefit=True)\n",
    "x_new = model.transform(x)\n",
    "new_features = x_new.shape[1]\n",
    "\n",
    "print('Total Features: ',new_features)"
   ]
  },
  {
   "cell_type": "markdown",
   "metadata": {
    "colab_type": "text",
    "id": "NlaVkGkVqDVB"
   },
   "source": [
    "# Activity Class Count "
   ]
  },
  {
   "cell_type": "code",
   "execution_count": 13,
   "metadata": {
    "colab": {},
    "colab_type": "code",
    "id": "7rNQMbqgxXH4"
   },
   "outputs": [
    {
     "ename": "FileNotFoundError",
     "evalue": "[Errno 2] No such file or directory: 'dataset_info/activity_class_list.csv'",
     "output_type": "error",
     "traceback": [
      "\u001b[1;31m---------------------------------------------------------------------------\u001b[0m",
      "\u001b[1;31mFileNotFoundError\u001b[0m                         Traceback (most recent call last)",
      "\u001b[1;32m<ipython-input-13-9139eda77533>\u001b[0m in \u001b[0;36m<module>\u001b[1;34m\u001b[0m\n\u001b[0;32m      1\u001b[0m \u001b[0mtotal_class\u001b[0m \u001b[1;33m=\u001b[0m \u001b[1;33m[\u001b[0m\u001b[1;33m]\u001b[0m\u001b[1;33m\u001b[0m\u001b[1;33m\u001b[0m\u001b[0m\n\u001b[0;32m      2\u001b[0m \u001b[1;33m\u001b[0m\u001b[0m\n\u001b[1;32m----> 3\u001b[1;33m \u001b[1;32mwith\u001b[0m \u001b[0mopen\u001b[0m\u001b[1;33m(\u001b[0m\u001b[1;34m'dataset_info/activity_class_list.csv'\u001b[0m\u001b[1;33m,\u001b[0m\u001b[1;34m'r'\u001b[0m\u001b[1;33m)\u001b[0m \u001b[1;32mas\u001b[0m \u001b[0mf\u001b[0m\u001b[1;33m:\u001b[0m\u001b[1;33m\u001b[0m\u001b[1;33m\u001b[0m\u001b[0m\n\u001b[0m\u001b[0;32m      4\u001b[0m   \u001b[0mf_read\u001b[0m \u001b[1;33m=\u001b[0m \u001b[0mf\u001b[0m\u001b[1;33m.\u001b[0m\u001b[0mreadlines\u001b[0m\u001b[1;33m(\u001b[0m\u001b[1;33m)\u001b[0m\u001b[1;33m\u001b[0m\u001b[1;33m\u001b[0m\u001b[0m\n\u001b[0;32m      5\u001b[0m   \u001b[0mtotal_class\u001b[0m \u001b[1;33m=\u001b[0m \u001b[1;33m[\u001b[0m\u001b[0mi\u001b[0m\u001b[1;33m.\u001b[0m\u001b[0mreplace\u001b[0m\u001b[1;33m(\u001b[0m\u001b[1;34m'\\n'\u001b[0m\u001b[1;33m,\u001b[0m\u001b[1;34m''\u001b[0m\u001b[1;33m)\u001b[0m \u001b[1;32mfor\u001b[0m \u001b[0mi\u001b[0m \u001b[1;32min\u001b[0m \u001b[0mf_read\u001b[0m\u001b[1;33m]\u001b[0m\u001b[1;33m\u001b[0m\u001b[1;33m\u001b[0m\u001b[0m\n",
      "\u001b[1;31mFileNotFoundError\u001b[0m: [Errno 2] No such file or directory: 'dataset_info/activity_class_list.csv'"
     ]
    }
   ],
   "source": [
    "total_class = []\n",
    "\n",
    "with open('dataset_info/activity_class_list.csv','r') as f:\n",
    "  f_read = f.readlines()\n",
    "  total_class = [i.replace('\\n','') for i in f_read]\n",
    "\n",
    "print(len(total_class))"
   ]
  },
  {
   "cell_type": "code",
   "execution_count": 0,
   "metadata": {
    "colab": {},
    "colab_type": "code",
    "id": "_E-vGbVtqhMl"
   },
   "outputs": [],
   "source": [
    "temp = pd.read_csv(file_list[0])"
   ]
  },
  {
   "cell_type": "code",
   "execution_count": 0,
   "metadata": {
    "colab": {},
    "colab_type": "code",
    "id": "euFZZ3Mtqmz6"
   },
   "outputs": [],
   "source": []
  },
  {
   "cell_type": "code",
   "execution_count": 0,
   "metadata": {
    "colab": {
     "base_uri": "https://localhost:8080/",
     "height": 34
    },
    "colab_type": "code",
    "executionInfo": {
     "elapsed": 87536,
     "status": "ok",
     "timestamp": 1575142791162,
     "user": {
      "displayName": "Arif Suhan 1610437642",
      "photoUrl": "https://lh3.googleusercontent.com/a-/AAuE7mD005Mog3ZCf7wm5D4VTqURTl84dnASUt3Rytb1=s64",
      "userId": "06931595225639573622"
     },
     "user_tz": -360
    },
    "id": "d5hvrmVwCVC4",
    "outputId": "8dca6e41-41d4-4761-a640-2ee393d91ac1"
   },
   "outputs": [
    {
     "name": "stderr",
     "output_type": "stream",
     "text": [
      "100%|██████████| 30/30 [01:26<00:00,  1.72s/it]\n"
     ]
    }
   ],
   "source": [
    "for file in tqdm(file_list):\n",
    "  temp = pd.read_csv(file)\n",
    "  length = len(temp.activity.value_counts())\n",
    "\n",
    "  with open('dataset_info/acitivity.csv','a') as f:\n",
    "\n",
    "    f.write(file[15:21]+',')\n",
    "    for i in total_class:\n",
    "      temp_count = len(temp.activity[temp['activity']==i])\n",
    "      f.write(str(temp_count)+',')\n",
    "    f.write(str(length)+'\\n')"
   ]
  },
  {
   "cell_type": "code",
   "execution_count": 0,
   "metadata": {
    "colab": {},
    "colab_type": "code",
    "id": "xsMdWIgUrlD4"
   },
   "outputs": [],
   "source": [
    "with open('dataset_info/acitivity.csv','a') as f:\n",
    "  f.write('Filename,')\n",
    "  for i in total_class:\n",
    "    f.write(i+\",\")\n",
    "  f.write('Count Class\\n')"
   ]
  },
  {
   "cell_type": "code",
   "execution_count": 0,
   "metadata": {
    "colab": {},
    "colab_type": "code",
    "id": "hf91vexyrn15"
   },
   "outputs": [],
   "source": [
    "temp = pd.read_csv(file_list[7])\n"
   ]
  },
  {
   "cell_type": "code",
   "execution_count": 0,
   "metadata": {
    "colab": {
     "base_uri": "https://localhost:8080/",
     "height": 241
    },
    "colab_type": "code",
    "executionInfo": {
     "elapsed": 1270,
     "status": "ok",
     "timestamp": 1575142898505,
     "user": {
      "displayName": "Arif Suhan 1610437642",
      "photoUrl": "https://lh3.googleusercontent.com/a-/AAuE7mD005Mog3ZCf7wm5D4VTqURTl84dnASUt3Rytb1=s64",
      "userId": "06931595225639573622"
     },
     "user_tz": -360
    },
    "id": "hiQOpB4F1OR-",
    "outputId": "d9bf33f2-463f-4be8-937c-01c3712df929"
   },
   "outputs": [
    {
     "data": {
      "text/html": [
       "<div>\n",
       "<style scoped>\n",
       "    .dataframe tbody tr th:only-of-type {\n",
       "        vertical-align: middle;\n",
       "    }\n",
       "\n",
       "    .dataframe tbody tr th {\n",
       "        vertical-align: top;\n",
       "    }\n",
       "\n",
       "    .dataframe thead th {\n",
       "        text-align: right;\n",
       "    }\n",
       "</style>\n",
       "<table border=\"1\" class=\"dataframe\">\n",
       "  <thead>\n",
       "    <tr style=\"text-align: right;\">\n",
       "      <th></th>\n",
       "      <th>lastSensorEventHours</th>\n",
       "      <th>lastSensorEventSeconds</th>\n",
       "      <th>lastSensorDayOfWeek</th>\n",
       "      <th>windowDuration</th>\n",
       "      <th>timeSinceLastSensorEvent</th>\n",
       "      <th>prevDominantSensor1</th>\n",
       "      <th>prevDominantSensor2</th>\n",
       "      <th>lastSensorID</th>\n",
       "      <th>lastSensorLocation</th>\n",
       "      <th>lastMotionLocation</th>\n",
       "      <th>complexity</th>\n",
       "      <th>activityChange</th>\n",
       "      <th>areaTransitions</th>\n",
       "      <th>numDistinctSensors</th>\n",
       "      <th>sensorCount-Bathroom</th>\n",
       "      <th>sensorCount-Bedroom</th>\n",
       "      <th>sensorCount-Chair</th>\n",
       "      <th>sensorCount-DiningRoom</th>\n",
       "      <th>sensorCount-Hall</th>\n",
       "      <th>sensorCount-Ignore</th>\n",
       "      <th>sensorCount-Kitchen</th>\n",
       "      <th>sensorCount-LivingRoom</th>\n",
       "      <th>sensorCount-Office</th>\n",
       "      <th>sensorCount-OutsideDoor</th>\n",
       "      <th>sensorCount-WorkArea</th>\n",
       "      <th>sensorElTime-Bathroom</th>\n",
       "      <th>sensorElTime-Bedroom</th>\n",
       "      <th>sensorElTime-Chair</th>\n",
       "      <th>sensorElTime-DiningRoom</th>\n",
       "      <th>sensorElTime-Hall</th>\n",
       "      <th>sensorElTime-Ignore</th>\n",
       "      <th>sensorElTime-Kitchen</th>\n",
       "      <th>sensorElTime-LivingRoom</th>\n",
       "      <th>sensorElTime-Office</th>\n",
       "      <th>sensorElTime-OutsideDoor</th>\n",
       "      <th>sensorElTime-WorkArea</th>\n",
       "      <th>activity</th>\n",
       "    </tr>\n",
       "  </thead>\n",
       "  <tbody>\n",
       "    <tr>\n",
       "      <th>0</th>\n",
       "      <td>15.0</td>\n",
       "      <td>55892.0</td>\n",
       "      <td>4.0</td>\n",
       "      <td>35.0</td>\n",
       "      <td>0.0</td>\n",
       "      <td>0.0</td>\n",
       "      <td>0.0</td>\n",
       "      <td>5.0</td>\n",
       "      <td>5.0</td>\n",
       "      <td>7.0</td>\n",
       "      <td>1.360432</td>\n",
       "      <td>0.400000</td>\n",
       "      <td>1.0</td>\n",
       "      <td>0.0</td>\n",
       "      <td>0.0</td>\n",
       "      <td>0.0</td>\n",
       "      <td>0.0</td>\n",
       "      <td>0.0</td>\n",
       "      <td>0.0</td>\n",
       "      <td>19.13</td>\n",
       "      <td>0.0</td>\n",
       "      <td>1.01</td>\n",
       "      <td>0.0</td>\n",
       "      <td>4.39</td>\n",
       "      <td>9.82</td>\n",
       "      <td>86400.0</td>\n",
       "      <td>86400.0</td>\n",
       "      <td>86400.0</td>\n",
       "      <td>86400.0</td>\n",
       "      <td>86400.0</td>\n",
       "      <td>0.000000</td>\n",
       "      <td>86400.0</td>\n",
       "      <td>0.345180</td>\n",
       "      <td>86400.0</td>\n",
       "      <td>12.310958</td>\n",
       "      <td>25.200398</td>\n",
       "      <td>Other_Activity</td>\n",
       "    </tr>\n",
       "    <tr>\n",
       "      <th>1</th>\n",
       "      <td>15.0</td>\n",
       "      <td>55892.0</td>\n",
       "      <td>4.0</td>\n",
       "      <td>35.0</td>\n",
       "      <td>0.0</td>\n",
       "      <td>0.0</td>\n",
       "      <td>0.0</td>\n",
       "      <td>7.0</td>\n",
       "      <td>7.0</td>\n",
       "      <td>7.0</td>\n",
       "      <td>1.640224</td>\n",
       "      <td>0.428571</td>\n",
       "      <td>1.0</td>\n",
       "      <td>0.0</td>\n",
       "      <td>0.0</td>\n",
       "      <td>0.0</td>\n",
       "      <td>0.0</td>\n",
       "      <td>0.0</td>\n",
       "      <td>0.0</td>\n",
       "      <td>18.00</td>\n",
       "      <td>0.0</td>\n",
       "      <td>2.02</td>\n",
       "      <td>0.0</td>\n",
       "      <td>4.43</td>\n",
       "      <td>9.90</td>\n",
       "      <td>86400.0</td>\n",
       "      <td>86400.0</td>\n",
       "      <td>86400.0</td>\n",
       "      <td>86400.0</td>\n",
       "      <td>86400.0</td>\n",
       "      <td>0.224426</td>\n",
       "      <td>86400.0</td>\n",
       "      <td>0.000000</td>\n",
       "      <td>86400.0</td>\n",
       "      <td>12.535384</td>\n",
       "      <td>25.424824</td>\n",
       "      <td>Other_Activity</td>\n",
       "    </tr>\n",
       "    <tr>\n",
       "      <th>2</th>\n",
       "      <td>15.0</td>\n",
       "      <td>55894.0</td>\n",
       "      <td>4.0</td>\n",
       "      <td>34.0</td>\n",
       "      <td>2.0</td>\n",
       "      <td>0.0</td>\n",
       "      <td>0.0</td>\n",
       "      <td>7.0</td>\n",
       "      <td>7.0</td>\n",
       "      <td>7.0</td>\n",
       "      <td>1.693345</td>\n",
       "      <td>0.411765</td>\n",
       "      <td>1.0</td>\n",
       "      <td>0.0</td>\n",
       "      <td>0.0</td>\n",
       "      <td>0.0</td>\n",
       "      <td>0.0</td>\n",
       "      <td>0.0</td>\n",
       "      <td>0.0</td>\n",
       "      <td>18.16</td>\n",
       "      <td>0.0</td>\n",
       "      <td>3.04</td>\n",
       "      <td>0.0</td>\n",
       "      <td>4.47</td>\n",
       "      <td>8.68</td>\n",
       "      <td>86400.0</td>\n",
       "      <td>86400.0</td>\n",
       "      <td>86400.0</td>\n",
       "      <td>86400.0</td>\n",
       "      <td>86400.0</td>\n",
       "      <td>2.157865</td>\n",
       "      <td>86400.0</td>\n",
       "      <td>0.000000</td>\n",
       "      <td>86400.0</td>\n",
       "      <td>14.468823</td>\n",
       "      <td>27.358263</td>\n",
       "      <td>Other_Activity</td>\n",
       "    </tr>\n",
       "    <tr>\n",
       "      <th>3</th>\n",
       "      <td>15.0</td>\n",
       "      <td>55894.0</td>\n",
       "      <td>4.0</td>\n",
       "      <td>34.0</td>\n",
       "      <td>0.0</td>\n",
       "      <td>0.0</td>\n",
       "      <td>0.0</td>\n",
       "      <td>5.0</td>\n",
       "      <td>5.0</td>\n",
       "      <td>7.0</td>\n",
       "      <td>1.693345</td>\n",
       "      <td>0.441176</td>\n",
       "      <td>1.0</td>\n",
       "      <td>0.0</td>\n",
       "      <td>0.0</td>\n",
       "      <td>0.0</td>\n",
       "      <td>0.0</td>\n",
       "      <td>0.0</td>\n",
       "      <td>0.0</td>\n",
       "      <td>18.02</td>\n",
       "      <td>0.0</td>\n",
       "      <td>3.07</td>\n",
       "      <td>0.0</td>\n",
       "      <td>4.51</td>\n",
       "      <td>8.75</td>\n",
       "      <td>86400.0</td>\n",
       "      <td>86400.0</td>\n",
       "      <td>86400.0</td>\n",
       "      <td>86400.0</td>\n",
       "      <td>86400.0</td>\n",
       "      <td>0.000000</td>\n",
       "      <td>86400.0</td>\n",
       "      <td>0.175105</td>\n",
       "      <td>86400.0</td>\n",
       "      <td>14.643928</td>\n",
       "      <td>27.533368</td>\n",
       "      <td>Other_Activity</td>\n",
       "    </tr>\n",
       "    <tr>\n",
       "      <th>4</th>\n",
       "      <td>15.0</td>\n",
       "      <td>55896.0</td>\n",
       "      <td>4.0</td>\n",
       "      <td>35.0</td>\n",
       "      <td>2.0</td>\n",
       "      <td>0.0</td>\n",
       "      <td>0.0</td>\n",
       "      <td>5.0</td>\n",
       "      <td>5.0</td>\n",
       "      <td>7.0</td>\n",
       "      <td>1.648506</td>\n",
       "      <td>0.400000</td>\n",
       "      <td>1.0</td>\n",
       "      <td>0.0</td>\n",
       "      <td>0.0</td>\n",
       "      <td>0.0</td>\n",
       "      <td>0.0</td>\n",
       "      <td>0.0</td>\n",
       "      <td>0.0</td>\n",
       "      <td>19.18</td>\n",
       "      <td>0.0</td>\n",
       "      <td>3.10</td>\n",
       "      <td>0.0</td>\n",
       "      <td>4.55</td>\n",
       "      <td>7.52</td>\n",
       "      <td>86400.0</td>\n",
       "      <td>86400.0</td>\n",
       "      <td>86400.0</td>\n",
       "      <td>86400.0</td>\n",
       "      <td>86400.0</td>\n",
       "      <td>0.000000</td>\n",
       "      <td>86400.0</td>\n",
       "      <td>2.035394</td>\n",
       "      <td>86400.0</td>\n",
       "      <td>16.504217</td>\n",
       "      <td>29.393657</td>\n",
       "      <td>Other_Activity</td>\n",
       "    </tr>\n",
       "  </tbody>\n",
       "</table>\n",
       "</div>"
      ],
      "text/plain": [
       "   lastSensorEventHours  ...        activity\n",
       "0                  15.0  ...  Other_Activity\n",
       "1                  15.0  ...  Other_Activity\n",
       "2                  15.0  ...  Other_Activity\n",
       "3                  15.0  ...  Other_Activity\n",
       "4                  15.0  ...  Other_Activity\n",
       "\n",
       "[5 rows x 37 columns]"
      ]
     },
     "execution_count": 89,
     "metadata": {
      "tags": []
     },
     "output_type": "execute_result"
    }
   ],
   "source": [
    "temp.head()"
   ]
  },
  {
   "cell_type": "code",
   "execution_count": 0,
   "metadata": {
    "colab": {
     "base_uri": "https://localhost:8080/",
     "height": 34
    },
    "colab_type": "code",
    "executionInfo": {
     "elapsed": 1225,
     "status": "ok",
     "timestamp": 1575142951402,
     "user": {
      "displayName": "Arif Suhan 1610437642",
      "photoUrl": "https://lh3.googleusercontent.com/a-/AAuE7mD005Mog3ZCf7wm5D4VTqURTl84dnASUt3Rytb1=s64",
      "userId": "06931595225639573622"
     },
     "user_tz": -360
    },
    "id": "1Qs5jHBT1TGj",
    "outputId": "ac4fe95b-8078-4cc3-94cb-c70adffaca01"
   },
   "outputs": [
    {
     "data": {
      "text/plain": [
       "27574"
      ]
     },
     "execution_count": 92,
     "metadata": {
      "tags": []
     },
     "output_type": "execute_result"
    }
   ],
   "source": [
    "len(temp.activity[temp['activity']=='Watch_TV'])"
   ]
  },
  {
   "cell_type": "code",
   "execution_count": 0,
   "metadata": {
    "colab": {},
    "colab_type": "code",
    "id": "Q7TD6-jZ1ajt"
   },
   "outputs": [],
   "source": []
  },
  {
   "cell_type": "code",
   "execution_count": null,
   "metadata": {},
   "outputs": [],
   "source": []
  },
  {
   "cell_type": "markdown",
   "metadata": {},
   "source": [
    "# 37 Col csv Ruman  "
   ]
  },
  {
   "cell_type": "code",
   "execution_count": 44,
   "metadata": {},
   "outputs": [],
   "source": [
    "#@title File List\n",
    "from glob import glob\n",
    "\n",
    "file_list = []\n",
    "\n",
    "for file in glob('../casas-dataset/dataset_*.csv'):\n",
    "    #print(file)\n",
    "    file_list.append(file)"
   ]
  },
  {
   "cell_type": "code",
   "execution_count": 45,
   "metadata": {},
   "outputs": [
    {
     "name": "stdout",
     "output_type": "stream",
     "text": [
      "Total files: 6\n"
     ]
    },
    {
     "data": {
      "text/plain": [
       "['../casas-dataset\\\\dataset_1.csv',\n",
       " '../casas-dataset\\\\dataset_2.csv',\n",
       " '../casas-dataset\\\\dataset_3.csv',\n",
       " '../casas-dataset\\\\dataset_4.csv',\n",
       " '../casas-dataset\\\\dataset_5.csv',\n",
       " '../casas-dataset\\\\dataset_6.csv']"
      ]
     },
     "execution_count": 45,
     "metadata": {},
     "output_type": "execute_result"
    }
   ],
   "source": [
    "print('Total files:',len(file_list))\n",
    "file_list"
   ]
  },
  {
   "cell_type": "code",
   "execution_count": 68,
   "metadata": {},
   "outputs": [
    {
     "data": {
      "text/plain": [
       "(24645, 37)"
      ]
     },
     "execution_count": 68,
     "metadata": {},
     "output_type": "execute_result"
    }
   ],
   "source": [
    "data = pd.read_csv(file_list[2])\n",
    "\n",
    "data.describe()\n",
    "\n",
    "data.shape"
   ]
  },
  {
   "cell_type": "code",
   "execution_count": 69,
   "metadata": {},
   "outputs": [
    {
     "name": "stdout",
     "output_type": "stream",
     "text": [
      "('numDistinctSensors', 1)\n",
      "('sensorCount-Chair', 1)\n",
      "('sensorCount-DiningRoom', 1)\n",
      "('sensorCount-Hall', 1)\n",
      "('sensorCount-Office', 1)\n",
      "('sensorElTime-Chair', 1)\n",
      "('sensorElTime-DiningRoom', 1)\n",
      "('sensorElTime-Hall', 1)\n",
      "('sensorElTime-Office', 1)\n",
      "('activity', 5)\n",
      "('lastSensorID', 6)\n",
      "('lastSensorLocation', 6)\n",
      "('lastMotionLocation', 6)\n",
      "('lastSensorDayOfWeek', 7)\n",
      "('prevDominantSensor1', 7)\n",
      "('prevDominantSensor2', 7)\n",
      "('areaTransitions', 13)\n",
      "('lastSensorEventHours', 18)\n",
      "('sensorCount-Bathroom', 256)\n",
      "('sensorCount-OutsideDoor', 337)\n",
      "('timeSinceLastSensorEvent', 364)\n",
      "('sensorCount-LivingRoom', 538)\n",
      "('complexity', 707)\n",
      "('sensorCount-Kitchen', 1096)\n",
      "('windowDuration', 1821)\n",
      "('sensorCount-WorkArea', 4029)\n",
      "('sensorCount-Bedroom', 4754)\n",
      "('sensorCount-Ignore', 5106)\n",
      "('sensorElTime-Bedroom', 15145)\n",
      "('lastSensorEventSeconds', 15689)\n",
      "('activityChange', 15799)\n",
      "('sensorElTime-Ignore', 15993)\n",
      "('sensorElTime-WorkArea', 18578)\n",
      "('sensorElTime-Kitchen', 24224)\n",
      "('sensorElTime-LivingRoom', 24593)\n",
      "('sensorElTime-OutsideDoor', 24642)\n",
      "('sensorElTime-Bathroom', 24645)\n",
      "None\n"
     ]
    }
   ],
   "source": [
    "#print( data.activity.unique() )\n",
    "#print( data.activity.value_counts() )\n",
    "print( attr_finder(data) )"
   ]
  },
  {
   "cell_type": "code",
   "execution_count": null,
   "metadata": {},
   "outputs": [],
   "source": []
  }
 ],
 "metadata": {
  "accelerator": "GPU",
  "colab": {
   "collapsed_sections": [],
   "name": "data_preprocessing.ipynb",
   "provenance": []
  },
  "kernelspec": {
   "display_name": "Python 3",
   "language": "python",
   "name": "python3"
  },
  "language_info": {
   "codemirror_mode": {
    "name": "ipython",
    "version": 3
   },
   "file_extension": ".py",
   "mimetype": "text/x-python",
   "name": "python",
   "nbconvert_exporter": "python",
   "pygments_lexer": "ipython3",
   "version": "3.7.5"
  }
 },
 "nbformat": 4,
 "nbformat_minor": 1
}
