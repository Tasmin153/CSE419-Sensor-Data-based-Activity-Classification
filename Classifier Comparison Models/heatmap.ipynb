{
 "cells": [
  {
   "cell_type": "code",
   "execution_count": 204,
   "metadata": {},
   "outputs": [],
   "source": [
    "import numpy as np\n",
    "import pandas as pd\n",
    "import matplotlib.pyplot as plt\n",
    "import seaborn as sns"
   ]
  },
  {
   "cell_type": "code",
   "execution_count": 205,
   "metadata": {},
   "outputs": [],
   "source": [
    "# 'Cook':0\n",
    "# 'Eat':1\n",
    "# 'Phone':2\n",
    "# 'Read':3\n",
    "# 'Watch_TV':4\n",
    "\n",
    "x_axis_labels  = y_axis_labels =  ['Cook','Eat','Phone','Read','Watch_TV']"
   ]
  },
  {
   "cell_type": "code",
   "execution_count": 206,
   "metadata": {},
   "outputs": [],
   "source": [
    "d1 = np.asarray(\n",
    "    [\n",
    "    [17545,0,111,477,3202],\n",
    "    [705,0,12,272,2732],\n",
    "    [673,0,540,1469,9435],\n",
    "    [593,0,356,7514,12903],\n",
    "    [2405,0,438,2642,114988]\n",
    "])\n",
    "# dtype=np.float32"
   ]
  },
  {
   "cell_type": "code",
   "execution_count": 207,
   "metadata": {},
   "outputs": [],
   "source": [
    "res = 0\n",
    "final_d1 = np.zeros((5,5)) \n",
    "\n",
    "for i in range(len(d1)):\n",
    "    res = sum(d1[i])\n",
    "    \n",
    "    for j in range(len(d1[i])):\n",
    "        #final_d1[i][j] = round(d1[i][j]/res,3)\n",
    "        final_d1[i][j] = d1[i][j]/res"
   ]
  },
  {
   "cell_type": "code",
   "execution_count": 208,
   "metadata": {},
   "outputs": [
    {
     "data": {
      "text/plain": [
       "array([[0.82235763, 0.        , 0.00520272, 0.02235763, 0.15008202],\n",
       "       [0.1894652 , 0.        , 0.00322494, 0.07309863, 0.73421123],\n",
       "       [0.0555418 , 0.        , 0.04456549, 0.12123463, 0.77865808],\n",
       "       [0.02775438, 0.        , 0.01666199, 0.35168024, 0.6039034 ],\n",
       "       [0.01996298, 0.        , 0.00363567, 0.02193023, 0.95447113]])"
      ]
     },
     "execution_count": 208,
     "metadata": {},
     "output_type": "execute_result"
    }
   ],
   "source": [
    "final_d1"
   ]
  },
  {
   "cell_type": "code",
   "execution_count": 209,
   "metadata": {},
   "outputs": [
    {
     "data": {
      "text/html": [
       "<div>\n",
       "<style scoped>\n",
       "    .dataframe tbody tr th:only-of-type {\n",
       "        vertical-align: middle;\n",
       "    }\n",
       "\n",
       "    .dataframe tbody tr th {\n",
       "        vertical-align: top;\n",
       "    }\n",
       "\n",
       "    .dataframe thead th {\n",
       "        text-align: right;\n",
       "    }\n",
       "</style>\n",
       "<table border=\"1\" class=\"dataframe\">\n",
       "  <thead>\n",
       "    <tr style=\"text-align: right;\">\n",
       "      <th></th>\n",
       "      <th>Cook</th>\n",
       "      <th>Eat</th>\n",
       "      <th>Phone</th>\n",
       "      <th>Read</th>\n",
       "      <th>Watch_TV</th>\n",
       "    </tr>\n",
       "  </thead>\n",
       "  <tbody>\n",
       "    <tr>\n",
       "      <th>Cook</th>\n",
       "      <td>0.822358</td>\n",
       "      <td>0.0</td>\n",
       "      <td>0.005203</td>\n",
       "      <td>0.022358</td>\n",
       "      <td>0.150082</td>\n",
       "    </tr>\n",
       "    <tr>\n",
       "      <th>Eat</th>\n",
       "      <td>0.189465</td>\n",
       "      <td>0.0</td>\n",
       "      <td>0.003225</td>\n",
       "      <td>0.073099</td>\n",
       "      <td>0.734211</td>\n",
       "    </tr>\n",
       "    <tr>\n",
       "      <th>Phone</th>\n",
       "      <td>0.055542</td>\n",
       "      <td>0.0</td>\n",
       "      <td>0.044565</td>\n",
       "      <td>0.121235</td>\n",
       "      <td>0.778658</td>\n",
       "    </tr>\n",
       "    <tr>\n",
       "      <th>Read</th>\n",
       "      <td>0.027754</td>\n",
       "      <td>0.0</td>\n",
       "      <td>0.016662</td>\n",
       "      <td>0.351680</td>\n",
       "      <td>0.603903</td>\n",
       "    </tr>\n",
       "    <tr>\n",
       "      <th>Watch_TV</th>\n",
       "      <td>0.019963</td>\n",
       "      <td>0.0</td>\n",
       "      <td>0.003636</td>\n",
       "      <td>0.021930</td>\n",
       "      <td>0.954471</td>\n",
       "    </tr>\n",
       "  </tbody>\n",
       "</table>\n",
       "</div>"
      ],
      "text/plain": [
       "              Cook  Eat     Phone      Read  Watch_TV\n",
       "Cook      0.822358  0.0  0.005203  0.022358  0.150082\n",
       "Eat       0.189465  0.0  0.003225  0.073099  0.734211\n",
       "Phone     0.055542  0.0  0.044565  0.121235  0.778658\n",
       "Read      0.027754  0.0  0.016662  0.351680  0.603903\n",
       "Watch_TV  0.019963  0.0  0.003636  0.021930  0.954471"
      ]
     },
     "execution_count": 209,
     "metadata": {},
     "output_type": "execute_result"
    }
   ],
   "source": [
    "d2 = pd.DataFrame(final_d1,index=x_axis_labels,columns=y_axis_labels)\n",
    "d2.head()"
   ]
  },
  {
   "cell_type": "code",
   "execution_count": 212,
   "metadata": {},
   "outputs": [
    {
     "data": {
      "image/png": "[encoded data removed]",
      "text/plain": [
       "<Figure size 720x576 with 2 Axes>"
      ]
     },
     "metadata": {
      "needs_background": "light"
     },
     "output_type": "display_data"
    }
   ],
   "source": [
    "#sns.set()\n",
    "# ax = sns.heatmap(d1, vmin=0, vmax=1,annot=True)\n",
    "# ax = sns.heatmap(d1, annot=True, fmt=\".0f\", xticklabels = x_axis_labels, yticklabels = y_axis_labels,cmap=\"YlGnBu\")\n",
    "# ax = sns.heatmap(d2, \n",
    "#                  annot=True, fmt=\".2f\", cmap=\"YlGnBu\")\n",
    "# Generate a custom diverging colormap\n",
    "#cmap = sns.diverging_palette(220, 20, as_cmap=True)\n",
    "cmap = sns.dark_palette(\"muted purple\", input=\"xkcd\")\n",
    "fn_s = 15\n",
    "plt.figure(figsize = (10,8))\n",
    "ax = sns.heatmap(d2, \n",
    "                 annot=True, fmt=\".3f\", cmap=cmap)\n",
    "plt.title(\"Confusion matrix\", fontsize = fn_s)\n",
    "plt.xlabel(\"Predicted Label\", fontsize = fn_s)\n",
    "plt.ylabel(\"Actual Label\", fontsize = fn_s)\n",
    "plt.show()\n",
    "\n",
    "fig = ax.get_figure()\n",
    "fig.savefig('hist.png')"
   ]
  },
  {
   "cell_type": "code",
   "execution_count": null,
   "metadata": {},
   "outputs": [],
   "source": []
  },
  {
   "cell_type": "code",
   "execution_count": null,
   "metadata": {},
   "outputs": [],
   "source": []
  }
 ],
 "metadata": {
  "kernelspec": {
   "display_name": "Python 3",
   "language": "python",
   "name": "python3"
  },
  "language_info": {
   "codemirror_mode": {
    "name": "ipython",
    "version": 3
   },
   "file_extension": ".py",
   "mimetype": "text/x-python",
   "name": "python",
   "nbconvert_exporter": "python",
   "pygments_lexer": "ipython3",
   "version": "3.7.3"
  }
 },
 "nbformat": 4,
 "nbformat_minor": 2
}
