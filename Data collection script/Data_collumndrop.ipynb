{
 "cells": [
  {
   "cell_type": "code",
   "execution_count": 3,
   "metadata": {},
   "outputs": [],
   "source": [
    "import pandas as pd\n",
    "from glob import glob"
   ]
  },
  {
   "cell_type": "code",
   "execution_count": 15,
   "metadata": {},
   "outputs": [
    {
     "name": "stdout",
     "output_type": "stream",
     "text": [
      "(75026, 37)\n",
      "(75026, 33)\n",
      "data_1.csv\n",
      "(28924, 37)\n",
      "(28924, 33)\n",
      "data_2.csv\n",
      "(24645, 37)\n",
      "(24645, 33)\n",
      "data_3.csv\n",
      "(290280, 37)\n",
      "(290280, 33)\n",
      "data_4.csv\n",
      "(10539, 37)\n",
      "(10539, 33)\n",
      "data_5.csv\n",
      "(18116, 37)\n",
      "(18116, 33)\n",
      "data_6.csv\n"
     ]
    }
   ],
   "source": [
    "file_list = []\n",
    "list_c = ['sensorCount-Hall','sensorCount-Office','sensorElTime-Hall','sensorElTime-Office']\n",
    "count = 1\n",
    "\n",
    "for file in glob(\"dataset*.csv\"):\n",
    "    #print(file)\n",
    "    file_list.append(file)\n",
    "    data_1 = pd.read_csv(file)\n",
    "    print(data_1.shape)\n",
    "    data_1 = data_1.drop(list_c,axis=1)\n",
    "    print(data_1.shape)\n",
    "    \n",
    "    filename = \"data_\"+str(count)+\".csv\"\n",
    "    print(filename)\n",
    "    data_1.to_csv(filename,index=False)\n",
    "    count+=1\n",
    "\n",
    "#file_list"
   ]
  },
  {
   "cell_type": "code",
   "execution_count": 16,
   "metadata": {},
   "outputs": [],
   "source": [
    "for file in glob(\"data*.csv\"):\n",
    "    try:\n",
    "        data_1 = pd.read_csv(file)\n",
    "    except:\n",
    "        print('error')"
   ]
  },
  {
   "cell_type": "code",
   "execution_count": 9,
   "metadata": {},
   "outputs": [],
   "source": []
  },
  {
   "cell_type": "code",
   "execution_count": 11,
   "metadata": {},
   "outputs": [],
   "source": []
  },
  {
   "cell_type": "code",
   "execution_count": 12,
   "metadata": {},
   "outputs": [
    {
     "data": {
      "text/plain": [
       "(75026, 33)"
      ]
     },
     "execution_count": 12,
     "metadata": {},
     "output_type": "execute_result"
    }
   ],
   "source": []
  }
 ],
 "metadata": {
  "kernelspec": {
   "display_name": "Python 3",
   "language": "python",
   "name": "python3"
  },
  "language_info": {
   "codemirror_mode": {
    "name": "ipython",
    "version": 3
   },
   "file_extension": ".py",
   "mimetype": "text/x-python",
   "name": "python",
   "nbconvert_exporter": "python",
   "pygments_lexer": "ipython3",
   "version": "3.7.5"
  }
 },
 "nbformat": 4,
 "nbformat_minor": 2
}
