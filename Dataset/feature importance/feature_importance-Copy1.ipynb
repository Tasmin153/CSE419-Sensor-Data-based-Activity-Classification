{
 "cells": [
  {
   "cell_type": "code",
   "execution_count": 1,
   "metadata": {},
   "outputs": [],
   "source": [
    "#https://scikit-learn.org/stable/auto_examples/ensemble/plot_forest_importances.html\n",
    "\n",
    "import numpy as np\n",
    "import pandas as pd\n",
    "import matplotlib.pyplot as plt\n",
    "\n",
    "from tqdm import tqdm"
   ]
  },
  {
   "cell_type": "code",
   "execution_count": 2,
   "metadata": {},
   "outputs": [],
   "source": [
    "pd_data = pd.read_csv('new_dataset.csv')"
   ]
  },
  {
   "cell_type": "code",
   "execution_count": 3,
   "metadata": {},
   "outputs": [
    {
     "data": {
      "text/plain": [
       "(447530, 37)"
      ]
     },
     "execution_count": 3,
     "metadata": {},
     "output_type": "execute_result"
    }
   ],
   "source": [
    "pd_data.shape"
   ]
  },
  {
   "cell_type": "code",
   "execution_count": 4,
   "metadata": {},
   "outputs": [],
   "source": [
    "feature_list = []\n",
    "\n",
    "for i in pd_data:\n",
    "    feature_list.append(i)"
   ]
  },
  {
   "cell_type": "code",
   "execution_count": 5,
   "metadata": {},
   "outputs": [
    {
     "data": {
      "text/html": [
       "<div>\n",
       "<style scoped>\n",
       "    .dataframe tbody tr th:only-of-type {\n",
       "        vertical-align: middle;\n",
       "    }\n",
       "\n",
       "    .dataframe tbody tr th {\n",
       "        vertical-align: top;\n",
       "    }\n",
       "\n",
       "    .dataframe thead th {\n",
       "        text-align: right;\n",
       "    }\n",
       "</style>\n",
       "<table border=\"1\" class=\"dataframe\">\n",
       "  <thead>\n",
       "    <tr style=\"text-align: right;\">\n",
       "      <th></th>\n",
       "      <th>lastSensorEventHours</th>\n",
       "      <th>lastSensorEventSeconds</th>\n",
       "      <th>lastSensorDayOfWeek</th>\n",
       "      <th>windowDuration</th>\n",
       "      <th>timeSinceLastSensorEvent</th>\n",
       "      <th>prevDominantSensor1</th>\n",
       "      <th>prevDominantSensor2</th>\n",
       "      <th>lastSensorID</th>\n",
       "      <th>lastSensorLocation</th>\n",
       "      <th>lastMotionLocation</th>\n",
       "      <th>...</th>\n",
       "      <th>sensorElTime-Bedroom</th>\n",
       "      <th>sensorElTime-Chair</th>\n",
       "      <th>sensorElTime-DiningRoom</th>\n",
       "      <th>sensorElTime-Hall</th>\n",
       "      <th>sensorElTime-Ignore</th>\n",
       "      <th>sensorElTime-Kitchen</th>\n",
       "      <th>sensorElTime-LivingRoom</th>\n",
       "      <th>sensorElTime-Office</th>\n",
       "      <th>sensorElTime-OutsideDoor</th>\n",
       "      <th>sensorElTime-WorkArea</th>\n",
       "    </tr>\n",
       "  </thead>\n",
       "  <tbody>\n",
       "    <tr>\n",
       "      <th>0</th>\n",
       "      <td>11</td>\n",
       "      <td>42604</td>\n",
       "      <td>4</td>\n",
       "      <td>245</td>\n",
       "      <td>1</td>\n",
       "      <td>7</td>\n",
       "      <td>7</td>\n",
       "      <td>7</td>\n",
       "      <td>7</td>\n",
       "      <td>7</td>\n",
       "      <td>...</td>\n",
       "      <td>593.410195</td>\n",
       "      <td>86400.0</td>\n",
       "      <td>259.601396</td>\n",
       "      <td>86400.0</td>\n",
       "      <td>0.051314</td>\n",
       "      <td>263.245869</td>\n",
       "      <td>0.000000</td>\n",
       "      <td>86400.0</td>\n",
       "      <td>223.686032</td>\n",
       "      <td>86400.0</td>\n",
       "    </tr>\n",
       "    <tr>\n",
       "      <th>1</th>\n",
       "      <td>11</td>\n",
       "      <td>42605</td>\n",
       "      <td>4</td>\n",
       "      <td>244</td>\n",
       "      <td>1</td>\n",
       "      <td>7</td>\n",
       "      <td>7</td>\n",
       "      <td>5</td>\n",
       "      <td>5</td>\n",
       "      <td>7</td>\n",
       "      <td>...</td>\n",
       "      <td>594.506715</td>\n",
       "      <td>86400.0</td>\n",
       "      <td>260.697916</td>\n",
       "      <td>86400.0</td>\n",
       "      <td>0.000000</td>\n",
       "      <td>264.342389</td>\n",
       "      <td>1.096520</td>\n",
       "      <td>86400.0</td>\n",
       "      <td>224.782552</td>\n",
       "      <td>86400.0</td>\n",
       "    </tr>\n",
       "    <tr>\n",
       "      <th>2</th>\n",
       "      <td>11</td>\n",
       "      <td>42605</td>\n",
       "      <td>4</td>\n",
       "      <td>243</td>\n",
       "      <td>0</td>\n",
       "      <td>7</td>\n",
       "      <td>7</td>\n",
       "      <td>7</td>\n",
       "      <td>7</td>\n",
       "      <td>7</td>\n",
       "      <td>...</td>\n",
       "      <td>594.534917</td>\n",
       "      <td>86400.0</td>\n",
       "      <td>260.726118</td>\n",
       "      <td>86400.0</td>\n",
       "      <td>0.028202</td>\n",
       "      <td>264.370591</td>\n",
       "      <td>0.000000</td>\n",
       "      <td>86400.0</td>\n",
       "      <td>224.810754</td>\n",
       "      <td>86400.0</td>\n",
       "    </tr>\n",
       "    <tr>\n",
       "      <th>3</th>\n",
       "      <td>11</td>\n",
       "      <td>42606</td>\n",
       "      <td>4</td>\n",
       "      <td>244</td>\n",
       "      <td>1</td>\n",
       "      <td>7</td>\n",
       "      <td>7</td>\n",
       "      <td>5</td>\n",
       "      <td>5</td>\n",
       "      <td>7</td>\n",
       "      <td>...</td>\n",
       "      <td>596.207662</td>\n",
       "      <td>86400.0</td>\n",
       "      <td>262.398863</td>\n",
       "      <td>86400.0</td>\n",
       "      <td>0.000000</td>\n",
       "      <td>266.043336</td>\n",
       "      <td>1.672745</td>\n",
       "      <td>86400.0</td>\n",
       "      <td>226.483499</td>\n",
       "      <td>86400.0</td>\n",
       "    </tr>\n",
       "    <tr>\n",
       "      <th>4</th>\n",
       "      <td>11</td>\n",
       "      <td>42608</td>\n",
       "      <td>4</td>\n",
       "      <td>243</td>\n",
       "      <td>2</td>\n",
       "      <td>7</td>\n",
       "      <td>7</td>\n",
       "      <td>5</td>\n",
       "      <td>5</td>\n",
       "      <td>7</td>\n",
       "      <td>...</td>\n",
       "      <td>597.818360</td>\n",
       "      <td>86400.0</td>\n",
       "      <td>264.009561</td>\n",
       "      <td>86400.0</td>\n",
       "      <td>0.000000</td>\n",
       "      <td>267.654034</td>\n",
       "      <td>3.283443</td>\n",
       "      <td>86400.0</td>\n",
       "      <td>228.094197</td>\n",
       "      <td>86400.0</td>\n",
       "    </tr>\n",
       "  </tbody>\n",
       "</table>\n",
       "<p>5 rows × 36 columns</p>\n",
       "</div>"
      ],
      "text/plain": [
       "   lastSensorEventHours  lastSensorEventSeconds  lastSensorDayOfWeek  \\\n",
       "0                    11                   42604                    4   \n",
       "1                    11                   42605                    4   \n",
       "2                    11                   42605                    4   \n",
       "3                    11                   42606                    4   \n",
       "4                    11                   42608                    4   \n",
       "\n",
       "   windowDuration  timeSinceLastSensorEvent  prevDominantSensor1  \\\n",
       "0             245                         1                    7   \n",
       "1             244                         1                    7   \n",
       "2             243                         0                    7   \n",
       "3             244                         1                    7   \n",
       "4             243                         2                    7   \n",
       "\n",
       "   prevDominantSensor2  lastSensorID  lastSensorLocation  lastMotionLocation  \\\n",
       "0                    7             7                   7                   7   \n",
       "1                    7             5                   5                   7   \n",
       "2                    7             7                   7                   7   \n",
       "3                    7             5                   5                   7   \n",
       "4                    7             5                   5                   7   \n",
       "\n",
       "   ...  sensorElTime-Bedroom  sensorElTime-Chair  sensorElTime-DiningRoom  \\\n",
       "0  ...            593.410195             86400.0               259.601396   \n",
       "1  ...            594.506715             86400.0               260.697916   \n",
       "2  ...            594.534917             86400.0               260.726118   \n",
       "3  ...            596.207662             86400.0               262.398863   \n",
       "4  ...            597.818360             86400.0               264.009561   \n",
       "\n",
       "   sensorElTime-Hall  sensorElTime-Ignore  sensorElTime-Kitchen  \\\n",
       "0            86400.0             0.051314            263.245869   \n",
       "1            86400.0             0.000000            264.342389   \n",
       "2            86400.0             0.028202            264.370591   \n",
       "3            86400.0             0.000000            266.043336   \n",
       "4            86400.0             0.000000            267.654034   \n",
       "\n",
       "   sensorElTime-LivingRoom  sensorElTime-Office  sensorElTime-OutsideDoor  \\\n",
       "0                 0.000000              86400.0                223.686032   \n",
       "1                 1.096520              86400.0                224.782552   \n",
       "2                 0.000000              86400.0                224.810754   \n",
       "3                 1.672745              86400.0                226.483499   \n",
       "4                 3.283443              86400.0                228.094197   \n",
       "\n",
       "   sensorElTime-WorkArea  \n",
       "0                86400.0  \n",
       "1                86400.0  \n",
       "2                86400.0  \n",
       "3                86400.0  \n",
       "4                86400.0  \n",
       "\n",
       "[5 rows x 36 columns]"
      ]
     },
     "execution_count": 5,
     "metadata": {},
     "output_type": "execute_result"
    }
   ],
   "source": [
    "X = pd_data.loc[:, feature_list[:-1]]\n",
    "y = pd_data.loc[:, ['activity']]\n",
    "X.head()"
   ]
  },
  {
   "cell_type": "markdown",
   "metadata": {},
   "source": [
    "# Tree Classifier"
   ]
  },
  {
   "cell_type": "code",
   "execution_count": 6,
   "metadata": {},
   "outputs": [
    {
     "name": "stderr",
     "output_type": "stream",
     "text": [
      "c:\\python\\lib\\site-packages\\ipykernel_launcher.py:3: DataConversionWarning: A column-vector y was passed when a 1d array was expected. Please change the shape of y to (n_samples,), for example using ravel().\n",
      "  This is separate from the ipykernel package so we can avoid doing imports until\n"
     ]
    },
    {
     "ename": "SyntaxError",
     "evalue": "'return' outside function (<ipython-input-6-53dc0d35856b>, line 7)",
     "output_type": "error",
     "traceback": [
      "\u001b[1;36m  File \u001b[1;32m\"<ipython-input-6-53dc0d35856b>\"\u001b[1;36m, line \u001b[1;32m7\u001b[0m\n\u001b[1;33m    return X[X.columns[temp.get_support(indices=True)]]\u001b[0m\n\u001b[1;37m                                                       ^\u001b[0m\n\u001b[1;31mSyntaxError\u001b[0m\u001b[1;31m:\u001b[0m 'return' outside function\n"
     ]
    }
   ],
   "source": [
    "from sklearn.ensemble import ExtraTreesClassifier\n",
    "forest = ExtraTreesClassifier(n_estimators=250,random_state=0)\n",
    "forest.fit(X, y)\n",
    "importances = forest.feature_importances_\n",
    "std = np.std([tree.feature_importances_ for tree in forest.estimators_],axis=0)\n",
    "indices = np.argsort(importances)[::-1]\n",
    "return X[X.columns[temp.get_support(indices=True)]]"
   ]
  },
  {
   "cell_type": "code",
   "execution_count": null,
   "metadata": {},
   "outputs": [],
   "source": [
    "forest.fit(X, y)\n",
    "importances = forest.feature_importances_\n",
    "std = np.std([tree.feature_importances_ for tree in forest.estimators_],axis=0)\n",
    "indices = np.argsort(importances)[::-1]"
   ]
  },
  {
   "cell_type": "code",
   "execution_count": null,
   "metadata": {},
   "outputs": [],
   "source": [
    "# Print the feature ranking\n",
    "print(\"Feature ranking:\")\n",
    "\n",
    "for f in range(20):\n",
    "    print(\"%d. feature %d (%f)\" % (f + 1, indices[f], importances[indices[f]]))"
   ]
  },
  {
   "cell_type": "code",
   "execution_count": null,
   "metadata": {},
   "outputs": [],
   "source": [
    "# Plot the feature importances of the forest\n",
    "plt.figure(figsize=(20,10))\n",
    "plt.title('Feature Impotances: Using ExtraTreesClassifier',y=-0.1,fontsize=20)\n",
    "plt.bar(range(X.shape[1]), importances[indices],color=\"r\", yerr=std[indices], align=\"center\")\n",
    "plt.xticks(range(X.shape[1]), indices)\n",
    "plt.xlim([-1, X.shape[1]])\n",
    "\n",
    "plt.savefig(\"ExtraTreesClassifier.png\")\n",
    "#plt.show()"
   ]
  },
  {
   "cell_type": "markdown",
   "metadata": {},
   "source": [
    "# Random Forest Classifier"
   ]
  },
  {
   "cell_type": "code",
   "execution_count": null,
   "metadata": {},
   "outputs": [],
   "source": [
    "from sklearn.ensemble import RandomForestClassifier"
   ]
  },
  {
   "cell_type": "code",
   "execution_count": null,
   "metadata": {},
   "outputs": [],
   "source": [
    "forest = RandomForestClassifier(n_estimators=50)"
   ]
  },
  {
   "cell_type": "code",
   "execution_count": null,
   "metadata": {},
   "outputs": [],
   "source": [
    "forest.fit(X, y)\n",
    "importances = forest.feature_importances_\n",
    "std = np.std([tree.feature_importances_ for tree in forest.estimators_],axis=0)\n",
    "indices = np.argsort(importances)[::-1]"
   ]
  },
  {
   "cell_type": "code",
   "execution_count": null,
   "metadata": {},
   "outputs": [],
   "source": [
    "# Print the feature ranking WHEN n_estimators=50\n",
    "print(\"Feature ranking:\")\n",
    "\n",
    "for f in range(X.shape[1]):\n",
    "    print(\"%d. feature %d (%f)\" % (f + 1, indices[f], importances[indices[f]]))"
   ]
  },
  {
   "cell_type": "code",
   "execution_count": null,
   "metadata": {},
   "outputs": [],
   "source": [
    "# Print the feature ranking WHEN n_estimators=200\n",
    "print(\"Feature ranking:\")\n",
    "\n",
    "for f in range(X.shape[1]):\n",
    "    print(\"%d. feature %d (%f)\" % (f + 1, indices[f], importances[indices[f]]))"
   ]
  },
  {
   "cell_type": "code",
   "execution_count": null,
   "metadata": {},
   "outputs": [],
   "source": [
    "# Plot the feature importances of the forest\n",
    "plt.figure(figsize=(20,10))\n",
    "plt.title('Feature Impotances: Using RandomForestClassifier',y=-0.1,fontsize=20)\n",
    "plt.bar(range(X.shape[1]), importances[indices],color=\"r\", yerr=std[indices], align=\"center\")\n",
    "plt.xticks(range(X.shape[1]), indices)\n",
    "plt.xlim([-1, X.shape[1]])\n",
    "\n",
    "plt.savefig(\"RandomForestClassifier.png\")\n",
    "#plt.show()"
   ]
  },
  {
   "cell_type": "markdown",
   "metadata": {},
   "source": [
    "# L1-based"
   ]
  },
  {
   "cell_type": "code",
   "execution_count": null,
   "metadata": {},
   "outputs": [],
   "source": [
    "from sklearn.svm import LinearSVC\n",
    "\n",
    "lsvc = LinearSVC(C=0.01, penalty=\"l1\", dual=False)"
   ]
  },
  {
   "cell_type": "code",
   "execution_count": null,
   "metadata": {},
   "outputs": [],
   "source": [
    "lsvc.fit(X,y)\n",
    "\n",
    "importances = lsvc.feature_importances_\n",
    "std = np.std([tree.feature_importances_ for tree in lsvc.estimators_],axis=0)\n",
    "indices = np.argsort(importances)[::-1]"
   ]
  },
  {
   "cell_type": "code",
   "execution_count": null,
   "metadata": {},
   "outputs": [],
   "source": [
    "# Print the feature ranking\n",
    "print(\"Feature ranking:\")\n",
    "\n",
    "for f in range(X.shape[1]):\n",
    "    print(\"%d. feature %d (%f)\" % (f + 1, indices[f], importances[indices[f]]))"
   ]
  },
  {
   "cell_type": "code",
   "execution_count": null,
   "metadata": {},
   "outputs": [],
   "source": [
    "# Plot the feature importances of the forest\n",
    "plt.figure(figsize=(20,10))\n",
    "plt.title('Feature Impotances: Using LinearSVC',y=-0.1,fontsize=20)\n",
    "plt.bar(range(X.shape[1]), importances[indices],color=\"r\", yerr=std[indices], align=\"center\")\n",
    "plt.xticks(range(X.shape[1]), indices)\n",
    "plt.xlim([-1, X.shape[1]])\n",
    "\n",
    "plt.savefig(\"LinearSVC.png\")\n",
    "#plt.show()"
   ]
  }
 ],
 "metadata": {
  "kernelspec": {
   "display_name": "Python 3",
   "language": "python",
   "name": "python3"
  },
  "language_info": {
   "codemirror_mode": {
    "name": "ipython",
    "version": 3
   },
   "file_extension": ".py",
   "mimetype": "text/x-python",
   "name": "python",
   "nbconvert_exporter": "python",
   "pygments_lexer": "ipython3",
   "version": "3.7.8"
  }
 },
 "nbformat": 4,
 "nbformat_minor": 2
}
