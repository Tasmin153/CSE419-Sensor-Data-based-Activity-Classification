{
 "cells": [
  {
   "cell_type": "code",
   "execution_count": 6,
   "metadata": {},
   "outputs": [],
   "source": [
    "import numpy as np\n",
    "import pandas as pd\n",
    "import matplotlib.pyplot as plt\n",
    "from PIL import Image\n",
    "\n",
    "from tqdm import tqdm"
   ]
  },
  {
   "cell_type": "code",
   "execution_count": 7,
   "metadata": {},
   "outputs": [
    {
     "data": {
      "text/plain": [
       "(447530, 37)"
      ]
     },
     "execution_count": 7,
     "metadata": {},
     "output_type": "execute_result"
    }
   ],
   "source": [
    "pd_data = pd.read_csv('new_dataset.csv')\n",
    "pd_data.shape"
   ]
  },
  {
   "cell_type": "code",
   "execution_count": 8,
   "metadata": {},
   "outputs": [],
   "source": [
    "feature_list = []\n",
    "\n",
    "for i in pd_data:\n",
    "    feature_list.append(i)"
   ]
  },
  {
   "cell_type": "code",
   "execution_count": 9,
   "metadata": {},
   "outputs": [],
   "source": [
    "X = pd_data.loc[:, feature_list[:-1]]\n",
    "y = pd_data.loc[:, ['activity']]"
   ]
  },
  {
   "cell_type": "code",
   "execution_count": 10,
   "metadata": {},
   "outputs": [],
   "source": [
    "def selectKImportance(forest, X, k=5):\n",
    "     return X[:,forest.feature_importances_.argsort()[::-1][:k]]"
   ]
  },
  {
   "cell_type": "markdown",
   "metadata": {},
   "source": [
    "# Tree Classifier"
   ]
  },
  {
   "cell_type": "code",
   "execution_count": 26,
   "metadata": {},
   "outputs": [],
   "source": [
    "from sklearn.ensemble import ExtraTreesClassifier\n",
    "forest = ExtraTreesClassifier(n_estimators=50,random_state=0)"
   ]
  },
  {
   "cell_type": "code",
   "execution_count": 27,
   "metadata": {
    "scrolled": true
   },
   "outputs": [],
   "source": [
    "y= np.ravel(y)\n",
    "forest.fit(X, y)\n",
    "importances = forest.feature_importances_\n",
    "std = np.std([tree.feature_importances_ for tree in forest.estimators_],axis=0)\n",
    "indices = np.argsort(importances)[::-1]"
   ]
  },
  {
   "cell_type": "code",
   "execution_count": 20,
   "metadata": {},
   "outputs": [],
   "source": [
    "#indices = indices[:-5]"
   ]
  },
  {
   "cell_type": "code",
   "execution_count": 28,
   "metadata": {},
   "outputs": [
    {
     "name": "stdout",
     "output_type": "stream",
     "text": [
      "[0.08432957 0.08530595 0.03322438 0.02157238 0.0031949  0.02784608\n",
      " 0.02431585 0.02457694 0.03136654 0.06890109 0.02081814 0.01142821\n",
      " 0.01783389 0.         0.0034144  0.02409586 0.01375651 0.00956158\n",
      " 0.00048921 0.02350478 0.17246627 0.02859601 0.00367534 0.00506777\n",
      " 0.00738275 0.02870644 0.02665584 0.03518018 0.02891066 0.0034527\n",
      " 0.01179175 0.03817813 0.01218347 0.00331615 0.03315453 0.03174571]\n",
      "36\n",
      "[20  1  0  9 31 27  2 34 35  8 28 25 21  5 26  7  6 15 19  3 10 12 16 32\n",
      " 30 11 17 24 23 22 29 14 33  4 18 13]\n",
      "36\n"
     ]
    }
   ],
   "source": [
    "print(importances)\n",
    "print(importances.size)\n",
    "print(indices)\n",
    "print(indices.size)"
   ]
  },
  {
   "cell_type": "code",
   "execution_count": 29,
   "metadata": {},
   "outputs": [
    {
     "name": "stdout",
     "output_type": "stream",
     "text": [
      "Feature ranking:\n",
      "1. feature 20 (0.172466)\n",
      "2. feature 1 (0.085306)\n",
      "3. feature 0 (0.084330)\n",
      "4. feature 9 (0.068901)\n",
      "5. feature 31 (0.038178)\n",
      "6. feature 27 (0.035180)\n",
      "7. feature 2 (0.033224)\n",
      "8. feature 34 (0.033155)\n",
      "9. feature 35 (0.031746)\n",
      "10. feature 8 (0.031367)\n",
      "11. feature 28 (0.028911)\n",
      "12. feature 25 (0.028706)\n",
      "13. feature 21 (0.028596)\n",
      "14. feature 5 (0.027846)\n",
      "15. feature 26 (0.026656)\n",
      "16. feature 7 (0.024577)\n",
      "17. feature 6 (0.024316)\n",
      "18. feature 15 (0.024096)\n",
      "19. feature 19 (0.023505)\n",
      "20. feature 3 (0.021572)\n",
      "21. feature 10 (0.020818)\n",
      "22. feature 12 (0.017834)\n",
      "23. feature 16 (0.013757)\n",
      "24. feature 32 (0.012183)\n",
      "25. feature 30 (0.011792)\n",
      "26. feature 11 (0.011428)\n",
      "27. feature 17 (0.009562)\n",
      "28. feature 24 (0.007383)\n",
      "29. feature 23 (0.005068)\n",
      "30. feature 22 (0.003675)\n",
      "31. feature 29 (0.003453)\n",
      "32. feature 14 (0.003414)\n",
      "33. feature 33 (0.003316)\n",
      "34. feature 4 (0.003195)\n",
      "35. feature 18 (0.000489)\n",
      "36. feature 13 (0.000000)\n"
     ]
    }
   ],
   "source": [
    "# Print the feature ranking\n",
    "print(\"Feature ranking:\")\n",
    "\n",
    "for f in range(X.shape[1]):\n",
    "    print(\"%d. feature %d (%f)\" % (f + 1, indices[f], importances[indices[f]]))"
   ]
  },
  {
   "cell_type": "code",
   "execution_count": 30,
   "metadata": {
    "scrolled": false
   },
   "outputs": [
    {
     "data": {
      "image/png": "[encoded data removed]",
      "text/plain": [
       "<Figure size 1800x720 with 1 Axes>"
      ]
     },
     "metadata": {
      "needs_background": "light"
     },
     "output_type": "display_data"
    }
   ],
   "source": [
    "# Plot the feature importances of the forest\n",
    "plt.figure(figsize=(25,10))\n",
    "plt.title('Feature Impotances: Using ExtraTreesClassifier',y=-0.1,fontsize=25)\n",
    "plt.bar(range(X.shape[1]), importances[indices],color=\"r\", yerr=std[indices], align=\"center\")\n",
    "plt.xticks(range(X.shape[1]), indices)\n",
    "plt.xlim([-1, X.shape[1]])\n",
    "plt.rcParams.update({'font.size': 20})\n",
    "\n",
    "plt.savefig(\"ExtraTreesClassifier.png\")\n",
    "#plt.show()"
   ]
  },
  {
   "cell_type": "markdown",
   "metadata": {},
   "source": [
    "# Random Forest Classifier"
   ]
  },
  {
   "cell_type": "code",
   "execution_count": 31,
   "metadata": {},
   "outputs": [],
   "source": [
    "from sklearn.ensemble import RandomForestClassifier"
   ]
  },
  {
   "cell_type": "code",
   "execution_count": 32,
   "metadata": {},
   "outputs": [],
   "source": [
    "forest = RandomForestClassifier(n_estimators=50)"
   ]
  },
  {
   "cell_type": "code",
   "execution_count": 33,
   "metadata": {},
   "outputs": [],
   "source": [
    "forest.fit(X, y)\n",
    "importances = forest.feature_importances_\n",
    "std = np.std([tree.feature_importances_ for tree in forest.estimators_],axis=0)\n",
    "indices = np.argsort(importances)[::-1]"
   ]
  },
  {
   "cell_type": "code",
   "execution_count": 34,
   "metadata": {},
   "outputs": [
    {
     "name": "stdout",
     "output_type": "stream",
     "text": [
      "Feature ranking:\n",
      "1. feature 31 (0.155972)\n",
      "2. feature 1 (0.130394)\n",
      "3. feature 20 (0.102355)\n",
      "4. feature 0 (0.066767)\n",
      "5. feature 3 (0.045233)\n",
      "6. feature 34 (0.040412)\n",
      "7. feature 9 (0.035411)\n",
      "8. feature 25 (0.034889)\n",
      "9. feature 26 (0.032997)\n",
      "10. feature 27 (0.032606)\n",
      "11. feature 28 (0.026645)\n",
      "12. feature 21 (0.026206)\n",
      "13. feature 35 (0.024901)\n",
      "14. feature 32 (0.024486)\n",
      "15. feature 2 (0.022421)\n",
      "16. feature 8 (0.021737)\n",
      "17. feature 10 (0.020674)\n",
      "18. feature 19 (0.019903)\n",
      "19. feature 12 (0.015130)\n",
      "20. feature 15 (0.014042)\n",
      "21. feature 5 (0.014002)\n",
      "22. feature 6 (0.013858)\n",
      "23. feature 7 (0.012843)\n",
      "24. feature 16 (0.012602)\n",
      "25. feature 30 (0.010985)\n",
      "26. feature 11 (0.010846)\n",
      "27. feature 17 (0.009549)\n",
      "28. feature 24 (0.006506)\n",
      "29. feature 4 (0.003696)\n",
      "30. feature 33 (0.003029)\n",
      "31. feature 23 (0.002936)\n",
      "32. feature 14 (0.002179)\n",
      "33. feature 29 (0.001844)\n",
      "34. feature 22 (0.001548)\n",
      "35. feature 18 (0.000397)\n",
      "36. feature 13 (0.000000)\n"
     ]
    }
   ],
   "source": [
    "# Print the feature ranking WHEN n_estimators=50\n",
    "print(\"Feature ranking:\")\n",
    "\n",
    "for f in range(X.shape[1]):\n",
    "    print(\"%d. feature %d (%f)\" % (f + 1, indices[f], importances[indices[f]]))"
   ]
  },
  {
   "cell_type": "code",
   "execution_count": 35,
   "metadata": {},
   "outputs": [
    {
     "data": {
      "image/png": "[encoded data removed]",
      "text/plain": [
       "<Figure size 1800x720 with 1 Axes>"
      ]
     },
     "metadata": {
      "needs_background": "light"
     },
     "output_type": "display_data"
    }
   ],
   "source": [
    "#Plot the feature importances of the forest\n",
    "plt.figure(figsize=(25,10))\n",
    "plt.title('Feature Impotances: Using RandomForestClassifier',y=-0.1,fontsize=25)\n",
    "plt.bar(range(X.shape[1]), importances[indices],color=\"r\", yerr=std[indices], align=\"center\")\n",
    "plt.xticks(range(X.shape[1]), indices)\n",
    "plt.xlim([-1, X.shape[1]])\n",
    "plt.rcParams.update({'font.size': 20})\n",
    "\n",
    "plt.savefig(\"RandomForestClassifier.png\")\n",
    "plt.show()"
   ]
  },
  {
   "cell_type": "markdown",
   "metadata": {},
   "source": [
    "# L1-based"
   ]
  },
  {
   "cell_type": "code",
   "execution_count": null,
   "metadata": {},
   "outputs": [],
   "source": [
    "from sklearn.svm import LinearSVC\n",
    "\n",
    "lsvc = LinearSVC(C=0.01, penalty=\"l1\", dual=False)"
   ]
  },
  {
   "cell_type": "code",
   "execution_count": null,
   "metadata": {},
   "outputs": [],
   "source": [
    "lsvc.fit(X,y)\n",
    "\n",
    "importances = lsvc.feature_importances_\n",
    "std = np.std([tree.feature_importances_ for tree in lsvc.estimators_],axis=0)\n",
    "indices = np.argsort(importances)[::-1]"
   ]
  },
  {
   "cell_type": "code",
   "execution_count": null,
   "metadata": {},
   "outputs": [],
   "source": [
    "# Print the feature ranking\n",
    "print(\"Feature ranking:\")\n",
    "\n",
    "for f in range(X.shape[1]):\n",
    "    print(\"%d. feature %d (%f)\" % (f + 1, indices[f], importances[indices[f]]))"
   ]
  },
  {
   "cell_type": "code",
   "execution_count": null,
   "metadata": {},
   "outputs": [],
   "source": [
    "# Plot the feature importances of the forest\n",
    "plt.figure(figsize=(20,10))\n",
    "plt.title('Feature Impotances: Using LinearSVC',y=-0.1,fontsize=20)\n",
    "plt.bar(range(X.shape[1]), importances[indices],color=\"r\", yerr=std[indices], align=\"center\")\n",
    "plt.xticks(range(X.shape[1]), indices)\n",
    "plt.xlim([-1, X.shape[1]])\n",
    "\n",
    "plt.savefig(\"LinearSVC.png\")\n",
    "#plt.show()"
   ]
  }
 ],
 "metadata": {
  "kernelspec": {
   "display_name": "Python 3",
   "language": "python",
   "name": "python3"
  },
  "language_info": {
   "codemirror_mode": {
    "name": "ipython",
    "version": 3
   },
   "file_extension": ".py",
   "mimetype": "text/x-python",
   "name": "python",
   "nbconvert_exporter": "python",
   "pygments_lexer": "ipython3",
   "version": "3.7.8"
  }
 },
 "nbformat": 4,
 "nbformat_minor": 2
}
