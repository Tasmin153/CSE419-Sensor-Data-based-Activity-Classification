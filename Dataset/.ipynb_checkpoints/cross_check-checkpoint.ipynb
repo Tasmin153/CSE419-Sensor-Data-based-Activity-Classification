{
 "cells": [
  {
   "cell_type": "code",
   "execution_count": 1,
   "metadata": {},
   "outputs": [],
   "source": [
    "import numpy as np\n",
    "import pandas as pd\n",
    "import matplotlib.pyplot as plt\n",
    "from glob import glob\n",
    "from tqdm import tqdm"
   ]
  },
  {
   "cell_type": "code",
   "execution_count": 2,
   "metadata": {},
   "outputs": [
    {
     "data": {
      "text/plain": [
       "['dataset_6.csv',\n",
       " 'dataset_5.csv',\n",
       " 'dataset_4.csv',\n",
       " 'dataset_1.csv',\n",
       " 'dataset_3.csv',\n",
       " 'dataset_2.csv']"
      ]
     },
     "execution_count": 2,
     "metadata": {},
     "output_type": "execute_result"
    }
   ],
   "source": []
  },
  {
   "cell_type": "code",
   "execution_count": 13,
   "metadata": {},
   "outputs": [],
   "source": [
    "def file_path(path):\n",
    "    temp = []\n",
    "\n",
    "    for i in glob(path+\".csv\"):\n",
    "        temp.append(i)\n",
    "    return temp\n",
    "\n",
    "def data_count(file_list):\n",
    "    count = 0\n",
    "\n",
    "    for file in f1:\n",
    "        temp = pd.read_csv(file)\n",
    "        count+=temp.shape[0]\n",
    "    return count"
   ]
  },
  {
   "cell_type": "code",
   "execution_count": 14,
   "metadata": {},
   "outputs": [
    {
     "name": "stdout",
     "output_type": "stream",
     "text": [
      "447530\n",
      "447530\n"
     ]
    }
   ],
   "source": [
    "# without feature extraction\n",
    "f1 = file_path(\"dataset_*\")\n",
    "print(data_count(f1))\n",
    "\n",
    "# with feature extraction\n",
    "f2 = file_path(\"New folder/data_*\")\n",
    "print(data_count(f2))"
   ]
  },
  {
   "cell_type": "code",
   "execution_count": null,
   "metadata": {},
   "outputs": [],
   "source": []
  }
 ],
 "metadata": {
  "kernelspec": {
   "display_name": "Python 3",
   "language": "python",
   "name": "python3"
  },
  "language_info": {
   "codemirror_mode": {
    "name": "ipython",
    "version": 3
   },
   "file_extension": ".py",
   "mimetype": "text/x-python",
   "name": "python",
   "nbconvert_exporter": "python",
   "pygments_lexer": "ipython3",
   "version": "3.7.3"
  }
 },
 "nbformat": 4,
 "nbformat_minor": 2
}
