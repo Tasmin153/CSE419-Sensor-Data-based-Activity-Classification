{
 "cells": [
  {
   "cell_type": "code",
   "execution_count": 1,
   "metadata": {},
   "outputs": [],
   "source": [
    "#https://scikit-learn.org/stable/auto_examples/ensemble/plot_forest_importances.html\n",
    "\n",
    "import numpy as np\n",
    "import pandas as pd\n",
    "import matplotlib.pyplot as plt\n",
    "\n",
    "from tqdm import tqdm"
   ]
  },
  {
   "cell_type": "code",
   "execution_count": 2,
   "metadata": {},
   "outputs": [],
   "source": [
    "pd_data = pd.read_csv('new_dataset.csv')"
   ]
  },
  {
   "cell_type": "code",
   "execution_count": 3,
   "metadata": {},
   "outputs": [
    {
     "data": {
      "text/plain": [
       "(447530, 37)"
      ]
     },
     "execution_count": 3,
     "metadata": {},
     "output_type": "execute_result"
    }
   ],
   "source": [
    "pd_data.shape"
   ]
  },
  {
   "cell_type": "code",
   "execution_count": 4,
   "metadata": {},
   "outputs": [],
   "source": [
    "feature_list = []\n",
    "\n",
    "for i in pd_data:\n",
    "    feature_list.append(i)"
   ]
  },
  {
   "cell_type": "code",
   "execution_count": 5,
   "metadata": {},
   "outputs": [
    {
     "data": {
      "text/html": [
       "<div>\n",
       "<style scoped>\n",
       "    .dataframe tbody tr th:only-of-type {\n",
       "        vertical-align: middle;\n",
       "    }\n",
       "\n",
       "    .dataframe tbody tr th {\n",
       "        vertical-align: top;\n",
       "    }\n",
       "\n",
       "    .dataframe thead th {\n",
       "        text-align: right;\n",
       "    }\n",
       "</style>\n",
       "<table border=\"1\" class=\"dataframe\">\n",
       "  <thead>\n",
       "    <tr style=\"text-align: right;\">\n",
       "      <th></th>\n",
       "      <th>lastSensorEventHours</th>\n",
       "      <th>lastSensorEventSeconds</th>\n",
       "      <th>lastSensorDayOfWeek</th>\n",
       "      <th>windowDuration</th>\n",
       "      <th>timeSinceLastSensorEvent</th>\n",
       "      <th>prevDominantSensor1</th>\n",
       "      <th>prevDominantSensor2</th>\n",
       "      <th>lastSensorID</th>\n",
       "      <th>lastSensorLocation</th>\n",
       "      <th>lastMotionLocation</th>\n",
       "      <th>...</th>\n",
       "      <th>sensorElTime-Bedroom</th>\n",
       "      <th>sensorElTime-Chair</th>\n",
       "      <th>sensorElTime-DiningRoom</th>\n",
       "      <th>sensorElTime-Hall</th>\n",
       "      <th>sensorElTime-Ignore</th>\n",
       "      <th>sensorElTime-Kitchen</th>\n",
       "      <th>sensorElTime-LivingRoom</th>\n",
       "      <th>sensorElTime-Office</th>\n",
       "      <th>sensorElTime-OutsideDoor</th>\n",
       "      <th>sensorElTime-WorkArea</th>\n",
       "    </tr>\n",
       "  </thead>\n",
       "  <tbody>\n",
       "    <tr>\n",
       "      <th>0</th>\n",
       "      <td>11</td>\n",
       "      <td>42604</td>\n",
       "      <td>4</td>\n",
       "      <td>245</td>\n",
       "      <td>1</td>\n",
       "      <td>7</td>\n",
       "      <td>7</td>\n",
       "      <td>7</td>\n",
       "      <td>7</td>\n",
       "      <td>7</td>\n",
       "      <td>...</td>\n",
       "      <td>593.410195</td>\n",
       "      <td>86400.0</td>\n",
       "      <td>259.601396</td>\n",
       "      <td>86400.0</td>\n",
       "      <td>0.051314</td>\n",
       "      <td>263.245869</td>\n",
       "      <td>0.000000</td>\n",
       "      <td>86400.0</td>\n",
       "      <td>223.686032</td>\n",
       "      <td>86400.0</td>\n",
       "    </tr>\n",
       "    <tr>\n",
       "      <th>1</th>\n",
       "      <td>11</td>\n",
       "      <td>42605</td>\n",
       "      <td>4</td>\n",
       "      <td>244</td>\n",
       "      <td>1</td>\n",
       "      <td>7</td>\n",
       "      <td>7</td>\n",
       "      <td>5</td>\n",
       "      <td>5</td>\n",
       "      <td>7</td>\n",
       "      <td>...</td>\n",
       "      <td>594.506715</td>\n",
       "      <td>86400.0</td>\n",
       "      <td>260.697916</td>\n",
       "      <td>86400.0</td>\n",
       "      <td>0.000000</td>\n",
       "      <td>264.342389</td>\n",
       "      <td>1.096520</td>\n",
       "      <td>86400.0</td>\n",
       "      <td>224.782552</td>\n",
       "      <td>86400.0</td>\n",
       "    </tr>\n",
       "    <tr>\n",
       "      <th>2</th>\n",
       "      <td>11</td>\n",
       "      <td>42605</td>\n",
       "      <td>4</td>\n",
       "      <td>243</td>\n",
       "      <td>0</td>\n",
       "      <td>7</td>\n",
       "      <td>7</td>\n",
       "      <td>7</td>\n",
       "      <td>7</td>\n",
       "      <td>7</td>\n",
       "      <td>...</td>\n",
       "      <td>594.534917</td>\n",
       "      <td>86400.0</td>\n",
       "      <td>260.726118</td>\n",
       "      <td>86400.0</td>\n",
       "      <td>0.028202</td>\n",
       "      <td>264.370591</td>\n",
       "      <td>0.000000</td>\n",
       "      <td>86400.0</td>\n",
       "      <td>224.810754</td>\n",
       "      <td>86400.0</td>\n",
       "    </tr>\n",
       "    <tr>\n",
       "      <th>3</th>\n",
       "      <td>11</td>\n",
       "      <td>42606</td>\n",
       "      <td>4</td>\n",
       "      <td>244</td>\n",
       "      <td>1</td>\n",
       "      <td>7</td>\n",
       "      <td>7</td>\n",
       "      <td>5</td>\n",
       "      <td>5</td>\n",
       "      <td>7</td>\n",
       "      <td>...</td>\n",
       "      <td>596.207662</td>\n",
       "      <td>86400.0</td>\n",
       "      <td>262.398863</td>\n",
       "      <td>86400.0</td>\n",
       "      <td>0.000000</td>\n",
       "      <td>266.043336</td>\n",
       "      <td>1.672745</td>\n",
       "      <td>86400.0</td>\n",
       "      <td>226.483499</td>\n",
       "      <td>86400.0</td>\n",
       "    </tr>\n",
       "    <tr>\n",
       "      <th>4</th>\n",
       "      <td>11</td>\n",
       "      <td>42608</td>\n",
       "      <td>4</td>\n",
       "      <td>243</td>\n",
       "      <td>2</td>\n",
       "      <td>7</td>\n",
       "      <td>7</td>\n",
       "      <td>5</td>\n",
       "      <td>5</td>\n",
       "      <td>7</td>\n",
       "      <td>...</td>\n",
       "      <td>597.818360</td>\n",
       "      <td>86400.0</td>\n",
       "      <td>264.009561</td>\n",
       "      <td>86400.0</td>\n",
       "      <td>0.000000</td>\n",
       "      <td>267.654034</td>\n",
       "      <td>3.283443</td>\n",
       "      <td>86400.0</td>\n",
       "      <td>228.094197</td>\n",
       "      <td>86400.0</td>\n",
       "    </tr>\n",
       "  </tbody>\n",
       "</table>\n",
       "<p>5 rows × 36 columns</p>\n",
       "</div>"
      ],
      "text/plain": [
       "   lastSensorEventHours  lastSensorEventSeconds  lastSensorDayOfWeek  \\\n",
       "0                    11                   42604                    4   \n",
       "1                    11                   42605                    4   \n",
       "2                    11                   42605                    4   \n",
       "3                    11                   42606                    4   \n",
       "4                    11                   42608                    4   \n",
       "\n",
       "   windowDuration  timeSinceLastSensorEvent  prevDominantSensor1  \\\n",
       "0             245                         1                    7   \n",
       "1             244                         1                    7   \n",
       "2             243                         0                    7   \n",
       "3             244                         1                    7   \n",
       "4             243                         2                    7   \n",
       "\n",
       "   prevDominantSensor2  lastSensorID  lastSensorLocation  lastMotionLocation  \\\n",
       "0                    7             7                   7                   7   \n",
       "1                    7             5                   5                   7   \n",
       "2                    7             7                   7                   7   \n",
       "3                    7             5                   5                   7   \n",
       "4                    7             5                   5                   7   \n",
       "\n",
       "   ...  sensorElTime-Bedroom  sensorElTime-Chair  sensorElTime-DiningRoom  \\\n",
       "0  ...            593.410195             86400.0               259.601396   \n",
       "1  ...            594.506715             86400.0               260.697916   \n",
       "2  ...            594.534917             86400.0               260.726118   \n",
       "3  ...            596.207662             86400.0               262.398863   \n",
       "4  ...            597.818360             86400.0               264.009561   \n",
       "\n",
       "   sensorElTime-Hall  sensorElTime-Ignore  sensorElTime-Kitchen  \\\n",
       "0            86400.0             0.051314            263.245869   \n",
       "1            86400.0             0.000000            264.342389   \n",
       "2            86400.0             0.028202            264.370591   \n",
       "3            86400.0             0.000000            266.043336   \n",
       "4            86400.0             0.000000            267.654034   \n",
       "\n",
       "   sensorElTime-LivingRoom  sensorElTime-Office  sensorElTime-OutsideDoor  \\\n",
       "0                 0.000000              86400.0                223.686032   \n",
       "1                 1.096520              86400.0                224.782552   \n",
       "2                 0.000000              86400.0                224.810754   \n",
       "3                 1.672745              86400.0                226.483499   \n",
       "4                 3.283443              86400.0                228.094197   \n",
       "\n",
       "   sensorElTime-WorkArea  \n",
       "0                86400.0  \n",
       "1                86400.0  \n",
       "2                86400.0  \n",
       "3                86400.0  \n",
       "4                86400.0  \n",
       "\n",
       "[5 rows x 36 columns]"
      ]
     },
     "execution_count": 5,
     "metadata": {},
     "output_type": "execute_result"
    }
   ],
   "source": [
    "X = pd_data.loc[:, feature_list[:-1]]\n",
    "y = pd_data.loc[:, ['activity']]\n",
    "X.head()"
   ]
  },
  {
   "cell_type": "markdown",
   "metadata": {},
   "source": [
    "# Tree Classifier"
   ]
  },
  {
   "cell_type": "code",
   "execution_count": 6,
   "metadata": {},
   "outputs": [],
   "source": [
    "from sklearn.ensemble import ExtraTreesClassifier\n",
    "def ExtraTreesClassifier(X,y):\n",
    "    forest = ExtraTreesClassifier(n_estimators=250,random_state=0)\n",
    "    forest.fit(X, y)\n",
    "    importances = forest.feature_importances_\n",
    "    std = np.std([tree.feature_importances_ for tree in forest.estimators_],axis=0)\n",
    "    indices = np.argsort(importances)[::-1]\n",
    "    return X[X.columns[temp.get_support(indices=True)]]"
   ]
  },
  {
   "cell_type": "code",
   "execution_count": null,
   "metadata": {},
   "outputs": [],
   "source": [
    "# forest.fit(X, y)\n",
    "# importances = forest.feature_importances_\n",
    "# std = np.std([tree.feature_importances_ for tree in forest.estimators_],axis=0)\n",
    "# indices = np.argsort(importances)[::-1]"
   ]
  },
  {
   "cell_type": "code",
   "execution_count": 9,
   "metadata": {},
   "outputs": [
    {
     "name": "stdout",
     "output_type": "stream",
     "text": [
      "Feature ranking:\n",
      "1. feature 20 (0.153283)\n",
      "2. feature 0 (0.087287)\n",
      "3. feature 1 (0.085212)\n",
      "4. feature 9 (0.067567)\n",
      "5. feature 21 (0.036598)\n",
      "6. feature 27 (0.036238)\n",
      "7. feature 31 (0.035192)\n",
      "8. feature 34 (0.033122)\n",
      "9. feature 2 (0.033049)\n",
      "10. feature 8 (0.032816)\n",
      "11. feature 7 (0.030573)\n",
      "12. feature 35 (0.029719)\n",
      "13. feature 28 (0.029281)\n",
      "14. feature 25 (0.028826)\n",
      "15. feature 5 (0.027868)\n",
      "16. feature 26 (0.025596)\n",
      "17. feature 6 (0.025360)\n",
      "18. feature 3 (0.024540)\n",
      "19. feature 19 (0.024345)\n",
      "20. feature 15 (0.022527)\n"
     ]
    }
   ],
   "source": [
    "# Print the feature ranking\n",
    "print(\"Feature ranking:\")\n",
    "\n",
    "for f in range(20):\n",
    "    print(\"%d. feature %d (%f)\" % (f + 1, indices[f], importances[indices[f]]))"
   ]
  },
  {
   "cell_type": "code",
   "execution_count": 10,
   "metadata": {},
   "outputs": [
    {
     "data": {
      "image/png": "[encoded data removed]",
      "text/plain": [
       "<Figure size 1440x720 with 1 Axes>"
      ]
     },
     "metadata": {
      "needs_background": "light"
     },
     "output_type": "display_data"
    }
   ],
   "source": [
    "# Plot the feature importances of the forest\n",
    "plt.figure(figsize=(20,10))\n",
    "plt.title('Feature Impotances: Using ExtraTreesClassifier',y=-0.1,fontsize=20)\n",
    "plt.bar(range(X.shape[1]), importances[indices],color=\"r\", yerr=std[indices], align=\"center\")\n",
    "plt.xticks(range(X.shape[1]), indices)\n",
    "plt.xlim([-1, X.shape[1]])\n",
    "\n",
    "plt.savefig(\"ExtraTreesClassifier.png\")\n",
    "#plt.show()"
   ]
  },
  {
   "cell_type": "markdown",
   "metadata": {},
   "source": [
    "# Random Forest Classifier"
   ]
  },
  {
   "cell_type": "code",
   "execution_count": 11,
   "metadata": {},
   "outputs": [],
   "source": [
    "from sklearn.ensemble import RandomForestClassifier"
   ]
  },
  {
   "cell_type": "code",
   "execution_count": 12,
   "metadata": {},
   "outputs": [],
   "source": [
    "forest = RandomForestClassifier(n_estimators=50)"
   ]
  },
  {
   "cell_type": "code",
   "execution_count": 13,
   "metadata": {},
   "outputs": [
    {
     "name": "stderr",
     "output_type": "stream",
     "text": [
      "C:\\Users\\Administrator\\Anaconda3\\lib\\site-packages\\ipykernel_launcher.py:1: DataConversionWarning: A column-vector y was passed when a 1d array was expected. Please change the shape of y to (n_samples,), for example using ravel().\n",
      "  \"\"\"Entry point for launching an IPython kernel.\n"
     ]
    }
   ],
   "source": [
    "forest.fit(X, y)\n",
    "importances = forest.feature_importances_\n",
    "std = np.std([tree.feature_importances_ for tree in forest.estimators_],axis=0)\n",
    "indices = np.argsort(importances)[::-1]"
   ]
  },
  {
   "cell_type": "code",
   "execution_count": 14,
   "metadata": {},
   "outputs": [
    {
     "name": "stdout",
     "output_type": "stream",
     "text": [
      "Feature ranking:\n",
      "1. feature 31 (0.161421)\n",
      "2. feature 1 (0.118486)\n",
      "3. feature 20 (0.089119)\n",
      "4. feature 0 (0.076853)\n",
      "5. feature 3 (0.052879)\n",
      "6. feature 34 (0.042441)\n",
      "7. feature 9 (0.037538)\n",
      "8. feature 26 (0.034502)\n",
      "9. feature 25 (0.033958)\n",
      "10. feature 27 (0.031250)\n",
      "11. feature 8 (0.026439)\n",
      "12. feature 28 (0.024691)\n",
      "13. feature 32 (0.023092)\n",
      "14. feature 2 (0.022949)\n",
      "15. feature 35 (0.022061)\n",
      "16. feature 21 (0.021740)\n",
      "17. feature 19 (0.018998)\n",
      "18. feature 15 (0.018420)\n",
      "19. feature 10 (0.017098)\n",
      "20. feature 7 (0.016592)\n",
      "21. feature 5 (0.015456)\n",
      "22. feature 12 (0.014357)\n",
      "23. feature 6 (0.013192)\n",
      "24. feature 16 (0.012170)\n",
      "25. feature 17 (0.011485)\n",
      "26. feature 11 (0.011009)\n",
      "27. feature 30 (0.010991)\n",
      "28. feature 24 (0.005686)\n",
      "29. feature 4 (0.003809)\n",
      "30. feature 23 (0.002944)\n",
      "31. feature 14 (0.002192)\n",
      "32. feature 33 (0.002174)\n",
      "33. feature 29 (0.001819)\n",
      "34. feature 22 (0.001712)\n",
      "35. feature 18 (0.000477)\n",
      "36. feature 13 (0.000000)\n"
     ]
    }
   ],
   "source": [
    "# Print the feature ranking WHEN n_estimators=50\n",
    "print(\"Feature ranking:\")\n",
    "\n",
    "for f in range(X.shape[1]):\n",
    "    print(\"%d. feature %d (%f)\" % (f + 1, indices[f], importances[indices[f]]))"
   ]
  },
  {
   "cell_type": "code",
   "execution_count": 15,
   "metadata": {},
   "outputs": [
    {
     "name": "stdout",
     "output_type": "stream",
     "text": [
      "Feature ranking:\n",
      "1. feature 31 (0.161421)\n",
      "2. feature 1 (0.118486)\n",
      "3. feature 20 (0.089119)\n",
      "4. feature 0 (0.076853)\n",
      "5. feature 3 (0.052879)\n",
      "6. feature 34 (0.042441)\n",
      "7. feature 9 (0.037538)\n",
      "8. feature 26 (0.034502)\n",
      "9. feature 25 (0.033958)\n",
      "10. feature 27 (0.031250)\n",
      "11. feature 8 (0.026439)\n",
      "12. feature 28 (0.024691)\n",
      "13. feature 32 (0.023092)\n",
      "14. feature 2 (0.022949)\n",
      "15. feature 35 (0.022061)\n",
      "16. feature 21 (0.021740)\n",
      "17. feature 19 (0.018998)\n",
      "18. feature 15 (0.018420)\n",
      "19. feature 10 (0.017098)\n",
      "20. feature 7 (0.016592)\n",
      "21. feature 5 (0.015456)\n",
      "22. feature 12 (0.014357)\n",
      "23. feature 6 (0.013192)\n",
      "24. feature 16 (0.012170)\n",
      "25. feature 17 (0.011485)\n",
      "26. feature 11 (0.011009)\n",
      "27. feature 30 (0.010991)\n",
      "28. feature 24 (0.005686)\n",
      "29. feature 4 (0.003809)\n",
      "30. feature 23 (0.002944)\n",
      "31. feature 14 (0.002192)\n",
      "32. feature 33 (0.002174)\n",
      "33. feature 29 (0.001819)\n",
      "34. feature 22 (0.001712)\n",
      "35. feature 18 (0.000477)\n",
      "36. feature 13 (0.000000)\n"
     ]
    }
   ],
   "source": [
    "# Print the feature ranking WHEN n_estimators=200\n",
    "print(\"Feature ranking:\")\n",
    "\n",
    "for f in range(X.shape[1]):\n",
    "    print(\"%d. feature %d (%f)\" % (f + 1, indices[f], importances[indices[f]]))"
   ]
  },
  {
   "cell_type": "code",
   "execution_count": 16,
   "metadata": {},
   "outputs": [
    {
     "data": {
      "image/png": "[encoded data removed]",
      "text/plain": [
       "<Figure size 1440x720 with 1 Axes>"
      ]
     },
     "metadata": {
      "needs_background": "light"
     },
     "output_type": "display_data"
    }
   ],
   "source": [
    "# Plot the feature importances of the forest\n",
    "plt.figure(figsize=(20,10))\n",
    "plt.title('Feature Impotances: Using RandomForestClassifier',y=-0.1,fontsize=20)\n",
    "plt.bar(range(X.shape[1]), importances[indices],color=\"r\", yerr=std[indices], align=\"center\")\n",
    "plt.xticks(range(X.shape[1]), indices)\n",
    "plt.xlim([-1, X.shape[1]])\n",
    "\n",
    "plt.savefig(\"RandomForestClassifier.png\")\n",
    "#plt.show()"
   ]
  },
  {
   "cell_type": "markdown",
   "metadata": {},
   "source": [
    "# L1-based"
   ]
  },
  {
   "cell_type": "code",
   "execution_count": 17,
   "metadata": {},
   "outputs": [],
   "source": [
    "from sklearn.svm import LinearSVC\n",
    "\n",
    "lsvc = LinearSVC(C=0.01, penalty=\"l1\", dual=False)"
   ]
  },
  {
   "cell_type": "code",
   "execution_count": null,
   "metadata": {},
   "outputs": [
    {
     "name": "stderr",
     "output_type": "stream",
     "text": [
      "C:\\Users\\Administrator\\Anaconda3\\lib\\site-packages\\sklearn\\utils\\validation.py:761: DataConversionWarning: A column-vector y was passed when a 1d array was expected. Please change the shape of y to (n_samples, ), for example using ravel().\n",
      "  y = column_or_1d(y, warn=True)\n"
     ]
    }
   ],
   "source": [
    "lsvc.fit(X,y)\n",
    "\n",
    "importances = lsvc.feature_importances_\n",
    "std = np.std([tree.feature_importances_ for tree in lsvc.estimators_],axis=0)\n",
    "indices = np.argsort(importances)[::-1]"
   ]
  },
  {
   "cell_type": "code",
   "execution_count": null,
   "metadata": {},
   "outputs": [],
   "source": [
    "# Print the feature ranking\n",
    "print(\"Feature ranking:\")\n",
    "\n",
    "for f in range(X.shape[1]):\n",
    "    print(\"%d. feature %d (%f)\" % (f + 1, indices[f], importances[indices[f]]))"
   ]
  },
  {
   "cell_type": "code",
   "execution_count": null,
   "metadata": {},
   "outputs": [],
   "source": [
    "# Plot the feature importances of the forest\n",
    "plt.figure(figsize=(20,10))\n",
    "plt.title('Feature Impotances: Using LinearSVC',y=-0.1,fontsize=20)\n",
    "plt.bar(range(X.shape[1]), importances[indices],color=\"r\", yerr=std[indices], align=\"center\")\n",
    "plt.xticks(range(X.shape[1]), indices)\n",
    "plt.xlim([-1, X.shape[1]])\n",
    "\n",
    "plt.savefig(\"LinearSVC.png\")\n",
    "#plt.show()"
   ]
  }
 ],
 "metadata": {
  "kernelspec": {
   "display_name": "Python 3",
   "language": "python",
   "name": "python3"
  }
 },
 "nbformat": 4,
 "nbformat_minor": 2
}
